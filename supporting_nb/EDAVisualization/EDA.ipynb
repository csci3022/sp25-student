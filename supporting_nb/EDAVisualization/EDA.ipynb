{
 "cells": [
  {
   "cell_type": "markdown",
   "id": "f32b1ffd-6b46-41d2-91ea-58a02cd4ee31",
   "metadata": {},
   "source": [
    "# Exploratory Data Analysis \n",
    "[Acknowledgments Page](https://ds100.org/fa23/acks/)"
   ]
  },
  {
   "cell_type": "code",
   "execution_count": 1,
   "id": "52653181-9343-44e4-b198-540a5f3b4b28",
   "metadata": {
    "ExecuteTime": {
     "end_time": "2018-02-02T15:15:15.363920Z",
     "start_time": "2018-02-02T15:15:14.337886Z"
    }
   },
   "outputs": [],
   "source": [
    "import numpy as np\n",
    "import pandas as pd"
   ]
  },
  {
   "cell_type": "code",
   "execution_count": 2,
   "id": "c76a6c48-110a-498a-918e-4269e519b83c",
   "metadata": {},
   "outputs": [],
   "source": [
    "import matplotlib.pyplot as plt\n",
    "import seaborn as sns\n",
    "#%matplotlib inline\n",
    "plt.rcParams['figure.figsize'] = (12, 9)\n",
    "\n",
    "sns.set()\n",
    "sns.set_context('talk')\n",
    "np.set_printoptions(threshold=20, precision=2, suppress=True)\n",
    "pd.set_option('display.max_rows', 30)\n",
    "pd.set_option('display.max_columns', None)\n",
    "pd.set_option('display.precision', 2)\n",
    "# This option stops scientific notation for pandas\n",
    "pd.set_option('display.float_format', '{:.2f}'.format)\n",
    "\n",
    "# Silence some spurious seaborn warnings\n",
    "import warnings\n",
    "warnings.filterwarnings(\"ignore\", category=FutureWarning)"
   ]
  },
  {
   "cell_type": "markdown",
   "id": "26fe9f52-e4d4-4066-a56c-b5575061b979",
   "metadata": {},
   "source": [
    "# Tuberculosis in the United States"
   ]
  },
  {
   "cell_type": "markdown",
   "id": "d8e1ed79-85c3-4654-bd00-f546e7fea6c0",
   "metadata": {},
   "source": [
    "What can we say about the presence of Tuberculosis in the United States?\n",
    "\n",
    "Let's look at the data included in the [original CDC article](https://www.cdc.gov/mmwr/volumes/71/wr/mm7112a1.htm?s_cid=mm7112a1_w#T1_down) published in 2021."
   ]
  },
  {
   "cell_type": "markdown",
   "id": "ce8867f0-f161-404d-9cd6-7c85d997d2c5",
   "metadata": {},
   "source": [
    "<br/>\n",
    "\n",
    "---\n",
    "\n",
    "# CSV and Nice Field Names\n",
    "Suppose Table 1 was saved as a CSV file located in `data/cdc_tuberculosis.csv`.\n",
    "\n",
    "(Side note: For the purposes of this demo, I actually manually made this CSV by copy-pasting into Excel, then saved as .csv. The powers of data science 🥳)"
   ]
  },
  {
   "cell_type": "markdown",
   "id": "39d1eccf-0803-4056-ac5a-ca33c0263b43",
   "metadata": {},
   "source": [
    "We can then explore the CSV (which is a text file, and does not contain binary-encoded data) in many ways:\n",
    "1. Using a text editor like emacs, vim, VSCode, etc.\n",
    "2. Opening the CSV directly in DataHub (read-only), Excel, Google Sheets, etc.\n",
    "3. The Python file object\n",
    "4. pandas, using `pd.read_csv()`\n",
    "\n",
    "1, 2. Let's start with the first two so we really solidify the idea of a CSV as **rectangular data (i.e., tabular data) stored as comma-separated values**."
   ]
  },
  {
   "cell_type": "markdown",
   "id": "11bbc449-ca93-45d7-9f07-354f9db54eb7",
   "metadata": {},
   "source": [
    "<br/>\n",
    "\n",
    "---\n",
    "\n",
    "3. Next, let's try using the Python file object. Let's check out the first four lines:"
   ]
  },
  {
   "cell_type": "code",
   "execution_count": null,
   "id": "6bf63a84-db3d-4f88-82e2-d49053d84b2e",
   "metadata": {},
   "outputs": [],
   "source": [
    "with open(\"data/cdc_tuberculosis.csv\", \"r\") as f:\n",
    "    for i, row in enumerate(f):\n",
    "        print(row)\n",
    "        if i >= 3: break"
   ]
  },
  {
   "cell_type": "markdown",
   "id": "3a1aa938-30b1-4929-9696-470b2dfb6c1c",
   "metadata": {},
   "source": [
    "Whoa, why are there blank lines interspaced between the lines of the CSV?\n",
    "\n",
    "You may recall that all line breaks in text files are encoded as the special newline character `\\n`. Python's `print()` prints each string (including the newline), and an additional newline on top of that.\n",
    "\n",
    "If you're curious, we can use the `repr()` function to return the raw string with all special characters:"
   ]
  },
  {
   "cell_type": "code",
   "execution_count": null,
   "id": "664eb6b6-b671-4314-a20f-5a99ed8ae544",
   "metadata": {},
   "outputs": [],
   "source": [
    "with open(\"data/cdc_tuberculosis.csv\", \"r\") as f:\n",
    "    for i, row in enumerate(f):\n",
    "        print(repr(row)) # print raw strings\n",
    "        if i >= 3: break"
   ]
  },
  {
   "cell_type": "markdown",
   "id": "2ffbfc29-5c6c-4b6c-be75-9b3d549d4159",
   "metadata": {},
   "source": [
    "<br/>\n",
    "\n",
    "---\n",
    "\n",
    "4. Finally, let's see the tried-and-true CSPB 3022 approach: pandas."
   ]
  },
  {
   "cell_type": "code",
   "execution_count": null,
   "id": "f8348a64-0454-440a-ac02-c0c796aea68b",
   "metadata": {},
   "outputs": [],
   "source": [
    "tb_df = pd.read_csv(\"data/cdc_tuberculosis.csv\")\n",
    "tb_df"
   ]
  },
  {
   "cell_type": "markdown",
   "id": "b1424618-8ae7-4e5e-837a-665f85a68006",
   "metadata": {},
   "source": [
    "Wait, what's up with the \"Unnamed\" column names? And the first row, for that matter?\n",
    "\n",
    "Congratulations -- you're ready to wrangle your data. Because of how things are stored, we'll need to clean the data a bit to name our columns better."
   ]
  },
  {
   "cell_type": "markdown",
   "id": "c24610db-deef-4760-86a7-d82e4bb18693",
   "metadata": {},
   "source": [
    "A reasonable first step is to identify the row with the right header. The `pd.read_csv()` function ([documentation](https://pandas.pydata.org/docs/reference/api/pandas.read_csv.html)) has the convenient `header` parameter:"
   ]
  },
  {
   "cell_type": "code",
   "execution_count": null,
   "id": "1a9dff58-3938-4348-8fd3-b9057fde21ac",
   "metadata": {},
   "outputs": [],
   "source": [
    "tb_df = pd.read_csv(\"data/cdc_tuberculosis.csv\", header=1) # row index\n",
    "tb_df"
   ]
  },
  {
   "cell_type": "markdown",
   "id": "c55ef769-0c85-462d-81d3-f4c0265add8b",
   "metadata": {},
   "source": [
    "Wait...but now we can't differentiate betwen the \"Number of TB cases\" and \"TB incidence\" year columns. pandas has tried to make our lives easier by automatically adding \".1\" to the latter columns, but this doesn't help us as humans understand the data.\n",
    "\n",
    "We can do this manually with `df.rename()` ([documentation](https://pandas.pydata.org/docs/reference/api/pandas.DataFrame.rename.html?highlight=rename#pandas.DataFrame.rename)):"
   ]
  },
  {
   "cell_type": "code",
   "execution_count": null,
   "id": "f9fd2029-d22d-409b-b6f1-248aad532df7",
   "metadata": {},
   "outputs": [],
   "source": [
    "rename_dict = {'2019': 'TB cases 2019',\n",
    "               '2020': 'TB cases 2020',\n",
    "               '2021': 'TB cases 2021',\n",
    "               '2019.1': 'TB incidence 2019',\n",
    "               '2020.1': 'TB incidence 2020',\n",
    "               '2021.1': 'TB incidence 2021'}\n",
    "tb_df = tb_df.rename(columns=rename_dict)\n",
    "tb_df"
   ]
  },
  {
   "cell_type": "markdown",
   "id": "1bf49b6d-fbe0-4c6e-8ab2-b541bc72e0c1",
   "metadata": {},
   "source": [
    "<br/><br/>\n",
    "\n",
    "---\n",
    "\n",
    "# Record Granularity"
   ]
  },
  {
   "cell_type": "markdown",
   "id": "271b596e-15cd-43e0-9f91-86a9eab2d9f6",
   "metadata": {},
   "source": [
    "You might already be wondering: What's up with that first record?\n",
    "\n",
    "Row 0 is what we call a **rollup record**, or summary record. It's often useful when displaying tables to humans. The **granularity** of record 0 (Totals) vs the rest of the records (States) is different."
   ]
  },
  {
   "cell_type": "markdown",
   "id": "25390b21-b853-4bea-8ac2-ed02a78fda99",
   "metadata": {},
   "source": [
    "<br/>\n",
    "\n",
    "Okay, EDA step two. How was the rollup record aggregated?\n",
    "\n",
    "Let's check if Total TB cases is the sum of all state TB cases. If we sum over all rows, we should get **2x** the total cases in each of our TB cases by year (why?)."
   ]
  },
  {
   "cell_type": "code",
   "execution_count": null,
   "id": "3c136707-b247-4ea9-93b5-79ef5b394da4",
   "metadata": {},
   "outputs": [],
   "source": [
    "tb_df.sum(axis=0)"
   ]
  },
  {
   "cell_type": "markdown",
   "id": "e3843ad9-afe2-4787-a979-5b62e4af2c4a",
   "metadata": {},
   "source": [
    "<br/>\n",
    "\n",
    "Whoa, what's going on? Check out the column types:"
   ]
  },
  {
   "cell_type": "code",
   "execution_count": null,
   "id": "cd373432-2770-4218-af2d-4cc52d32cdfa",
   "metadata": {},
   "outputs": [],
   "source": [
    "tb_df.dtypes"
   ]
  },
  {
   "cell_type": "markdown",
   "id": "105bf5fe-4a77-4335-8fd7-6c0f8ed68ad4",
   "metadata": {},
   "source": [
    "<br/>\n",
    "\n",
    "Looks like those commas are causing all TB cases to be read as the `object` datatype, or **storage type** (close to the Python string datatype), so pandas is concatenating strings instead of adding integers.\n",
    "\n",
    "<br/>\n",
    "\n",
    "Fortunately `read_csv` also has tons of parameters ([read_csv documentation](https://pandas.pydata.org/docs/reference/api/pandas.read_csv.html) this):"
   ]
  },
  {
   "cell_type": "code",
   "execution_count": null,
   "id": "539e288c-2d73-404e-8a2f-cc98d0428255",
   "metadata": {},
   "outputs": [],
   "source": [
    "# improve readability: chaining method calls with outer parentheses/line breaks\n",
    "tb_df = (\n",
    "    pd.read_csv(\"data/cdc_tuberculosis.csv\", header=1, thousands=',')\n",
    "    .rename(columns=rename_dict)\n",
    ")\n",
    "tb_df"
   ]
  },
  {
   "cell_type": "code",
   "execution_count": null,
   "id": "b0eb545c-26f4-46cb-958d-3597a2cc6784",
   "metadata": {},
   "outputs": [],
   "source": [
    "tb_df.sum()"
   ]
  },
  {
   "cell_type": "markdown",
   "id": "d8e7f6c0-6eeb-4344-9636-00e8bc4c2c2b",
   "metadata": {},
   "source": [
    "The Total TB cases look right. Phew!\n",
    "\n",
    "(We'll leave it to your own EDA to figure out how the TB incidence \"Totals\" were aggregated...you may want to check out the bonus section first, though.)"
   ]
  },
  {
   "cell_type": "markdown",
   "id": "7c5bad23-78be-4927-ab64-fc8e9a0ab2ae",
   "metadata": {},
   "source": [
    "<br/><br/>\n",
    "\n",
    "Let's just look at the records with **state-level granularity**:"
   ]
  },
  {
   "cell_type": "code",
   "execution_count": null,
   "id": "0d62fe68-3121-4a74-b4cb-3c12f2ec672f",
   "metadata": {},
   "outputs": [],
   "source": [
    "state_tb_df = tb_df[1:]\n",
    "state_tb_df"
   ]
  },
  {
   "cell_type": "markdown",
   "id": "767fc8d3-9442-43d9-adef-30274ec6aae8",
   "metadata": {},
   "source": [
    "What do each of these values represent? Why?\n",
    "\n",
    "To the lecture!"
   ]
  },
  {
   "cell_type": "markdown",
   "id": "a399666c-bae6-4d0f-ba24-139c29ab401d",
   "metadata": {},
   "source": [
    "<br/><br/>"
   ]
  },
  {
   "cell_type": "markdown",
   "id": "5214187a-a70d-49f9-9073-fa6e7d383482",
   "metadata": {},
   "source": [
    "<br/><br/>\n",
    "\n",
    "---\n",
    "\n",
    "# Gather Census Data\n",
    "\n",
    "U.S. Census population estimates [source](https://www.census.gov/data/tables/time-series/demo/popest/2010s-state-total.html) (2019), [source](https://www.census.gov/data/tables/time-series/demo/popest/2020s-state-total.html) (2020-2021).\n",
    "\n",
    "Running the below cells cleans the data. We encourage you to closely explore the CSV and study these lines after the lesson..\n",
    "\n",
    "There are a few new methods here:\n",
    "* `df.convert_dtypes()` ([documentation](https://pandas.pydata.org/docs/reference/api/pandas.DataFrame.convert_dtypes.html)) conveniently converts all float dtypes into ints and is out of scope for the class.\n",
    "* `df.drop_na()` ([documentation](https://pandas.pydata.org/docs/reference/api/pandas.DataFrame.dropna.html)) will be explained in more detail next time."
   ]
  },
  {
   "cell_type": "code",
   "execution_count": null,
   "id": "2601a523-56bd-4c37-83fe-b57c18648acb",
   "metadata": {},
   "outputs": [],
   "source": [
    "# 2010s census data\n",
    "census_2010s_df = pd.read_csv(\"data/nst-est2019-01.csv\", header=3, thousands=\",\")\n",
    "census_2010s_df = (\n",
    "    census_2010s_df\n",
    "    .reset_index()\n",
    "    .drop(columns=[\"index\", \"Census\", \"Estimates Base\"])\n",
    "    .rename(columns={\"Unnamed: 0\": \"Geographic Area\"})\n",
    "    .convert_dtypes()                 # \"smart\" converting of columns, use at your own risk\n",
    "    .dropna()                         # we'll introduce this next time\n",
    ")\n",
    "census_2010s_df['Geographic Area'] = census_2010s_df['Geographic Area'].str.strip('.')\n",
    "\n",
    "# with pd.option_context('display.min_rows', 30): # shows more rows\n",
    "#     display(census_2010s_df)\n",
    "    \n",
    "census_2010s_df.head(20)"
   ]
  },
  {
   "cell_type": "code",
   "execution_count": null,
   "id": "368d0d13-cc1c-43a8-92c3-757ed22fc5ee",
   "metadata": {},
   "outputs": [],
   "source": [
    "# census 2020s data\n",
    "census_2020s_df = pd.read_csv(\"data/NST-EST2022-POP.csv\", header=3, thousands=\",\")\n",
    "census_2020s_df = (\n",
    "    census_2020s_df\n",
    "    .reset_index()\n",
    "    .drop(columns=[\"index\", \"Unnamed: 1\"])\n",
    "    .rename(columns={\"Unnamed: 0\": \"Geographic Area\"})\n",
    "    .convert_dtypes()                 # \"smart\" converting of columns, use at your own risk\n",
    "    .dropna()                         # we'll introduce this next time\n",
    ")\n",
    "census_2020s_df['Geographic Area'] = census_2020s_df['Geographic Area'].str.strip('.')\n",
    "\n",
    "census_2020s_df"
   ]
  },
  {
   "cell_type": "markdown",
   "id": "a2e4d8b6-c7f5-44d7-a2c6-e66548d65099",
   "metadata": {},
   "source": [
    "<br/><br/>\n",
    "\n",
    "---\n",
    "\n",
    "# Join Data (Merge DataFrames)"
   ]
  },
  {
   "cell_type": "markdown",
   "id": "f29a74f0-36fa-4a47-a0c9-2c5df6e6f9cd",
   "metadata": {},
   "source": [
    "Time to `merge`! Here I use the DataFrame method `df1.merge(right=df2, ...)` on DataFrame `df1` ([documentation](https://pandas.pydata.org/docs/reference/api/pandas.DataFrame.merge.html)). Contrast this with the function `pd.merge(left=df1, right=df2, ...)` ([documentation](https://pandas.pydata.org/docs/reference/api/pandas.merge.html?highlight=pandas%20merge#pandas.merge)). Feel free to use either."
   ]
  },
  {
   "cell_type": "code",
   "execution_count": null,
   "id": "0d3e093a-860a-45f1-b976-3133f34586c5",
   "metadata": {},
   "outputs": [],
   "source": [
    "# merge TB dataframe with two US census dataframes\n",
    "tb_census_df = (\n",
    "    tb_df\n",
    "    .merge(right=census_2010s_df,\n",
    "           left_on=\"U.S. jurisdiction\", right_on=\"Geographic Area\")\n",
    "    .merge(right=census_2020s_df,\n",
    "           left_on=\"U.S. jurisdiction\", right_on=\"Geographic Area\")\n",
    ")\n",
    "tb_census_df"
   ]
  },
  {
   "cell_type": "markdown",
   "id": "9110759b-cca6-430b-a42e-b6a23404b045",
   "metadata": {},
   "source": [
    "This is a little unwieldy. We could either drop the unneeded columns now, or just merge on smaller census DataFrames. Let's do the latter."
   ]
  },
  {
   "cell_type": "code",
   "execution_count": null,
   "id": "b2abbb58-f0be-4559-889d-61de7152afc0",
   "metadata": {},
   "outputs": [],
   "source": [
    "# try merging again, but cleaner this time\n",
    "tb_census_df = (\n",
    "    tb_df\n",
    "    .merge(right=census_2010s_df[[\"Geographic Area\", \"2019\"]],\n",
    "           left_on=\"U.S. jurisdiction\", right_on=\"Geographic Area\")\n",
    "    .drop(columns=\"Geographic Area\")\n",
    "    .merge(right=census_2020s_df[[\"Geographic Area\", \"2020\", \"2021\"]],\n",
    "           left_on=\"U.S. jurisdiction\", right_on=\"Geographic Area\")\n",
    "    .drop(columns=\"Geographic Area\")\n",
    ")\n",
    "tb_census_df"
   ]
  },
  {
   "cell_type": "markdown",
   "id": "0cf27543-e70b-457c-9714-965a60e96dc3",
   "metadata": {
    "editable": true,
    "slideshow": {
     "slide_type": ""
    },
    "tags": []
   },
   "source": [
    "## Reproduce incidence\n",
    "\n",
    "Let's recompute incidence to make sure we know where the original CDC numbers came from.\n",
    "\n",
    "From the [CDC report](https://www.cdc.gov/mmwr/volumes/71/wr/mm7112a1.htm?s_cid=mm7112a1_w#T1_down): TB incidence is computed as “Cases per 100,000 persons using mid-year population estimates from the U.S. Census Bureau.”\n",
    "\n",
    "If we define a group as 100,000 people, then we can compute the TB incidence for a given state population as\n",
    "\n",
    "$$\\text{TB incidence} = \\frac{\\text{\\# TB cases in population}}{\\text{\\# groups in population}} = \\frac{\\text{\\# TB cases in population}}{\\text{population}/100000} $$\n",
    "\n",
    "$$= \\frac{\\text{\\# TB cases in population}}{\\text{population}} \\times 100000$$\n",
    "\n",
    "Let's try this for 2019:"
   ]
  },
  {
   "cell_type": "code",
   "execution_count": null,
   "id": "2723f184-e3f4-41f6-8022-1f10ce8b66cc",
   "metadata": {
    "editable": true,
    "slideshow": {
     "slide_type": ""
    },
    "tags": []
   },
   "outputs": [],
   "source": [
    "tb_census_df[\"recompute incidence 2019\"] = tb_census_df[\"TB cases 2019\"]/tb_census_df[\"2019\"]*100000\n",
    "tb_census_df"
   ]
  },
  {
   "cell_type": "markdown",
   "id": "e86fff7c-22de-485a-a20a-495c753860a3",
   "metadata": {
    "editable": true,
    "slideshow": {
     "slide_type": ""
    },
    "tags": []
   },
   "source": [
    "Awesome!!!\n",
    "\n",
    "Let's use a for-loop and Python format strings to compute TB incidence for all years. Python f-strings are just used for the purposes of this demo, but they're handy to know when you explore data beyond this course ([Python documentation](https://docs.python.org/3/tutorial/inputoutput.html))."
   ]
  },
  {
   "cell_type": "code",
   "execution_count": null,
   "id": "921b16a2-2340-4805-889c-8f044a1832f8",
   "metadata": {
    "editable": true,
    "slideshow": {
     "slide_type": ""
    },
    "tags": []
   },
   "outputs": [],
   "source": [
    "# recompute incidence for all years\n",
    "for year in [2019, 2020, 2021]:\n",
    "    tb_census_df[f\"recompute incidence {year}\"] = tb_census_df[f\"TB cases {year}\"]/tb_census_df[f\"{year}\"]*100000\n",
    "tb_census_df"
   ]
  },
  {
   "cell_type": "markdown",
   "id": "2190ec9f-d7e9-4032-8bcf-ca9ebb3644f8",
   "metadata": {
    "editable": true,
    "slideshow": {
     "slide_type": ""
    },
    "tags": []
   },
   "source": [
    "These numbers look pretty close!!! There are a few errors in the hundredths place, particularly in 2021. It may be useful to further explore reasons behind this discrepancy. We'll leave it to you!"
   ]
  },
  {
   "cell_type": "code",
   "execution_count": null,
   "id": "ce02240c-08cb-4c2b-a571-eb3ac0907088",
   "metadata": {
    "editable": true,
    "slideshow": {
     "slide_type": ""
    },
    "tags": []
   },
   "outputs": [],
   "source": [
    "tb_census_df.describe()"
   ]
  },
  {
   "cell_type": "markdown",
   "id": "6b835bd3-834e-4405-8174-415c10e3eb54",
   "metadata": {},
   "source": [
    "\n",
    "<br/><br/><br/>\n",
    "\n",
    "---\n",
    "\n",
    "## Structure: Different File Formats\n",
    "\n",
    "There are many file types for storing structured data: CSV, TSV, JSON, XML, ASCII, SAS...\n",
    "* Documentation will be your best friend to understand how to process many of these file types.\n",
    "* In lecture, we will cover TSV and JSON since pandas supports them out-of-box."
   ]
  },
  {
   "cell_type": "markdown",
   "id": "5347463a-3c60-4e94-a308-fa2bbb376ae7",
   "metadata": {
    "tags": []
   },
   "source": [
    "### TSV\n",
    "\n",
    "**TSV** (Tab-Separated Values) files are very similar to CSVs, but now items are delimited by tabs.\n",
    "\n",
    "Let's check out `cdc_tuberculosis.tsv`, which is the same data but now in a TSV.\n",
    "\n",
    "1. To the Jupyter view!\n",
    "\n",
    "1. To the Python view!\n",
    "\n",
    "    Quick Python reminders:\n",
    "    * Python's `print()` prints each string (including the newline), and an additional newline on top of that.\n",
    "    * We use the `repr()` function to return the raw string with all special characters.\n",
    "    * The `enumerate(x)` function returns a counter along with the elements of `x`."
   ]
  },
  {
   "cell_type": "code",
   "execution_count": null,
   "id": "b96a4eb0-e361-48a6-b7f1-79657218beca",
   "metadata": {},
   "outputs": [],
   "source": [
    "with open(\"data/cdc_tuberculosis.tsv\", \"r\") as f:\n",
    "    for i, row in enumerate(f):\n",
    "        print(repr(row)) # print raw strings\n",
    "        if i >= 3: break"
   ]
  },
  {
   "cell_type": "markdown",
   "id": "2b037057-54d9-477a-a008-335371a9f0e5",
   "metadata": {},
   "source": [
    "A quick note: the above is a very explicit way to loop over the first 4 lines of the file by controlling a line counter. We can do the same with more concise code by letting Python read the lines in the file for us and grabbing the first four:"
   ]
  },
  {
   "cell_type": "code",
   "execution_count": null,
   "id": "9cad3216-12f6-495d-aa18-954acf399612",
   "metadata": {},
   "outputs": [],
   "source": [
    "with open(\"data/cdc_tuberculosis.tsv\", \"r\") as f:\n",
    "    for row in f.readlines()[:4]:\n",
    "        print(repr(row)) # print raw strings    "
   ]
  },
  {
   "cell_type": "markdown",
   "id": "4c4f380d-fc87-4119-8abe-7440429fcad0",
   "metadata": {},
   "source": [
    "The only drawback here is that we read the entire file when we only want the first few lines. That can be wasteful. The Python `zip` built-in function ([docs here](https://docs.python.org/3/library/functions.html#zip)) is a useful thing to know about. This code may look a little odd at first, but it does the same as the first example above but much more concisely, and once you get used to thinking about `zip`, it becomes a very natural tool to express various iteration strategies:"
   ]
  },
  {
   "cell_type": "code",
   "execution_count": null,
   "id": "d3626e32-ceee-407f-aa93-7ade2fb98b84",
   "metadata": {},
   "outputs": [],
   "source": [
    "with open(\"data/cdc_tuberculosis.tsv\", \"r\") as f:\n",
    "    for _, row in zip(range(4), f):\n",
    "        print(repr(row)) # print raw strings"
   ]
  },
  {
   "cell_type": "markdown",
   "id": "2861abcd-0467-43af-b85b-a079421887b9",
   "metadata": {},
   "source": [
    "The `pd.read_csv` function also reads in TSVs if we specify the **delimiter** with parameter `sep='\\t'` ([documentation](https://pandas.pydata.org/docs/reference/api/pandas.read_csv.html))."
   ]
  },
  {
   "cell_type": "code",
   "execution_count": null,
   "id": "cef0344a-29fd-4e33-9142-756ddb547b3e",
   "metadata": {},
   "outputs": [],
   "source": [
    "tuberculosis_df_tsv = pd.read_csv(\"data/cdc_tuberculosis.tsv\", sep='\\t')\n",
    "tuberculosis_df_tsv.head()"
   ]
  },
  {
   "cell_type": "markdown",
   "id": "b755db35-9261-4ca9-96f7-05dce9a4e66a",
   "metadata": {},
   "source": [
    "*Side note*: there was a question last time on how pandas differentiates a comma delimiter vs. a comma within the field itself, e.g., `8,900`. Check out the documentation for the `quotechar` parameter."
   ]
  },
  {
   "cell_type": "markdown",
   "id": "11e6ebae-95d4-46e8-a802-0566129425fe",
   "metadata": {
    "tags": []
   },
   "source": [
    "### JSON\n",
    "The City of Berkeley Open Data [website](https://data.cityofberkeley.info/Health/COVID-19-Confirmed-Cases/xn6j-b766) has a dataset with COVID-19 Confirmed Cases among Berkeley residents by date.\n",
    "\n",
    "Let's first check out this website.\n",
    "\n",
    "Next, let's download this file, saving it as a JSON (note the source URL file type).\n",
    "\n",
    "In the interest of **reproducible data science** we will download the data programatically.  We have defined some helper functions in the [cspb3022_utils.py](cspb3022_utils.py) file.  I can then reuse these helper functions in many different notebooks."
   ]
  },
  {
   "cell_type": "code",
   "execution_count": null,
   "id": "5777cafc-704a-4a87-b54e-626c21419b06",
   "metadata": {
    "ExecuteTime": {
     "end_time": "2018-02-02T15:15:15.368501Z",
     "start_time": "2018-02-02T15:15:15.365808Z"
    }
   },
   "outputs": [],
   "source": [
    "# just run this cell\n",
    "from cspb3022_utils import fetch_and_cache"
   ]
  },
  {
   "cell_type": "markdown",
   "id": "2e68d853-f39a-4ef8-9356-14633fab416d",
   "metadata": {
    "tags": []
   },
   "source": [
    "Occasionally, you will want to modify code that you have imported from a local Python library.  To reimport those modifications you can either use the python importlib library:\n",
    "\n",
    "```python\n",
    "from importlib import reload\n",
    "reload(utils)\n",
    "```\n",
    "\n",
    "or use iPython magic which will intelligently import code when files change:\n",
    "\n",
    "```python\n",
    "%load_ext autoreload\n",
    "%autoreload 2\n",
    "```"
   ]
  },
  {
   "cell_type": "code",
   "execution_count": null,
   "id": "1620b75c-f649-40da-bbed-2d484083f1b5",
   "metadata": {},
   "outputs": [],
   "source": [
    "covid_file = fetch_and_cache(\n",
    "    \"https://data.cityofberkeley.info/api/views/xn6j-b766/rows.json?accessType=DOWNLOAD\",\n",
    "    \"confirmed-cases.json\",\n",
    "    force=False)\n",
    "covid_file          # a file path wrapper object"
   ]
  },
  {
   "cell_type": "markdown",
   "id": "c4a71369-d0d7-473f-9886-faf7f574151f",
   "metadata": {},
   "source": [
    "#### File size\n",
    "\n",
    "Often, I like to start my analysis by getting a rough estimate of the size of the data.  This will help inform the tools I use and how I view the data.  If it is relatively small I might use a text editor or a spreadsheet to look at the data.  If it is larger, I might jump to more programmatic exploration or even used distributed computing tools.\n",
    "\n",
    "However here we will use Python tools to probe the file."
   ]
  },
  {
   "cell_type": "markdown",
   "id": "c4f0f0b6-ec1a-48ba-b293-37c4b9b26d4b",
   "metadata": {},
   "source": [
    "Since these seem to be text files I might also want to investigate the number of lines, which often corresponds to the number of records."
   ]
  },
  {
   "cell_type": "code",
   "execution_count": null,
   "id": "3846f996-7065-4371-9069-bb4ddbf41ddc",
   "metadata": {},
   "outputs": [],
   "source": [
    "import os\n",
    "\n",
    "print(covid_file, \"is\", os.path.getsize(covid_file) / 1e6, \"MB\")\n",
    "\n",
    "with open(covid_file, \"r\") as f:\n",
    "    print(covid_file, \"is\", sum(1 for l in f), \"lines.\")"
   ]
  },
  {
   "cell_type": "markdown",
   "id": "9876c99b-8307-4e4b-86eb-d19e8214b8b8",
   "metadata": {},
   "source": [
    "As part of your workflow, you should also learn some basic Unix commands, as these are often very handy (in fact, there's an entire book called [\"Data Science at the Command Line\"](https://datascienceatthecommandline.com) that explores this idea in depth!).\n",
    "\n",
    "In Jupyter/IPython, you can prefix lines with `!` to execute arbitrary Unix commands, and within those lines, you can refer to Python variables and expressions with the syntax `{expr}`. \n",
    "\n",
    "Here, we use the `ls` command to list files, using the `-lh` flags, which request \"long format with information in human-readable form\". We also use the `wc` command for \"word count\", but with the `-l` flag, which asks for line counts instead of words.\n",
    "\n",
    "These two give us the same information as the code above, albeit in a slightly different form:"
   ]
  },
  {
   "cell_type": "code",
   "execution_count": null,
   "id": "7e84a7b3-2e10-4964-9920-bb3b93c2509f",
   "metadata": {},
   "outputs": [],
   "source": [
    "!ls -lh {covid_file}\n",
    "!wc -l {covid_file}"
   ]
  },
  {
   "cell_type": "markdown",
   "id": "ffeb2be2-3068-4e70-91ae-5d6fe7051a67",
   "metadata": {},
   "source": [
    "#### File contents\n",
    "\n",
    "Because we have a text file in a visual IDE like Jupyter/DataHub, I'm going to visually explore the data via the built-in file explorer."
   ]
  },
  {
   "cell_type": "markdown",
   "id": "0ea69f1b-762b-43ac-bbdb-067e732c4215",
   "metadata": {},
   "source": [
    "1. To the Jupyter view!\n",
    "\n",
    "2. To the Python view...?"
   ]
  },
  {
   "cell_type": "code",
   "execution_count": null,
   "id": "9a19e8c0-82e2-4cdd-b771-1499980e14ba",
   "metadata": {},
   "outputs": [],
   "source": [
    "with open(covid_file, \"r\") as f:\n",
    "    for i, row in enumerate(f):\n",
    "        print(repr(row)) # print raw strings\n",
    "        if i >= 4: break"
   ]
  },
  {
   "cell_type": "markdown",
   "id": "f9230f19-7c3f-4c73-886a-00ea3e0aa7a0",
   "metadata": {},
   "source": [
    "In the same vein, we can use the `head` Unix command (which is where Pandas' `head` method comes from!) to see the first few lines of the file:"
   ]
  },
  {
   "cell_type": "code",
   "execution_count": null,
   "id": "d7a5bcbc-49b1-487d-bb90-b85be5d5b11b",
   "metadata": {},
   "outputs": [],
   "source": [
    "!head -5 {covid_file}"
   ]
  },
  {
   "cell_type": "markdown",
   "id": "da091829-4fb3-4915-ba23-f026960b0a4b",
   "metadata": {},
   "source": [
    "1. Back to the Python view.\n",
    "\n",
    "    In order to load the JSON file into pandas, Let's first do some **EDA** with the Python `json` package to understand the particular structure of this JSON file so that we can decide what (if anything) to load into Pandas. "
   ]
  },
  {
   "cell_type": "markdown",
   "id": "7029b98b-19f5-41ee-9a0b-7248d78c179d",
   "metadata": {
    "tags": []
   },
   "source": [
    "### EDA: Digging into JSON\n",
    "\n",
    "Python has relatively good support for JSON data since it closely matches the internal python object model.  In the following cell we import the entire JSON datafile into a python dictionary using the `json` package."
   ]
  },
  {
   "cell_type": "code",
   "execution_count": null,
   "id": "9d3efe6c-669c-45f8-bc8d-350ceedc3a8b",
   "metadata": {
    "ExecuteTime": {
     "end_time": "2018-02-02T15:15:19.441300Z",
     "start_time": "2018-02-02T15:15:19.358900Z"
    }
   },
   "outputs": [],
   "source": [
    "import json\n",
    "\n",
    "with open(covid_file, \"rb\") as f:\n",
    "    covid_json = json.load(f)"
   ]
  },
  {
   "cell_type": "markdown",
   "id": "054f0b56-4075-4db3-a491-724125df89c9",
   "metadata": {},
   "source": [
    "The `covid_json` variable is now a dictionary encoding the data in the file:"
   ]
  },
  {
   "cell_type": "code",
   "execution_count": null,
   "id": "b0ff0b4d-3a42-4b13-8df0-1a56028c850e",
   "metadata": {
    "ExecuteTime": {
     "end_time": "2018-02-02T15:15:19.447238Z",
     "start_time": "2018-02-02T15:15:19.443595Z"
    }
   },
   "outputs": [],
   "source": [
    "type(covid_json)"
   ]
  },
  {
   "cell_type": "markdown",
   "id": "e5c84fcd-ff83-4347-9d15-06eb275d02be",
   "metadata": {},
   "source": [
    "#### Examine what keys are in the top level json object\n",
    "\n",
    "We can list the keys to determine what data is stored in the object."
   ]
  },
  {
   "cell_type": "code",
   "execution_count": null,
   "id": "f7e98b9a-2843-4c96-a33d-d1705f034a49",
   "metadata": {
    "ExecuteTime": {
     "end_time": "2018-02-02T15:15:19.680999Z",
     "start_time": "2018-02-02T15:15:19.675696Z"
    }
   },
   "outputs": [],
   "source": [
    "covid_json.keys()"
   ]
  },
  {
   "cell_type": "markdown",
   "id": "888ad16e-53b7-4c8f-8b4e-1611fda98412",
   "metadata": {},
   "source": [
    "**Observation**: The JSON dictionary contains a `meta` key which likely refers to meta data (data about the data).  Meta data often maintained with the data and can be a good source of additional information."
   ]
  },
  {
   "cell_type": "markdown",
   "id": "020d2cc5-8dfc-4ef3-85f6-3cd873c2de7e",
   "metadata": {},
   "source": [
    "<br/>\n",
    "\n",
    "We can investigate the meta data further by examining the keys associated with the metadata."
   ]
  },
  {
   "cell_type": "code",
   "execution_count": null,
   "id": "069d7503-4950-4f17-98c8-de3074ce69fd",
   "metadata": {
    "ExecuteTime": {
     "end_time": "2018-02-02T15:15:19.687295Z",
     "start_time": "2018-02-02T15:15:19.682902Z"
    }
   },
   "outputs": [],
   "source": [
    "covid_json['meta'].keys()"
   ]
  },
  {
   "cell_type": "markdown",
   "id": "c3206b0f-df12-45da-93f2-016e174f067c",
   "metadata": {},
   "source": [
    "The `meta` key contains another dictionary called `view`.  This likely refers to meta-data about a particular \"view\" of some underlying database.  We will learn more about views when we study SQL later in the class.    "
   ]
  },
  {
   "cell_type": "code",
   "execution_count": null,
   "id": "abe21f2d-3175-41bd-bbf8-10c8e0a6a4cf",
   "metadata": {
    "ExecuteTime": {
     "end_time": "2018-02-02T15:15:19.693946Z",
     "start_time": "2018-02-02T15:15:19.690139Z"
    }
   },
   "outputs": [],
   "source": [
    "covid_json['meta']['view'].keys()"
   ]
  },
  {
   "cell_type": "markdown",
   "id": "ac9e8c9a-a6ea-4a23-87e0-41bb8fc3f9ea",
   "metadata": {},
   "source": [
    "Notice that this a nested/recursive data structure.  As we dig deeper we reveal more and more keys and the corresponding data:\n",
    "\n",
    "```\n",
    "meta\n",
    "|-> data\n",
    "    | ... (haven't explored yet)\n",
    "|-> view\n",
    "    | -> id\n",
    "    | -> name\n",
    "    | -> attribution \n",
    "    ...\n",
    "    | -> description\n",
    "    ...\n",
    "    | -> columns\n",
    "    ...\n",
    "```"
   ]
  },
  {
   "cell_type": "markdown",
   "id": "3e655c59-3a78-4bb5-91b2-28be22db9d22",
   "metadata": {},
   "source": [
    "There is a key called description in the view sub dictionary.  This likely contains a description of the data:"
   ]
  },
  {
   "cell_type": "code",
   "execution_count": null,
   "id": "071f9f89-a245-40ee-be24-5cced68bb54b",
   "metadata": {
    "ExecuteTime": {
     "end_time": "2018-02-02T15:15:19.699773Z",
     "start_time": "2018-02-02T15:15:19.695818Z"
    }
   },
   "outputs": [],
   "source": [
    "print(covid_json['meta']['view']['description'])"
   ]
  },
  {
   "cell_type": "markdown",
   "id": "1eede5ac-846b-44a1-9ab2-48dc613ed487",
   "metadata": {},
   "source": [
    "\n",
    "#### Examining the Data Field for Records\n",
    "\n",
    "We can look at a few entries in the `data` field. This is what we'll load into Pandas.\n"
   ]
  },
  {
   "cell_type": "code",
   "execution_count": null,
   "id": "31d141d3-32f3-4fc4-85c6-984c631c5fb5",
   "metadata": {
    "ExecuteTime": {
     "end_time": "2018-02-02T15:15:19.722451Z",
     "start_time": "2018-02-02T15:15:19.717198Z"
    }
   },
   "outputs": [],
   "source": [
    "for i in range(3):\n",
    "    print(f\"{i:03} | {covid_json['data'][i]}\")"
   ]
  },
  {
   "cell_type": "markdown",
   "id": "c321c6ff-3b34-48aa-a778-944170569c79",
   "metadata": {},
   "source": [
    "Observations:\n",
    "* These look like equal-length records, so maybe `data` is a table!\n",
    "* But what do each of values in the record mean? Where can we find column headers?\n",
    "\n",
    "Back to the metadata."
   ]
  },
  {
   "cell_type": "markdown",
   "id": "0131dd65-d0ad-46a6-8315-3ef989dfd57e",
   "metadata": {},
   "source": [
    "#### Columns Metadata\n",
    "\n",
    "Another potentially useful key in the metadata dictionary is the `columns`.  This returns a list:"
   ]
  },
  {
   "cell_type": "code",
   "execution_count": null,
   "id": "6947b364-45cc-419d-8f20-127c517bd926",
   "metadata": {
    "ExecuteTime": {
     "end_time": "2018-02-02T15:15:19.706171Z",
     "start_time": "2018-02-02T15:15:19.701580Z"
    }
   },
   "outputs": [],
   "source": [
    "type(covid_json['meta']['view']['columns'])"
   ]
  },
  {
   "cell_type": "markdown",
   "id": "a77f3c01-31d5-4b78-b33a-1522378fbd2d",
   "metadata": {},
   "source": [
    "Let's go back to the file explorer.\n",
    "\n",
    "Based on the contents of this key, what are reasonable names for each column in the `data` table?"
   ]
  },
  {
   "cell_type": "markdown",
   "id": "72b34546-fbb5-4b01-aa73-bc5601c57afc",
   "metadata": {},
   "source": [
    "You can also get the view that Jupyter provides in the file explorer by using Python. This displays our JSON object as an interacive graphical object with a built-in search box:"
   ]
  },
  {
   "cell_type": "code",
   "execution_count": null,
   "id": "2b012de6-e75a-4e22-a7b9-063384b6f0c5",
   "metadata": {},
   "outputs": [],
   "source": [
    "from IPython.display import JSON\n",
    "JSON(covid_json)"
   ]
  },
  {
   "cell_type": "markdown",
   "id": "1b337dff-0cc6-488a-83e2-48e04a324c9d",
   "metadata": {},
   "source": [
    "#### Summary of exploring the JSON file\n",
    "\n",
    "1. The above **metadata** tells us a lot about the columns in the data including column names, potential data anomalies, and a basic statistic. \n",
    "1. Because of its non-tabular structure, JSON makes it easier (than CSV) to create **self-documenting data**, meaning that information about the data is stored in the same file as the data.\n",
    "1. Self documenting data can be helpful since it maintains its own description and these descriptions are more likely to be updated as data changes. "
   ]
  },
  {
   "cell_type": "markdown",
   "id": "f894cf3f-d371-42e1-9835-943aecc6f4f7",
   "metadata": {},
   "source": [
    "### JSON with pandas\n",
    "\n",
    "After our above EDA, let's finally go about loading the data (not the metadata) into a pandas dataframe."
   ]
  },
  {
   "cell_type": "markdown",
   "id": "7687d226-33f1-4535-8bd8-0f36615561d7",
   "metadata": {},
   "source": [
    "In the following block of code we:\n",
    "1. Translate the JSON records into a dataframe:\n",
    "\n",
    "    * fields: `covid_json['meta']['view']['columns']`\n",
    "    * records: `covid_json['data']`\n",
    "    \n",
    "1. Remove columns that have no metadata description.  This would be a bad idea in general but here we remove these columns since the above analysis suggests that they are unlikely to contain useful information.\n",
    "1. Examine the `tail` of the table."
   ]
  },
  {
   "cell_type": "code",
   "execution_count": null,
   "id": "1cdacc8f-6ae8-4def-bee3-a12658531f09",
   "metadata": {
    "ExecuteTime": {
     "end_time": "2018-02-02T15:15:19.793306Z",
     "start_time": "2018-02-02T15:15:19.725044Z"
    }
   },
   "outputs": [],
   "source": [
    "# Load the data from JSON and assign column titles\n",
    "covid = pd.DataFrame(\n",
    "    covid_json['data'],\n",
    "    columns=[c['name'] for c in covid_json['meta']['view']['columns']])\n",
    "\n",
    "covid.tail()"
   ]
  },
  {
   "cell_type": "markdown",
   "id": "1845a2dd-1732-4669-adef-9568971c7dbd",
   "metadata": {},
   "source": [
    "<br/>\n",
    "\n",
    "---\n",
    "\n",
    "\n",
    "## Temporality\n",
    "\n",
    "Let's briefly look at how we can use pandas `dt` accessors to work with dates/times in a dataset.\n",
    "\n",
    "We will a dataset of Berkeley PD Calls for Service."
   ]
  },
  {
   "cell_type": "code",
   "execution_count": null,
   "id": "869fe9d0-9632-4b99-9c8b-19e6e4937228",
   "metadata": {},
   "outputs": [],
   "source": [
    "calls = pd.read_csv(\"data/Berkeley_PD_-_Calls_for_Service.csv\")\n",
    "calls.head()"
   ]
  },
  {
   "cell_type": "markdown",
   "id": "3d32459a-f996-477a-96c5-e64edd10d3fc",
   "metadata": {},
   "source": [
    "Looks like there are three columns with dates/times: `EVENTDT`, `EVENTTM`, and `InDbDate`. \n",
    "\n",
    "Most likely, `EVENTDT` stands for the date when the event took place, `EVENTTM` stands for the time of day the event took place (in 24-hr format), and `InDbDate` is the date this call is recorded onto the database.\n",
    "\n",
    "If we check the data type of these columns, we will see they are stored as strings. We can convert them to `datetime` objects using pandas `to_datetime` function."
   ]
  },
  {
   "cell_type": "code",
   "execution_count": null,
   "id": "135c97c1-0510-49af-9118-b243b66bd5f2",
   "metadata": {},
   "outputs": [],
   "source": [
    "calls.dtypes"
   ]
  },
  {
   "cell_type": "code",
   "execution_count": null,
   "id": "a9885ed7-8c42-4b71-b3f4-02c7f9ad3273",
   "metadata": {},
   "outputs": [],
   "source": [
    "calls[\"EVENTDT\"] = pd.to_datetime(calls[\"EVENTDT\"])\n",
    "calls.head()"
   ]
  },
  {
   "cell_type": "markdown",
   "id": "aef5ecc1-43fd-4b69-a6b9-b0b6df2591f4",
   "metadata": {},
   "source": [
    "Now we can use the `dt` accessor on this column.\n",
    "\n",
    "We can get the month:"
   ]
  },
  {
   "cell_type": "code",
   "execution_count": null,
   "id": "4f2911e1-2c5f-4651-b4fc-31df8b9f7a0d",
   "metadata": {},
   "outputs": [],
   "source": [
    "calls[\"EVENTDT\"].dt.month"
   ]
  },
  {
   "cell_type": "markdown",
   "id": "ce37d0e1-9bcf-4aaa-a363-b063ced7ba06",
   "metadata": {},
   "source": [
    "Which day of the week the date is on:"
   ]
  },
  {
   "cell_type": "code",
   "execution_count": null,
   "id": "876f5319-b6ed-4cc9-9fdf-42588570c8bf",
   "metadata": {},
   "outputs": [],
   "source": [
    "calls[\"EVENTDT\"].dt.dayofweek"
   ]
  },
  {
   "cell_type": "markdown",
   "id": "67ee88e0-0c0a-417f-9a8b-3b916671792c",
   "metadata": {},
   "source": [
    "Check the mimimum values to see if there are any suspicious-looking, 70s dates:"
   ]
  },
  {
   "cell_type": "code",
   "execution_count": null,
   "id": "dc479aab-640e-4feb-a728-d9e89291653d",
   "metadata": {},
   "outputs": [],
   "source": [
    "calls[\"EVENTDT\"].min()"
   ]
  },
  {
   "cell_type": "code",
   "execution_count": null,
   "id": "f40b2608-6593-4dc8-b312-dd1a2a3265b1",
   "metadata": {},
   "outputs": [],
   "source": [
    "calls.sort_values(\"EVENTDT\").tail()"
   ]
  },
  {
   "cell_type": "markdown",
   "id": "befc2fec-1e73-45b0-955c-7bd34b3092b4",
   "metadata": {},
   "source": [
    "Doesn't look like it! We are good!\n",
    "\n",
    "\n",
    "We can also do many things with the `dt` accessor like switching time zones and converting time back to UNIX/POSIX time. Check out the documentation on [`.dt` accessor](https://pandas.pydata.org/docs/user_guide/basics.html#basics-dt-accessors) and [time series/date functionality](https://pandas.pydata.org/docs/user_guide/timeseries.html#)."
   ]
  },
  {
   "cell_type": "code",
   "execution_count": null,
   "id": "293ae7dd-b172-4e0a-b85d-78a77315ea63",
   "metadata": {},
   "outputs": [],
   "source": []
  },
  {
   "cell_type": "markdown",
   "id": "4b717156-4a39-4233-a52a-fd4c2762ef0c",
   "metadata": {
    "tags": []
   },
   "source": [
    "---\n",
    "\n",
    "\n",
    "## Data Faithfulness: Mauna Loa CO2 data\n",
    "\n",
    "CO2 concentrations have been monitored at Mauna Loa Observatory since 1958 ([website link](https://gml.noaa.gov/ccgg/trends/data.html)).\n",
    "\n",
    "The carbon dioxide data on Mauna Loa constitute the longest record of direct measurements of CO2 in the atmosphere. They were started by C. David Keeling of the Scripps Institution of Oceanography in March of 1958 at a facility of the National Oceanic and Atmospheric Administration [Keeling, 1976]. NOAA started its own CO2 measurements in May of 1974, and they have run in parallel with those made by Scripps since then [Thoning, 1989].\n",
    "\n",
    "\n"
   ]
  },
  {
   "cell_type": "code",
   "execution_count": 8,
   "id": "fa48f747-b4c7-43d2-9d79-67d4c45f200a",
   "metadata": {},
   "outputs": [],
   "source": [
    "co2_file = \"data/co2_mm_mlo.txt\""
   ]
  },
  {
   "cell_type": "markdown",
   "id": "3fa5d495-994c-46ea-bcef-b7d9bbd8b423",
   "metadata": {
    "tags": []
   },
   "source": [
    "Let's do some **EDA**!!"
   ]
  },
  {
   "cell_type": "markdown",
   "id": "fcfc1fd1-737c-42ed-8949-29458683b246",
   "metadata": {},
   "source": [
    "1. How big is the data?\n",
    "I often like to start my analysis by getting a rough estimate of the size of the data. This will help inform the tools I use and how I view the data. If it is relatively small I might use a text editor or a spreadsheet to look at the data. If it is larger, I might jump to more programmatic exploration or even used distributed computing tools.\n",
    "\n",
    "However here we will use python tools to probe the file.\n",
    "\n"
   ]
  },
  {
   "cell_type": "code",
   "execution_count": 9,
   "id": "1ace2a25-2b0a-48ad-a868-e75abd72ccdf",
   "metadata": {},
   "outputs": [
    {
     "name": "stdout",
     "output_type": "stream",
     "text": [
      "data/co2_mm_mlo.txt is 0.051131 MB\n"
     ]
    }
   ],
   "source": [
    "import os\n",
    "print(co2_file, \"is\", os.path.getsize(co2_file) / 1e6, \"MB\")"
   ]
  },
  {
   "cell_type": "markdown",
   "id": "9002ed25-70f9-4b88-88e7-df33e558f1f4",
   "metadata": {},
   "source": [
    "I might also want to investigate the number of lines, which often corresponds to the number of records."
   ]
  },
  {
   "cell_type": "code",
   "execution_count": 10,
   "id": "836e5ce6-cfc9-4131-a77d-76a2fa35be49",
   "metadata": {},
   "outputs": [
    {
     "name": "stdout",
     "output_type": "stream",
     "text": [
      "data/co2_mm_mlo.txt is 810 lines.\n"
     ]
    }
   ],
   "source": [
    "with open(co2_file, \"r\") as f:\n",
    "    print(co2_file, \"is\", sum(1 for l in f), \"lines.\")"
   ]
  },
  {
   "cell_type": "markdown",
   "id": "cea60eb2-793f-4956-9839-2ade8769dbd9",
   "metadata": {
    "tags": []
   },
   "source": [
    "### How do we read the file into Pandas?\n",
    "Let's instead check out this file with JupyterLab.\n",
    "\n",
    "* Note it's a `.txt` file.\n",
    "* Do we trust this file extension?\n",
    "* What structure is it?"
   ]
  },
  {
   "cell_type": "markdown",
   "id": "87e4cd05-9c4a-4b08-9582-ccfe164a3706",
   "metadata": {},
   "source": [
    "\n",
    "---\n",
    "\n",
    "\n",
    "Looking at the first few lines of the data, we spot some relevant characteristics:\n",
    "\n",
    "- The values are separated by white space, possibly tabs.\n",
    "- The data line up down the rows. For example, the month appears in 7th to 8th position of each line.\n",
    "- The 71st and 72nd lines in the file contain column headings split over two lines.\n",
    "\n",
    "It turns out we can use the function `read_csv` (https://pandas.pydata.org/docs/reference/api/pandas.read_csv.html) to read the data into a Pandas data frame, and we provide several arguments to specify that the separators are white space, there is no header (**we will set our own column names**), and to skip the first 72 rows of the file."
   ]
  },
  {
   "cell_type": "code",
   "execution_count": 11,
   "id": "62b29729-d1cf-47f1-8710-9820f576a882",
   "metadata": {},
   "outputs": [
    {
     "data": {
      "text/html": [
       "<div>\n",
       "<style scoped>\n",
       "    .dataframe tbody tr th:only-of-type {\n",
       "        vertical-align: middle;\n",
       "    }\n",
       "\n",
       "    .dataframe tbody tr th {\n",
       "        vertical-align: top;\n",
       "    }\n",
       "\n",
       "    .dataframe thead th {\n",
       "        text-align: right;\n",
       "    }\n",
       "</style>\n",
       "<table border=\"1\" class=\"dataframe\">\n",
       "  <thead>\n",
       "    <tr style=\"text-align: right;\">\n",
       "      <th></th>\n",
       "      <th>0</th>\n",
       "      <th>1</th>\n",
       "      <th>2</th>\n",
       "      <th>3</th>\n",
       "      <th>4</th>\n",
       "      <th>5</th>\n",
       "      <th>6</th>\n",
       "    </tr>\n",
       "  </thead>\n",
       "  <tbody>\n",
       "    <tr>\n",
       "      <th>0</th>\n",
       "      <td>1958</td>\n",
       "      <td>3</td>\n",
       "      <td>1958.21</td>\n",
       "      <td>315.71</td>\n",
       "      <td>315.71</td>\n",
       "      <td>314.62</td>\n",
       "      <td>-1</td>\n",
       "    </tr>\n",
       "    <tr>\n",
       "      <th>1</th>\n",
       "      <td>1958</td>\n",
       "      <td>4</td>\n",
       "      <td>1958.29</td>\n",
       "      <td>317.45</td>\n",
       "      <td>317.45</td>\n",
       "      <td>315.29</td>\n",
       "      <td>-1</td>\n",
       "    </tr>\n",
       "    <tr>\n",
       "      <th>2</th>\n",
       "      <td>1958</td>\n",
       "      <td>5</td>\n",
       "      <td>1958.38</td>\n",
       "      <td>317.50</td>\n",
       "      <td>317.50</td>\n",
       "      <td>314.71</td>\n",
       "      <td>-1</td>\n",
       "    </tr>\n",
       "    <tr>\n",
       "      <th>3</th>\n",
       "      <td>1958</td>\n",
       "      <td>6</td>\n",
       "      <td>1958.46</td>\n",
       "      <td>-99.99</td>\n",
       "      <td>317.10</td>\n",
       "      <td>314.85</td>\n",
       "      <td>-1</td>\n",
       "    </tr>\n",
       "    <tr>\n",
       "      <th>4</th>\n",
       "      <td>1958</td>\n",
       "      <td>7</td>\n",
       "      <td>1958.54</td>\n",
       "      <td>315.86</td>\n",
       "      <td>315.86</td>\n",
       "      <td>314.98</td>\n",
       "      <td>-1</td>\n",
       "    </tr>\n",
       "  </tbody>\n",
       "</table>\n",
       "</div>"
      ],
      "text/plain": [
       "      0  1       2      3      4      5  6\n",
       "0  1958  3 1958.21 315.71 315.71 314.62 -1\n",
       "1  1958  4 1958.29 317.45 317.45 315.29 -1\n",
       "2  1958  5 1958.38 317.50 317.50 314.71 -1\n",
       "3  1958  6 1958.46 -99.99 317.10 314.85 -1\n",
       "4  1958  7 1958.54 315.86 315.86 314.98 -1"
      ]
     },
     "execution_count": 11,
     "metadata": {},
     "output_type": "execute_result"
    }
   ],
   "source": [
    "co2 = pd.read_csv(co2_file, header=None, skiprows=72, sep = r'\\s+'   #regex delimiter for continuous whitespace\n",
    "                 )\n",
    "\n",
    "\n",
    "co2.head()"
   ]
  },
  {
   "cell_type": "markdown",
   "id": "aef4a6d7-1504-472a-9c92-255b10e64240",
   "metadata": {},
   "source": [
    "Congratulations! You've wrangled the data!\n",
    "\n",
    "<br/>\n",
    "\n",
    "...But our columns aren't named.\n",
    "**We need to do more EDA.**"
   ]
  },
  {
   "cell_type": "markdown",
   "id": "f8a84fdc-8a23-4b97-9429-8021b1a6f394",
   "metadata": {},
   "source": [
    "### Exploring Variable Feature Types\n",
    "\n",
    "The NOAA [webpage](https://gml.noaa.gov/ccgg/trends/) might have some useful tidbits (in this case it doesn't).\n",
    "Let's go back to the raw data file to identify each feature.\n",
    "\n",
    "\n",
    "We'll rerun `pd.read_csv`, but this time with some **custom column names.**"
   ]
  },
  {
   "cell_type": "code",
   "execution_count": 12,
   "id": "17afdfc7-9663-4c94-9559-8a5c72ab7178",
   "metadata": {},
   "outputs": [
    {
     "data": {
      "text/html": [
       "<div>\n",
       "<style scoped>\n",
       "    .dataframe tbody tr th:only-of-type {\n",
       "        vertical-align: middle;\n",
       "    }\n",
       "\n",
       "    .dataframe tbody tr th {\n",
       "        vertical-align: top;\n",
       "    }\n",
       "\n",
       "    .dataframe thead th {\n",
       "        text-align: right;\n",
       "    }\n",
       "</style>\n",
       "<table border=\"1\" class=\"dataframe\">\n",
       "  <thead>\n",
       "    <tr style=\"text-align: right;\">\n",
       "      <th></th>\n",
       "      <th>Yr</th>\n",
       "      <th>Mo</th>\n",
       "      <th>DecDate</th>\n",
       "      <th>Avg</th>\n",
       "      <th>Int</th>\n",
       "      <th>Trend</th>\n",
       "      <th>Days</th>\n",
       "    </tr>\n",
       "  </thead>\n",
       "  <tbody>\n",
       "    <tr>\n",
       "      <th>0</th>\n",
       "      <td>1958</td>\n",
       "      <td>3</td>\n",
       "      <td>1958.21</td>\n",
       "      <td>315.71</td>\n",
       "      <td>315.71</td>\n",
       "      <td>314.62</td>\n",
       "      <td>-1</td>\n",
       "    </tr>\n",
       "    <tr>\n",
       "      <th>1</th>\n",
       "      <td>1958</td>\n",
       "      <td>4</td>\n",
       "      <td>1958.29</td>\n",
       "      <td>317.45</td>\n",
       "      <td>317.45</td>\n",
       "      <td>315.29</td>\n",
       "      <td>-1</td>\n",
       "    </tr>\n",
       "    <tr>\n",
       "      <th>2</th>\n",
       "      <td>1958</td>\n",
       "      <td>5</td>\n",
       "      <td>1958.38</td>\n",
       "      <td>317.50</td>\n",
       "      <td>317.50</td>\n",
       "      <td>314.71</td>\n",
       "      <td>-1</td>\n",
       "    </tr>\n",
       "    <tr>\n",
       "      <th>3</th>\n",
       "      <td>1958</td>\n",
       "      <td>6</td>\n",
       "      <td>1958.46</td>\n",
       "      <td>-99.99</td>\n",
       "      <td>317.10</td>\n",
       "      <td>314.85</td>\n",
       "      <td>-1</td>\n",
       "    </tr>\n",
       "    <tr>\n",
       "      <th>4</th>\n",
       "      <td>1958</td>\n",
       "      <td>7</td>\n",
       "      <td>1958.54</td>\n",
       "      <td>315.86</td>\n",
       "      <td>315.86</td>\n",
       "      <td>314.98</td>\n",
       "      <td>-1</td>\n",
       "    </tr>\n",
       "  </tbody>\n",
       "</table>\n",
       "</div>"
      ],
      "text/plain": [
       "     Yr  Mo  DecDate    Avg    Int  Trend  Days\n",
       "0  1958   3  1958.21 315.71 315.71 314.62    -1\n",
       "1  1958   4  1958.29 317.45 317.45 315.29    -1\n",
       "2  1958   5  1958.38 317.50 317.50 314.71    -1\n",
       "3  1958   6  1958.46 -99.99 317.10 314.85    -1\n",
       "4  1958   7  1958.54 315.86 315.86 314.98    -1"
      ]
     },
     "execution_count": 12,
     "metadata": {},
     "output_type": "execute_result"
    }
   ],
   "source": [
    "co2 = pd.read_csv(\n",
    "    co2_file, header = None, skiprows = 72,\n",
    "    sep = '\\s+', #regex for continuous whitespace \n",
    "    names = ['Yr', 'Mo', 'DecDate', 'Avg', 'Int', 'Trend', 'Days']\n",
    ")\n",
    "co2.head()"
   ]
  },
  {
   "cell_type": "code",
   "execution_count": 13,
   "id": "265d919d-b6cb-4132-8a84-4a0de8d39de3",
   "metadata": {},
   "outputs": [
    {
     "data": {
      "text/plain": [
       "Yr           int64\n",
       "Mo           int64\n",
       "DecDate    float64\n",
       "Avg        float64\n",
       "Int        float64\n",
       "Trend      float64\n",
       "Days         int64\n",
       "dtype: object"
      ]
     },
     "execution_count": 13,
     "metadata": {},
     "output_type": "execute_result"
    }
   ],
   "source": [
    "co2.dtypes"
   ]
  },
  {
   "cell_type": "markdown",
   "id": "4151bbb0-504b-46b4-8a4b-98bec8a9c0fb",
   "metadata": {},
   "source": [
    "### Visualizing CO2 "
   ]
  },
  {
   "cell_type": "markdown",
   "id": "5855ef24-9317-4c17-9c00-7ea241c6186b",
   "metadata": {},
   "source": [
    "Scientific studies tend to have very clean data, right...? Let's jump right in and make a time series plot of CO2 monthly averages."
   ]
  },
  {
   "cell_type": "code",
   "execution_count": 14,
   "id": "ddd32e2e-c9fe-4e4a-a59b-cc832799db0b",
   "metadata": {},
   "outputs": [
    {
     "data": {
      "image/png": "[encoded data removed]",
      "text/plain": [
       "<Figure size 1200x900 with 1 Axes>"
      ]
     },
     "metadata": {},
     "output_type": "display_data"
    }
   ],
   "source": [
    "sns.lineplot(x='DecDate', y='Avg', data=co2);"
   ]
  },
  {
   "cell_type": "markdown",
   "id": "6ef75724-c2d3-418c-84f2-993dfd3d55f9",
   "metadata": {},
   "source": [
    "The code above uses the `seaborn` plotting library (abbreviated `sns`). We will cover this in a future video, but now you don't need to worry about how it works!\n"
   ]
  },
  {
   "cell_type": "markdown",
   "id": "2ebf7489-f104-441a-beb6-d5a0d5e64649",
   "metadata": {},
   "source": [
    "Yikes! Plotting the data uncovered a problem. It looks like we have some **missing values**. What happened here? "
   ]
  },
  {
   "cell_type": "code",
   "execution_count": 15,
   "id": "808528e4-2d59-45f9-8fc6-db237a020b74",
   "metadata": {},
   "outputs": [
    {
     "data": {
      "text/html": [
       "<div>\n",
       "<style scoped>\n",
       "    .dataframe tbody tr th:only-of-type {\n",
       "        vertical-align: middle;\n",
       "    }\n",
       "\n",
       "    .dataframe tbody tr th {\n",
       "        vertical-align: top;\n",
       "    }\n",
       "\n",
       "    .dataframe thead th {\n",
       "        text-align: right;\n",
       "    }\n",
       "</style>\n",
       "<table border=\"1\" class=\"dataframe\">\n",
       "  <thead>\n",
       "    <tr style=\"text-align: right;\">\n",
       "      <th></th>\n",
       "      <th>Yr</th>\n",
       "      <th>Mo</th>\n",
       "      <th>DecDate</th>\n",
       "      <th>Avg</th>\n",
       "      <th>Int</th>\n",
       "      <th>Trend</th>\n",
       "      <th>Days</th>\n",
       "    </tr>\n",
       "  </thead>\n",
       "  <tbody>\n",
       "    <tr>\n",
       "      <th>0</th>\n",
       "      <td>1958</td>\n",
       "      <td>3</td>\n",
       "      <td>1958.21</td>\n",
       "      <td>315.71</td>\n",
       "      <td>315.71</td>\n",
       "      <td>314.62</td>\n",
       "      <td>-1</td>\n",
       "    </tr>\n",
       "    <tr>\n",
       "      <th>1</th>\n",
       "      <td>1958</td>\n",
       "      <td>4</td>\n",
       "      <td>1958.29</td>\n",
       "      <td>317.45</td>\n",
       "      <td>317.45</td>\n",
       "      <td>315.29</td>\n",
       "      <td>-1</td>\n",
       "    </tr>\n",
       "    <tr>\n",
       "      <th>2</th>\n",
       "      <td>1958</td>\n",
       "      <td>5</td>\n",
       "      <td>1958.38</td>\n",
       "      <td>317.50</td>\n",
       "      <td>317.50</td>\n",
       "      <td>314.71</td>\n",
       "      <td>-1</td>\n",
       "    </tr>\n",
       "    <tr>\n",
       "      <th>3</th>\n",
       "      <td>1958</td>\n",
       "      <td>6</td>\n",
       "      <td>1958.46</td>\n",
       "      <td>-99.99</td>\n",
       "      <td>317.10</td>\n",
       "      <td>314.85</td>\n",
       "      <td>-1</td>\n",
       "    </tr>\n",
       "    <tr>\n",
       "      <th>4</th>\n",
       "      <td>1958</td>\n",
       "      <td>7</td>\n",
       "      <td>1958.54</td>\n",
       "      <td>315.86</td>\n",
       "      <td>315.86</td>\n",
       "      <td>314.98</td>\n",
       "      <td>-1</td>\n",
       "    </tr>\n",
       "  </tbody>\n",
       "</table>\n",
       "</div>"
      ],
      "text/plain": [
       "     Yr  Mo  DecDate    Avg    Int  Trend  Days\n",
       "0  1958   3  1958.21 315.71 315.71 314.62    -1\n",
       "1  1958   4  1958.29 317.45 317.45 315.29    -1\n",
       "2  1958   5  1958.38 317.50 317.50 314.71    -1\n",
       "3  1958   6  1958.46 -99.99 317.10 314.85    -1\n",
       "4  1958   7  1958.54 315.86 315.86 314.98    -1"
      ]
     },
     "execution_count": 15,
     "metadata": {},
     "output_type": "execute_result"
    }
   ],
   "source": [
    "co2.head()"
   ]
  },
  {
   "cell_type": "code",
   "execution_count": 16,
   "id": "1945e4bf-fa6a-42ad-ace3-8a5fef6a8ac1",
   "metadata": {},
   "outputs": [
    {
     "data": {
      "text/html": [
       "<div>\n",
       "<style scoped>\n",
       "    .dataframe tbody tr th:only-of-type {\n",
       "        vertical-align: middle;\n",
       "    }\n",
       "\n",
       "    .dataframe tbody tr th {\n",
       "        vertical-align: top;\n",
       "    }\n",
       "\n",
       "    .dataframe thead th {\n",
       "        text-align: right;\n",
       "    }\n",
       "</style>\n",
       "<table border=\"1\" class=\"dataframe\">\n",
       "  <thead>\n",
       "    <tr style=\"text-align: right;\">\n",
       "      <th></th>\n",
       "      <th>Yr</th>\n",
       "      <th>Mo</th>\n",
       "      <th>DecDate</th>\n",
       "      <th>Avg</th>\n",
       "      <th>Int</th>\n",
       "      <th>Trend</th>\n",
       "      <th>Days</th>\n",
       "    </tr>\n",
       "  </thead>\n",
       "  <tbody>\n",
       "    <tr>\n",
       "      <th>733</th>\n",
       "      <td>2019</td>\n",
       "      <td>4</td>\n",
       "      <td>2019.29</td>\n",
       "      <td>413.32</td>\n",
       "      <td>413.32</td>\n",
       "      <td>410.49</td>\n",
       "      <td>26</td>\n",
       "    </tr>\n",
       "    <tr>\n",
       "      <th>734</th>\n",
       "      <td>2019</td>\n",
       "      <td>5</td>\n",
       "      <td>2019.38</td>\n",
       "      <td>414.66</td>\n",
       "      <td>414.66</td>\n",
       "      <td>411.20</td>\n",
       "      <td>28</td>\n",
       "    </tr>\n",
       "    <tr>\n",
       "      <th>735</th>\n",
       "      <td>2019</td>\n",
       "      <td>6</td>\n",
       "      <td>2019.46</td>\n",
       "      <td>413.92</td>\n",
       "      <td>413.92</td>\n",
       "      <td>411.58</td>\n",
       "      <td>27</td>\n",
       "    </tr>\n",
       "    <tr>\n",
       "      <th>736</th>\n",
       "      <td>2019</td>\n",
       "      <td>7</td>\n",
       "      <td>2019.54</td>\n",
       "      <td>411.77</td>\n",
       "      <td>411.77</td>\n",
       "      <td>411.43</td>\n",
       "      <td>23</td>\n",
       "    </tr>\n",
       "    <tr>\n",
       "      <th>737</th>\n",
       "      <td>2019</td>\n",
       "      <td>8</td>\n",
       "      <td>2019.62</td>\n",
       "      <td>409.95</td>\n",
       "      <td>409.95</td>\n",
       "      <td>411.84</td>\n",
       "      <td>29</td>\n",
       "    </tr>\n",
       "  </tbody>\n",
       "</table>\n",
       "</div>"
      ],
      "text/plain": [
       "       Yr  Mo  DecDate    Avg    Int  Trend  Days\n",
       "733  2019   4  2019.29 413.32 413.32 410.49    26\n",
       "734  2019   5  2019.38 414.66 414.66 411.20    28\n",
       "735  2019   6  2019.46 413.92 413.92 411.58    27\n",
       "736  2019   7  2019.54 411.77 411.77 411.43    23\n",
       "737  2019   8  2019.62 409.95 409.95 411.84    29"
      ]
     },
     "execution_count": 16,
     "metadata": {},
     "output_type": "execute_result"
    }
   ],
   "source": [
    "co2.tail()"
   ]
  },
  {
   "cell_type": "markdown",
   "id": "3eafbdfa-1adf-44cc-84b7-be211c9ae54e",
   "metadata": {},
   "source": [
    "Some data have unusual values like -1 and -99.99.\n",
    "\n",
    "Let's check the description at the top of the file again.\n",
    "1. -1 signifies a missing value for the number of days `Days` the equipment was in operation that month.\n",
    "1. -99.99 denotes a missing monthly average `Avg`\n",
    "\n",
    "How can we fix this? First, let's explore other aspects of our data. Understanding our data will help us decide what to do with the missing values.\n",
    "\n",
    "<br/>\n",
    "\n",
    "\n",
    "### Sanity Checks: Reasoning about the data\n",
    "First, we consider the shape of the data. How many rows should we have?\n",
    "* If chronological order, we should have one record per month.\n",
    "* Data from March 1958 to August 2019.\n",
    "* We should have $ 12 \\times (2019-1957) - 2 - 4 = 738 $ records."
   ]
  },
  {
   "cell_type": "code",
   "execution_count": 18,
   "id": "8f87a89b-0655-4d3d-badf-ff7c17235107",
   "metadata": {},
   "outputs": [
    {
     "data": {
      "text/plain": [
       "738"
      ]
     },
     "execution_count": 18,
     "metadata": {},
     "output_type": "execute_result"
    }
   ],
   "source": [
    "len(co2)"
   ]
  },
  {
   "cell_type": "markdown",
   "id": "a9c21ca7-72c0-4b9c-bcf1-0b35517570fc",
   "metadata": {
    "tags": []
   },
   "source": [
    "Nice!! The number of rows (i.e. records) match our expectations.\n",
    "\n",
    "<br/><br/>\n",
    "\n",
    "---\n",
    "\n",
    "Let's now check the quality of each feature.\n",
    "\n",
    "### Understanding Missing Value 1: `Days`\n",
    "`Days` is a time field, so let's analyze other time fields to see if there is an explanation for missing values of days of operation.\n",
    "\n",
    "Let's start with **months** `Mo`.\n",
    "\n",
    "Are we missing any records? The number of months should have 62 or 61 instances (March 1957-August 2019)."
   ]
  },
  {
   "cell_type": "code",
   "execution_count": 20,
   "id": "03c781fa-67ff-42e1-9343-3e1af08cbb3a",
   "metadata": {},
   "outputs": [
    {
     "data": {
      "text/plain": [
       "Mo\n",
       "1     61\n",
       "2     61\n",
       "3     62\n",
       "4     62\n",
       "5     62\n",
       "6     62\n",
       "7     62\n",
       "8     62\n",
       "9     61\n",
       "10    61\n",
       "11    61\n",
       "12    61\n",
       "Name: count, dtype: int64"
      ]
     },
     "execution_count": 20,
     "metadata": {},
     "output_type": "execute_result"
    }
   ],
   "source": [
    "co2[\"Mo\"].value_counts().sort_index()"
   ]
  },
  {
   "cell_type": "markdown",
   "id": "2f8989e9-61e7-4301-bfba-0a62c4b7e744",
   "metadata": {},
   "source": [
    "As expected Jan, Feb, Sep, Oct, Nov, and Dec have 61 occurrences and the rest 62.\n",
    "\n",
    "<br/><br/>\n",
    "\n",
    "Next let's explore **days** `Days` itself, which is the number of days that the measurement equipment worked."
   ]
  },
  {
   "cell_type": "code",
   "execution_count": 21,
   "id": "f5e105d0-dd96-4974-a34d-7f0083a05cba",
   "metadata": {},
   "outputs": [
    {
     "data": {
      "image/png": "[encoded data removed]",
      "text/plain": [
       "<Figure size 500x500 with 1 Axes>"
      ]
     },
     "metadata": {},
     "output_type": "display_data"
    }
   ],
   "source": [
    "sns.displot(co2['Days']);\n",
    "plt.title(\"Distribution of days feature\"); # suppresses unneeded plotting output"
   ]
  },
  {
   "cell_type": "markdown",
   "id": "6904d3cb-1b53-46a6-ba23-74e499a3d544",
   "metadata": {},
   "source": [
    "In terms of data quality, a handful of months have averages based on measurements taken on fewer than half the days. In addition, there are nearly 200 missing values--**that's about 27% of the data**!\n",
    "\n",
    "<br/><br/>\n",
    "\n",
    "Finally, let's check the last time feature, **year** `Yr`.\n",
    "\n",
    "Let's check to see if there is any connection between missingness and the year of the recording."
   ]
  },
  {
   "cell_type": "code",
   "execution_count": 22,
   "id": "43d897d8-b910-4b7c-898d-0d51f51d97bf",
   "metadata": {},
   "outputs": [
    {
     "data": {
      "image/png": "[encoded data removed]",
      "text/plain": [
       "<Figure size 1200x900 with 1 Axes>"
      ]
     },
     "metadata": {},
     "output_type": "display_data"
    }
   ],
   "source": [
    "sns.scatterplot(x=\"Yr\", y=\"Days\", data=co2);\n",
    "plt.title(\"Day field by Year\"); # the ; suppresses output"
   ]
  },
  {
   "cell_type": "markdown",
   "id": "769c3a68-ecf4-45bf-8625-70e7bfd8bc6f",
   "metadata": {},
   "source": [
    "**Observations**:\n",
    "\n",
    "* All of the missing data are in the early years of operation.\n",
    "* It appears there may have been problems with equipment in the mid to late 80s.\n",
    "\n",
    "**Potential Next Steps**:\n",
    "* Confirm these explanations through documentation about the historical readings.\n",
    "* Maybe drop earliest recordings? However, we would want to delay such action until after we have examined the time trends and assess whether there are any potential problems.\n",
    "\n",
    "---\n",
    "<br/><br/>\n",
    "\n",
    "### Understanding Missing Value 2: `Avg`\n",
    "Next, let's return to the -99.99 values in `Avg` to analyze the overall quality of the CO2 measurements."
   ]
  },
  {
   "cell_type": "code",
   "execution_count": 23,
   "id": "d99677c4-f36a-48c3-b02b-c4f69df5e2d2",
   "metadata": {},
   "outputs": [
    {
     "data": {
      "image/png": "[encoded data removed]",
      "text/plain": [
       "<Figure size 500x500 with 1 Axes>"
      ]
     },
     "metadata": {},
     "output_type": "display_data"
    }
   ],
   "source": [
    "# Histograms of average CO2 measurements\n",
    "sns.displot(co2['Avg']);"
   ]
  },
  {
   "cell_type": "markdown",
   "id": "4cac689d-3e83-4c4b-8ba5-9ca1d1392539",
   "metadata": {},
   "source": [
    "The non-missing values are in the 300-400 range (a regular range of CO2 levels).\n",
    "\n",
    "We also see that there are only a few missing `Avg` values (**<1% of values**). Let's examine all of them:"
   ]
  },
  {
   "cell_type": "code",
   "execution_count": 24,
   "id": "169c209d-559f-4be0-bcf2-3822b766375e",
   "metadata": {},
   "outputs": [
    {
     "data": {
      "text/html": [
       "<div>\n",
       "<style scoped>\n",
       "    .dataframe tbody tr th:only-of-type {\n",
       "        vertical-align: middle;\n",
       "    }\n",
       "\n",
       "    .dataframe tbody tr th {\n",
       "        vertical-align: top;\n",
       "    }\n",
       "\n",
       "    .dataframe thead th {\n",
       "        text-align: right;\n",
       "    }\n",
       "</style>\n",
       "<table border=\"1\" class=\"dataframe\">\n",
       "  <thead>\n",
       "    <tr style=\"text-align: right;\">\n",
       "      <th></th>\n",
       "      <th>Yr</th>\n",
       "      <th>Mo</th>\n",
       "      <th>DecDate</th>\n",
       "      <th>Avg</th>\n",
       "      <th>Int</th>\n",
       "      <th>Trend</th>\n",
       "      <th>Days</th>\n",
       "    </tr>\n",
       "  </thead>\n",
       "  <tbody>\n",
       "    <tr>\n",
       "      <th>3</th>\n",
       "      <td>1958</td>\n",
       "      <td>6</td>\n",
       "      <td>1958.46</td>\n",
       "      <td>-99.99</td>\n",
       "      <td>317.10</td>\n",
       "      <td>314.85</td>\n",
       "      <td>-1</td>\n",
       "    </tr>\n",
       "    <tr>\n",
       "      <th>7</th>\n",
       "      <td>1958</td>\n",
       "      <td>10</td>\n",
       "      <td>1958.79</td>\n",
       "      <td>-99.99</td>\n",
       "      <td>312.66</td>\n",
       "      <td>315.61</td>\n",
       "      <td>-1</td>\n",
       "    </tr>\n",
       "    <tr>\n",
       "      <th>71</th>\n",
       "      <td>1964</td>\n",
       "      <td>2</td>\n",
       "      <td>1964.12</td>\n",
       "      <td>-99.99</td>\n",
       "      <td>320.07</td>\n",
       "      <td>319.61</td>\n",
       "      <td>-1</td>\n",
       "    </tr>\n",
       "    <tr>\n",
       "      <th>72</th>\n",
       "      <td>1964</td>\n",
       "      <td>3</td>\n",
       "      <td>1964.21</td>\n",
       "      <td>-99.99</td>\n",
       "      <td>320.73</td>\n",
       "      <td>319.55</td>\n",
       "      <td>-1</td>\n",
       "    </tr>\n",
       "    <tr>\n",
       "      <th>73</th>\n",
       "      <td>1964</td>\n",
       "      <td>4</td>\n",
       "      <td>1964.29</td>\n",
       "      <td>-99.99</td>\n",
       "      <td>321.77</td>\n",
       "      <td>319.48</td>\n",
       "      <td>-1</td>\n",
       "    </tr>\n",
       "    <tr>\n",
       "      <th>213</th>\n",
       "      <td>1975</td>\n",
       "      <td>12</td>\n",
       "      <td>1975.96</td>\n",
       "      <td>-99.99</td>\n",
       "      <td>330.59</td>\n",
       "      <td>331.60</td>\n",
       "      <td>0</td>\n",
       "    </tr>\n",
       "    <tr>\n",
       "      <th>313</th>\n",
       "      <td>1984</td>\n",
       "      <td>4</td>\n",
       "      <td>1984.29</td>\n",
       "      <td>-99.99</td>\n",
       "      <td>346.84</td>\n",
       "      <td>344.27</td>\n",
       "      <td>2</td>\n",
       "    </tr>\n",
       "  </tbody>\n",
       "</table>\n",
       "</div>"
      ],
      "text/plain": [
       "       Yr  Mo  DecDate    Avg    Int  Trend  Days\n",
       "3    1958   6  1958.46 -99.99 317.10 314.85    -1\n",
       "7    1958  10  1958.79 -99.99 312.66 315.61    -1\n",
       "71   1964   2  1964.12 -99.99 320.07 319.61    -1\n",
       "72   1964   3  1964.21 -99.99 320.73 319.55    -1\n",
       "73   1964   4  1964.29 -99.99 321.77 319.48    -1\n",
       "213  1975  12  1975.96 -99.99 330.59 331.60     0\n",
       "313  1984   4  1984.29 -99.99 346.84 344.27     2"
      ]
     },
     "execution_count": 24,
     "metadata": {},
     "output_type": "execute_result"
    }
   ],
   "source": [
    "co2[co2[\"Avg\"]<0]"
   ]
  },
  {
   "cell_type": "markdown",
   "id": "41593b63-9fc4-4499-920f-4b752b5c8848",
   "metadata": {},
   "source": [
    "There doesn't seem to be a pattern to these values, other than that most records also were missing `Days` data."
   ]
  },
  {
   "cell_type": "markdown",
   "id": "08e06eb3-a7a5-4a4b-b83a-32e721fbdfe4",
   "metadata": {},
   "source": [
    "### Drop, `NaN`, or Impute Missing `Avg` Data?"
   ]
  },
  {
   "cell_type": "markdown",
   "id": "0947b3b1-0148-4407-9715-50a2a2aca315",
   "metadata": {},
   "source": [
    "How should we address the invalid `Avg` data?\n",
    "\n",
    "A. Drop records\n",
    "\n",
    "B. Set to NaN\n",
    "\n",
    "C. Impute using some strategy\n",
    "\n",
    "Remember we want to fix the following plot:"
   ]
  },
  {
   "cell_type": "code",
   "execution_count": 25,
   "id": "646d4e3e-2857-4017-92a7-a307cf8d741a",
   "metadata": {},
   "outputs": [
    {
     "data": {
      "image/png": "[encoded data removed]",
      "text/plain": [
       "<Figure size 1200x900 with 1 Axes>"
      ]
     },
     "metadata": {},
     "output_type": "display_data"
    }
   ],
   "source": [
    "sns.lineplot(x='DecDate', y='Avg', data=co2)\n",
    "plt.title(\"CO2 Average By Month\");"
   ]
  },
  {
   "cell_type": "markdown",
   "id": "632111f7-3920-4835-9a5b-07dd34b86fde",
   "metadata": {},
   "source": [
    "Since we are plotting `Avg` vs `DecDate`, we should just focus on dealing with missing values for `Avg`."
   ]
  },
  {
   "cell_type": "markdown",
   "id": "89240adb-375f-4fa0-9e81-19d4490c34e5",
   "metadata": {},
   "source": [
    "Let's consider a few options:\n",
    "1. Drop those records\n",
    "1. Replace -99.99 with NaN\n",
    "1. Substitute it with a likely value for the average CO2?\n",
    "\n",
    "What do you think are the pros and cons of each possible action?\n",
    "\n",
    "---\n",
    "<br/><br/>\n",
    "Let's examine each of these three options."
   ]
  },
  {
   "cell_type": "code",
   "execution_count": 26,
   "id": "7245c167-3693-439d-9f87-d4102201442f",
   "metadata": {},
   "outputs": [],
   "source": [
    "# 1. Drop missing values\n",
    "co2_drop = co2[co2[\"Avg\"]>0]\n",
    "\n",
    "# 2. Replace -99.99  with NaN\n",
    "co2_NA = co2.replace(-99.99, np.NaN)"
   ]
  },
  {
   "cell_type": "markdown",
   "id": "fe4f4a39-9e95-4924-ab38-f7b0df884e7b",
   "metadata": {},
   "source": [
    "We'll also use a third version of the data.\n",
    "First, we note that the dataset already comes with a **substitute value** for the -99.99.\n",
    "\n",
    "From the file description:\n",
    "\n",
    ">  The `interpolated` column includes average values from the preceding column (`average`)\n",
    "and **interpolated values** where data are missing.  Interpolated values are\n",
    "computed in two steps...\n",
    "\n",
    "The `Int` feature has values that exactly match those in `Avg`, except when `Avg` is -99.99, and then a **reasonable** estimate is used instead.\n",
    "So, the third version of our data will use the `Int` feature instead of `Avg`."
   ]
  },
  {
   "cell_type": "code",
   "execution_count": 27,
   "id": "6dcf30ad-0da1-4f0a-8e97-e1ab1e3b6d1b",
   "metadata": {},
   "outputs": [],
   "source": [
    "# 3. Use interpolated column which estimates missing Avg values\n",
    "co2_impute = co2.copy()\n",
    "co2_impute['Avg'] = co2['Int']\n"
   ]
  },
  {
   "cell_type": "markdown",
   "id": "a7f4dd3c-f01e-410d-b878-2cd7df78908e",
   "metadata": {},
   "source": [
    "<br/>\n",
    "\n",
    "---\n",
    "\n",
    "What's a **reasonable** estimate?\n",
    "\n",
    "To answer this question, let's zoom in on a short time period, say the measurements in 1958 (where we know we have two missing values).\n"
   ]
  },
  {
   "cell_type": "code",
   "execution_count": 28,
   "id": "a9f0083e-9e0c-442b-b6a4-baca39cf1269",
   "metadata": {},
   "outputs": [
    {
     "data": {
      "image/png": "[encoded data removed]",
      "text/plain": [
       "<Figure size 1200x400 with 3 Axes>"
      ]
     },
     "metadata": {},
     "output_type": "display_data"
    }
   ],
   "source": [
    "# results of plotting data in 1958\n",
    "\n",
    "def line_and_points(data, ax, title):\n",
    "    # assumes single year, hence Mo\n",
    "    ax.plot('Mo', 'Avg', data=data)\n",
    "    ax.scatter('Mo', 'Avg', data=data)\n",
    "    ax.set_xlim(2, 13)\n",
    "    ax.set_title(title)\n",
    "    ax.set_xticks(np.arange(3, 13))\n",
    "\n",
    "def data_year(data, year):\n",
    "    return data[data[\"Yr\"] == 1958]\n",
    "    \n",
    "# uses matplotlib subplots\n",
    "# you may see more next week; focus on output for now\n",
    "fig, axes = plt.subplots(ncols = 3, figsize=(12, 4), sharey=True)\n",
    "\n",
    "year = 1958\n",
    "line_and_points(data_year(co2_drop, year), axes[0], title=\"1. Drop Missing\")\n",
    "line_and_points(data_year(co2_NA, year), axes[1], title=\"2. Missing Set to NaN\")\n",
    "line_and_points(data_year(co2_impute, year), axes[2], title=\"3. Missing Interpolated\")\n",
    "\n",
    "fig.suptitle(f\"Monthly Averages for {year}\")\n",
    "plt.tight_layout()"
   ]
  },
  {
   "cell_type": "markdown",
   "id": "1966a26b-11cb-4ead-9079-9190fddaf8e6",
   "metadata": {},
   "source": [
    "In the big picture since there are only 7 `Avg` values missing (**<1%** of 738 months), any of these approaches would work.\n",
    "\n",
    "However there is some appeal to **option C: Imputing**:\n",
    "* Shows seasonal trends for CO2\n",
    "* We are plotting all months in our data as a line plot\n",
    "\n",
    "<br/>\n",
    "\n",
    "---\n",
    "Let's replot our original figure with option 3:"
   ]
  },
  {
   "cell_type": "code",
   "execution_count": 29,
   "id": "290194da-7863-4013-8d97-eb7b647242af",
   "metadata": {},
   "outputs": [
    {
     "data": {
      "image/png": "[encoded data removed]",
      "text/plain": [
       "<Figure size 1200x900 with 1 Axes>"
      ]
     },
     "metadata": {},
     "output_type": "display_data"
    }
   ],
   "source": [
    "sns.lineplot(x='DecDate', y='Avg', data=co2_impute)\n",
    "plt.title(\"CO2 Average By Month, Imputed\");"
   ]
  },
  {
   "cell_type": "markdown",
   "id": "42c0e8b8-85f3-450a-840d-1ad6ae24ccd6",
   "metadata": {},
   "source": [
    "Looks pretty close to what we see on the NOAA [website](https://gml.noaa.gov/ccgg/trends/)!"
   ]
  },
  {
   "cell_type": "markdown",
   "id": "cfc3daf4-dfd8-4592-882a-af3b4eda806a",
   "metadata": {},
   "source": [
    "### Presenting the data: A Discussion on Data Granularity"
   ]
  },
  {
   "cell_type": "markdown",
   "id": "4decda8b-9012-43f6-83aa-257eaf351f02",
   "metadata": {},
   "source": [
    "From the description:\n",
    "* monthly measurements are averages of average day measurements.\n",
    "* The NOAA GML website has datasets for daily/hourly measurements too.\n",
    "\n",
    "The data you present depends on your research question.\n",
    "\n",
    "**How do CO2 levels vary by season?**\n",
    "* You might want to keep average monthly data.\n",
    "\n",
    "**Are CO2 levels rising over the past 50+ years, consistent with global warming predictions?**\n",
    "* You might be happier with a **coarser granularity** of average year data!"
   ]
  },
  {
   "cell_type": "code",
   "execution_count": 31,
   "id": "d8a9c95b-c939-4eed-bd60-c6119d367d70",
   "metadata": {},
   "outputs": [
    {
     "data": {
      "image/png": "[encoded data removed]",
      "text/plain": [
       "<Figure size 1200x900 with 1 Axes>"
      ]
     },
     "metadata": {},
     "output_type": "display_data"
    }
   ],
   "source": [
    "co2_year = co2_impute.groupby(\"Yr\").mean()\n",
    "\n",
    "co2_year.head()\n",
    "sns.lineplot(x='Yr', y='Avg', data=co2_year)\n",
    "plt.title(\"CO2 Average By Year\");"
   ]
  },
  {
   "cell_type": "markdown",
   "id": "d69a645c-7a04-4b52-aea0-8bb2929a2100",
   "metadata": {},
   "source": [
    "Indeed, we see a rise by nearly 100 ppm of CO2 since Mauna Loa began recording in 1958."
   ]
  },
  {
   "cell_type": "markdown",
   "id": "af921c77-fed6-4f82-9ce7-f1b478602cda",
   "metadata": {
    "editable": true,
    "slideshow": {
     "slide_type": ""
    },
    "tags": []
   },
   "source": [
    "\n",
    "<br/><br/><br/>\n",
    "\n",
    "---\n",
    "\n",
    "# Bonus EDA\n",
    "\n",
    "We likely won't get to this part, so a tutorial is provided for your own curiosity.\n",
    "\n",
    "**How do we reproduce that reported statistic in the original [CDC report](https://www.cdc.gov/mmwr/volumes/71/wr/mm7112a1.htm?s_cid=mm7112a1_w)?**\n",
    "\n",
    "> Reported TB incidence (cases per 100,000 persons) increased **9.4%**, from **2.2** during 2020 to **2.4** during 2021 but was lower than incidence during 2019 (2.7). Increases occurred among both U.S.-born and non–U.S.-born persons.\n",
    "\n",
    "This is TB incidence computed across the entire U.S. population! How do we reproduce this\n",
    "* We need to reproduce the \"Total\" TB incidences in our rolled record.\n",
    "* But our current `tb_census_df` only has 51 entries (50 states plus Washington, D.C.). There is no rolled record.\n",
    "* What happened...?\n",
    "\n",
    "Let's get exploring!\n",
    "<br/><br/>"
   ]
  },
  {
   "cell_type": "markdown",
   "id": "47a705d2-0561-41fb-a7d1-ed0039441ac1",
   "metadata": {},
   "source": [
    "Before we keep exploring, I'm going to set all indexes to more meaningful values, instead of just numbers that pertained to some row at some point. This will make our cleaning slightly easier."
   ]
  },
  {
   "cell_type": "code",
   "execution_count": null,
   "id": "118fe56f-497d-45e1-b7cf-a5892b6a5fce",
   "metadata": {
    "editable": true,
    "slideshow": {
     "slide_type": ""
    },
    "tags": []
   },
   "outputs": [],
   "source": [
    "tb_df = tb_df.set_index(\"U.S. jurisdiction\")\n",
    "tb_df"
   ]
  },
  {
   "cell_type": "code",
   "execution_count": null,
   "id": "335d796f-ea06-4bdf-a0da-a8c00c0204f6",
   "metadata": {},
   "outputs": [],
   "source": [
    "census_2010s_df = census_2010s_df.set_index(\"Geographic Area\")\n",
    "census_2010s_df"
   ]
  },
  {
   "cell_type": "code",
   "execution_count": null,
   "id": "697ec976-dd7f-4294-a040-1bd173ace339",
   "metadata": {},
   "outputs": [],
   "source": [
    "census_2020s_df = census_2020s_df.set_index(\"Geographic Area\")\n",
    "census_2020s_df"
   ]
  },
  {
   "cell_type": "markdown",
   "id": "74b60b77-f114-4026-ba44-5cf770ef641c",
   "metadata": {},
   "source": [
    "It turns out that our merge above only kept state records, even though our original `tb_df` had the \"Total\" rolled record:"
   ]
  },
  {
   "cell_type": "code",
   "execution_count": null,
   "id": "866f4a7a-372b-4f61-b8c3-83447db45cf5",
   "metadata": {},
   "outputs": [],
   "source": [
    "tb_df.head()"
   ]
  },
  {
   "cell_type": "markdown",
   "id": "518cf50c-7f46-47aa-bf39-d5f18e842c89",
   "metadata": {},
   "source": [
    "Recall that merge by default does an **inner** merge by default, meaning that it only preserves keys that are present in **both** DataFrames.\n",
    "\n",
    "The rolled records in our census dataframes have different `Geographic Area` fields, which was the key we merged on:"
   ]
  },
  {
   "cell_type": "code",
   "execution_count": null,
   "id": "1011c8f8-b4e8-4648-b594-02cc6fa15135",
   "metadata": {},
   "outputs": [],
   "source": [
    "census_2010s_df"
   ]
  },
  {
   "cell_type": "markdown",
   "id": "83e598c3-f601-4f36-bd1b-2f81db9fbb4a",
   "metadata": {},
   "source": [
    "The Census DataFrame has several rolled records. The aggregate record we are looking for actually has the Geographic Area named \"United States\".\n",
    "\n",
    "One straightforward way to get the right merge is to rename the value itself. Because we now have the Geographic Area index, we'll use `df.rename()` ([documentation](https://pandas.pydata.org/docs/reference/api/pandas.DataFrame.rename.html)):"
   ]
  },
  {
   "cell_type": "code",
   "execution_count": null,
   "id": "1763237d-1c43-47ad-9bac-0da71d23d5e3",
   "metadata": {},
   "outputs": [],
   "source": [
    "# rename rolled record for 2010s\n",
    "census_2010s_df.rename(index={'United States':'Total'}, inplace=True)\n",
    "census_2010s_df"
   ]
  },
  {
   "cell_type": "code",
   "execution_count": null,
   "id": "8af9af58-3bae-4fee-b343-16d16f700551",
   "metadata": {},
   "outputs": [],
   "source": [
    "# same, but for 2020s rename rolled record\n",
    "census_2020s_df.rename(index={'United States':'Total'}, inplace=True)\n",
    "census_2020s_df"
   ]
  },
  {
   "cell_type": "markdown",
   "id": "2d4468bc-2d7f-41e2-a1d4-718784e05659",
   "metadata": {},
   "source": [
    "<br/>\n",
    "\n",
    "Next let's rerun our merge. Note the different chaining, because we are now merging on indexes (`df.merge()` [documentation](https://pandas.pydata.org/docs/reference/api/pandas.DataFrame.merge.html))."
   ]
  },
  {
   "cell_type": "code",
   "execution_count": null,
   "id": "2cb4f805-ef25-4dfc-9286-1273728a4fc8",
   "metadata": {},
   "outputs": [],
   "source": [
    "tb_census_df = (\n",
    "    tb_df\n",
    "    .merge(right=census_2010s_df[[\"2019\"]],\n",
    "           left_index=True, right_index=True)\n",
    "    .merge(right=census_2020s_df[[\"2020\", \"2021\"]],\n",
    "           left_index=True, right_index=True)\n",
    ")\n",
    "tb_census_df"
   ]
  },
  {
   "cell_type": "markdown",
   "id": "7877e850-da50-42c6-8643-f93d2aa83f6a",
   "metadata": {},
   "source": [
    "<br/>\n",
    "\n",
    "Finally, let's recompute our incidences:"
   ]
  },
  {
   "cell_type": "code",
   "execution_count": null,
   "id": "87d21398-019f-4eb5-a4c9-2c3d25376d00",
   "metadata": {},
   "outputs": [],
   "source": [
    "# recompute incidence for all years\n",
    "for year in [2019, 2020, 2021]:\n",
    "    tb_census_df[f\"recompute incidence {year}\"] = tb_census_df[f\"TB cases {year}\"]/tb_census_df[f\"{year}\"]*100000\n",
    "tb_census_df"
   ]
  },
  {
   "cell_type": "markdown",
   "id": "145fbe39-b994-423d-a445-e9cb28dfc940",
   "metadata": {},
   "source": [
    "We reproduced the total U.S. incidences correctly!\n",
    "\n",
    "We're almost there. Let's revisit the quote:\n",
    "\n",
    "> Reported TB incidence (cases per 100,000 persons) increased **9.4%**, from **2.2** during 2020 to **2.4** during 2021 but was lower than incidence during 2019 (2.7). Increases occurred among both U.S.-born and non–U.S.-born persons.\n",
    "\n",
    "Recall that percent change from $A$ to $B$ is computed as\n",
    "$$\\text{percent change} = \\frac{B - A}{A} \\times 100$$."
   ]
  },
  {
   "cell_type": "code",
   "execution_count": null,
   "id": "81111bd8-0c96-47af-9788-b38ef80be1e1",
   "metadata": {},
   "outputs": [],
   "source": [
    "incidence_2020 = tb_census_df.loc['Total', 'recompute incidence 2020']\n",
    "incidence_2020"
   ]
  },
  {
   "cell_type": "code",
   "execution_count": null,
   "id": "42e98998-b46d-40d6-9855-0e6be4ade34a",
   "metadata": {},
   "outputs": [],
   "source": [
    "incidence_2021 = tb_census_df.loc['Total', 'recompute incidence 2021']\n",
    "incidence_2021\n"
   ]
  },
  {
   "cell_type": "code",
   "execution_count": null,
   "id": "7a3bd165-b177-4de2-9e9c-ef0c3348cd67",
   "metadata": {},
   "outputs": [],
   "source": [
    "difference = (incidence_2021 - incidence_2020)/incidence_2020 * 100\n",
    "difference"
   ]
  },
  {
   "cell_type": "markdown",
   "id": "15075a62-fe6f-4eb4-80f6-ca1a178364c0",
   "metadata": {},
   "source": [
    "We did it!!!"
   ]
  }
 ],
 "metadata": {
  "kernelspec": {
   "display_name": "Python 3 (ipykernel)",
   "language": "python",
   "name": "python3"
  },
  "language_info": {
   "codemirror_mode": {
    "name": "ipython",
    "version": 3
   },
   "file_extension": ".py",
   "mimetype": "text/x-python",
   "name": "python",
   "nbconvert_exporter": "python",
   "pygments_lexer": "ipython3",
   "version": "3.9.19"
  }
 },
 "nbformat": 4,
 "nbformat_minor": 5
}
