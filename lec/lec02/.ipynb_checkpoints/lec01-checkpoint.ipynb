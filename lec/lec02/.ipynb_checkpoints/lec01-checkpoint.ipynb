{
 "cells": [
  {
   "cell_type": "markdown",
   "id": "ce3f6559",
   "metadata": {},
   "source": [
    "# Lesson 1 CSCI 3022\n",
    "\n",
    "\n",
    "Practice with Exploratory Data Analysis and Intro to Pandas to accompany Lesson 1\n",
    "\n",
    "\n",
    "# Intro to Exploratory Data Analysis"
   ]
  },
  {
   "cell_type": "markdown",
   "id": "7175792a",
   "metadata": {},
   "source": [
    "<br/><br/>\n",
    "<hr style=\"border: 5px solid #003262;\" />\n",
    "<hr style=\"border: 1px solid #fdb515;\" />\n",
    "\n",
    "\n",
    "# Key Considerations in Exploratory Data Analysis:\n",
    "\n",
    "- **1).   Structure -- what is the “shape” of a data file?**\n",
    "\n",
    "- 2). Granularity -- what type of data does each record represent? how fine/coarse is each record in your data?\n",
    "\n",
    "- 3). Scope -- does the data cover the target population?\n",
    "\n",
    "- 4). Temporality -- how is the data situated in time?\n",
    "\n",
    "- 5).  Faithfulness -- how well does the data capture “reality”\n"
   ]
  },
  {
   "cell_type": "markdown",
   "id": "44d35eff-9c43-41c4-ad4d-5ca4cb92bf12",
   "metadata": {},
   "source": [
    "## Dataset: United States Presidential Election Data\n",
    "For our first analysis we will analyze some data from US Presidential elections.  This data is already stored in `data/elections.csv`"
   ]
  },
  {
   "cell_type": "markdown",
   "id": "576e577c",
   "metadata": {},
   "source": [
    "***\n",
    "## EDA - 1).  What is the Structure of the Data?\n",
    "\n",
    "We refer to a dataset’s **structure** as a mental representation of the data, and in particular, we represent data that have a tabular structure by arranging values in rows and columns. \n",
    "\n",
    "**Guiding Questions When Examining Data Structure**\n",
    "     \n",
    "   - What is the size of the data?\n",
    "   - What type of file is it? (Do we trust this file extension?)\n",
    "   - Are the data organized in records or nested?\n",
    "   - Can we define records by parsing the data?\n",
    "   - Can we reasonably un-nest the data?\n",
    "   - Does the data reference other data?\n",
    "   - Can we join/merge the data? (Do we need to)?\n",
    "   - What are the fields in each record?\n",
    "    - How are they encoded?  (e.g., strings, numbers, binary, dates …)\n",
    "     - Datatype/Storage type: How each variable value is stored in memory. \n",
    "        - integer, floating point, boolean, object (string-like), etc.\n",
    "        - Affects which pandas functions you use.\n",
    "     - Variable type/Feature type for modeling and visualization:\n",
    "        - Conceptualized measurement of information (and therefore what values it can take on).\n",
    "            - Use expert knowledge; Explore data itself; Consult data codebook (if it exists).\n",
    "\n",
    "     \n"
   ]
  },
  {
   "cell_type": "markdown",
   "id": "b0aa2c45",
   "metadata": {},
   "source": [
    "### How big is the data?\n",
    "I often like to start my analysis by getting a rough estimate of the size of the data. This will help inform the tools I use and how I view the data. If it is relatively small I might use a text editor or a spreadsheet to look at the data. If it is larger, I might jump to more programmatic exploration or even used distributed computing tools.\n",
    "\n",
    "However here we will use python tools to probe the file:\n"
   ]
  },
  {
   "cell_type": "code",
   "execution_count": null,
   "id": "24ec8bfb",
   "metadata": {},
   "outputs": [],
   "source": [
    "#the following line imports a module called os (https://docs.python.org/3/library/os.html)\n",
    "import os\n",
    "\n",
    "#We use functions in the os module to get the size of the data and print the result:\n",
    "print(\"data/elections.csv is\", os.path.getsize(\"data/elections.csv\") / 1e6, \"MB\")"
   ]
  },
  {
   "cell_type": "markdown",
   "id": "6a6f9c94",
   "metadata": {},
   "source": [
    "I might also want to investigate the number of lines, which often corresponds to the number of records:"
   ]
  },
  {
   "cell_type": "code",
   "execution_count": null,
   "id": "4547046c",
   "metadata": {},
   "outputs": [],
   "source": [
    "with open(\"data/elections.csv\", \"r\") as f:\n",
    "    print(\"data/elections.csv\", \"is\", sum(1 for l in f), \"lines.\")"
   ]
  },
  {
   "cell_type": "markdown",
   "id": "0d6ff446-3727-4f0c-a0e5-bf167dfb09d2",
   "metadata": {},
   "source": [
    "We can see this is not a huge file."
   ]
  },
  {
   "cell_type": "markdown",
   "id": "2956f3e9-c768-49a1-b655-898d852e647c",
   "metadata": {},
   "source": [
    "<br>\n",
    "\n",
    "---\n",
    "\n",
    "# Exploring CSV Files\n"
   ]
  },
  {
   "cell_type": "markdown",
   "id": "3a1237e8-e359-4da8-a3c9-4efffd1c2168",
   "metadata": {},
   "source": [
    "We can then explore the CSV (which is a text file, and does not contain binary-encoded data) in many ways:\n",
    "1. Using a the jupyter lab explorer tool look at the data\n",
    "2. Opening the CSV directly in DataHub (read-only), Excel, Google Sheets, etc.\n",
    "3. The Python file object\n",
    "4. pandas, using `pd.read_csv()`"
   ]
  },
  {
   "cell_type": "markdown",
   "id": "2acfff73-f407-4cde-8bbc-f94e7ce1ede5",
   "metadata": {},
   "source": [
    "<br>\n",
    "\n",
    "\n",
    "---\n",
    "\n",
    "## Play with the data in the Jupyter Lab Explorer\n",
    "1, 2. Let's start with the first two so we really solidify the idea of a CSV as **rectangular data (i.e., tabular data) stored as comma-separated values**."
   ]
  },
  {
   "cell_type": "markdown",
   "id": "59cb438c-9a0d-4947-92c8-0539623a835c",
   "metadata": {},
   "source": [
    "<br>\n",
    "\n",
    "---\n",
    "\n",
    "## Play with the data in python\n",
    "\n",
    "3. Next, let's try using the Python file object. Let's check out the first four lines:"
   ]
  },
  {
   "cell_type": "code",
   "execution_count": null,
   "id": "6bf63a84-db3d-4f88-82e2-d49053d84b2e",
   "metadata": {},
   "outputs": [],
   "source": [
    "with open(\"data/elections.csv\", \"r\") as f:\n",
    "    for i, row in enumerate(f):\n",
    "        print(row)\n",
    "        if i >= 3: break"
   ]
  },
  {
   "cell_type": "markdown",
   "id": "de0f5e9d-a0de-4e28-ac61-65811aa4c7f3",
   "metadata": {},
   "source": [
    "Whoa, why are there blank lines interspaced between the lines of the CSV?\n",
    "\n",
    "All line breaks in text files are encoded as the special newline character `\\n`. Python's `print()` prints each string (including the newline), and an additional newline on top of that.\n",
    "\n",
    "If you're curious, we can use the `repr()` function to return the raw string with all special characters:"
   ]
  },
  {
   "cell_type": "code",
   "execution_count": null,
   "id": "664eb6b6-b671-4314-a20f-5a99ed8ae544",
   "metadata": {},
   "outputs": [],
   "source": [
    "with open(\"data/elections.csv\", \"r\") as f:\n",
    "    for i, row in enumerate(f):\n",
    "        print(repr(row)) # print raw strings\n",
    "        if i >= 3: break"
   ]
  },
  {
   "cell_type": "markdown",
   "id": "b61939e6-ed9b-46b3-af2e-39fee0b36666",
   "metadata": {},
   "source": [
    "As data gets bigger it will be important to read only the parts you need into the notebook."
   ]
  },
  {
   "cell_type": "markdown",
   "id": "0f05aecd-cfb3-46ed-9f29-ed6d3d6f3f57",
   "metadata": {},
   "source": [
    "<br/>\n",
    "\n",
    "---\n",
    "\n",
    "4. Finally, let's see the tried-and-true CSCI 3022 approach: **pandas**."
   ]
  },
  {
   "cell_type": "markdown",
   "id": "e91a5db8",
   "metadata": {},
   "source": [
    "## Pandas module:\n",
    "***\n",
    "**Pandas** is an open source $\\color{red}{\\text{data analysis module}}$ in Python used for storing, cleaning, wrangling, and analyzing data.   (Fun fact: It was named as a shortcut for the term \"$\\textbf{pan}$el  $\\textbf{da}$ta\", a common term for multidimensional data sets encountered in statistics and econometrics.)\n",
    "\n",
    "\n",
    "\n",
    "\n",
    "\n",
    "First, let's import the Pandas module.  It's custom in data science to import Pandas with the alias $\\texttt{pd}$.  We can then access any function in the Pandas libraries by prepending function names by $\\texttt{pd.}$  "
   ]
  },
  {
   "cell_type": "code",
   "execution_count": null,
   "id": "71bca93e",
   "metadata": {},
   "outputs": [],
   "source": [
    "import pandas as pd"
   ]
  },
  {
   "cell_type": "markdown",
   "id": "32802889",
   "metadata": {},
   "source": [
    "### $\\color{red}{\\textbf{Pandas}}$ Data Structures\n",
    "\n",
    "\n",
    "\n",
    "\n",
    "Pandas has three types of data structures: \n",
    "- **Series**: A one dimensional array with labeled indices (can be mixed data types). \n",
    "-  **DataFrame**: 2D tabular data structure with both row and column labels.  $\\color{red}{\\text{Rows}}$ have a specific index to access them, which can be $\\color{red}{\\text{any name or value}}$. The $\\color{blue}{\\text{columns}}$ are just $\\color{blue}{\\text{Pandas Series}}$. The Pandas DataFrame data structure can be seen as a spreadsheet, but it is much more flexible. \n",
    "-  **Index**:  A sequence of row/column labels\n"
   ]
  },
  {
   "attachments": {
    "pandas-DataStructure.jpg": {
     "image/jpeg": "[encoded data removed]"
    }
   },
   "cell_type": "markdown",
   "id": "c6bc9bf5",
   "metadata": {},
   "source": [
    "![pandas-DataStructure.jpg](attachment:pandas-DataStructure.jpg)"
   ]
  },
  {
   "cell_type": "markdown",
   "id": "73051e29",
   "metadata": {},
   "source": [
    "### Loading Data Into a DataFrame:\n",
    "\n",
    "Panda's [read_csv function](https://pandas.pydata.org/docs/reference/api/pandas.read_csv.html) is one of the most versatile and useful functions for managing data.  \n",
    "\n",
    "Since we're loading a csv file,  the data is already in tabular format, and each row represents a record of election data for a specific party for a given year, we don't have to add any additional inputs to the function for this file:"
   ]
  },
  {
   "cell_type": "code",
   "execution_count": null,
   "id": "ff0093ce",
   "metadata": {},
   "outputs": [],
   "source": [
    "elections = pd.read_csv(\"data/elections.csv\")\n"
   ]
  },
  {
   "cell_type": "markdown",
   "id": "409dbbb3",
   "metadata": {},
   "source": [
    "### Viewing Data in DataFrames:\n",
    "\n",
    "Two useful methods for viewing dataframes are:\n",
    "\n",
    "`.head()`(https://pandas.pydata.org/docs/reference/api/pandas.DataFrame.head.html)\n",
    "\n",
    "\n",
    "`.tail()`\n"
   ]
  },
  {
   "cell_type": "code",
   "execution_count": null,
   "id": "f2148424",
   "metadata": {},
   "outputs": [],
   "source": [
    "#Default of the .head() method is to show the first 5 rows. \n",
    "#If you want to see n rows, enter .head(n)\n",
    "\n",
    "elections.head()\n"
   ]
  },
  {
   "cell_type": "markdown",
   "id": "2db06c75",
   "metadata": {},
   "source": [
    "**Practice:  Select the last 8 rows of the DataFrame:**"
   ]
  },
  {
   "cell_type": "code",
   "execution_count": null,
   "id": "91b0d8b9",
   "metadata": {},
   "outputs": [],
   "source": [
    "# Select the last 8 rows of the DataFrame:\n",
    "..."
   ]
  },
  {
   "cell_type": "markdown",
   "id": "e41c63a8",
   "metadata": {},
   "source": [
    "## Determine what each variable in your dataset represents:\n",
    "\n",
    "Ideally columns in the dataset are  named in a way that clearly explains that they represent.  If not, you will want to refer to the data's codebook (if one exists).\n",
    "\n",
    "For this particular dataset the columns represent the following:\n",
    "\n",
    "\n",
    "\n",
    "|Column|Description|\n",
    "| --- | --- |\n",
    "|Year| Year of the election | \n",
    "|Candidate| Candidate who ran| \n",
    "|Party | Party of candidate|\n",
    "|Popular vote | Number of popular votes candidate received |\n",
    "|Result | Whether the candidate won or lost the election |\n",
    "|% | The percentage of popular votes the candidate received|\n",
    "\n"
   ]
  },
  {
   "cell_type": "markdown",
   "id": "e22e113d-83e8-4334-b7d3-f2790e76731e",
   "metadata": {},
   "source": [
    "**Practice: List 2 different questions you could try to answer using this dataset:**"
   ]
  },
  {
   "cell_type": "markdown",
   "id": "757647ba-141f-4412-b07b-af261d3dfe77",
   "metadata": {},
   "source": []
  },
  {
   "cell_type": "markdown",
   "id": "e841ff8d",
   "metadata": {},
   "source": [
    "### Datatype/Storage Types\n",
    "It's important to check if the variable type corresponds to how you would interpret the data.  Sometimes quantitative data is loaded as a string (and needs to be converted) or sometimes data that appears quantitative (1, 2, 3) is actually a code to represent a qualitative feature.  We will dive more deeply into how we conceptualize variable types when we discuss visualizing data in the next lesson."
   ]
  },
  {
   "cell_type": "markdown",
   "id": "fd993956",
   "metadata": {},
   "source": [
    "A quick way to view the datatypes of all your columns is the \n",
    "\n",
    "`.info()` method which outputs the column integer positions, column labels, data types, memory usage, and the number of non-null cells in each column \n"
   ]
  },
  {
   "cell_type": "code",
   "execution_count": null,
   "id": "6c9665fd",
   "metadata": {},
   "outputs": [],
   "source": [
    "# Practice:  Call the .info() method on the elections dataframe\n",
    "elections.info()"
   ]
  },
  {
   "cell_type": "markdown",
   "id": "cc9221c0-817f-4c25-855d-fc795348c9e1",
   "metadata": {},
   "source": [
    "You can also use\n",
    "`df[colname].dtype`"
   ]
  },
  {
   "cell_type": "markdown",
   "id": "c1ad8bd3-42d3-465a-8dcc-b3f5ab6bb5d7",
   "metadata": {},
   "source": [
    "The `object` datatype in python indicates string or mixed data.  \n"
   ]
  },
  {
   "cell_type": "markdown",
   "id": "98dc3fc7-2232-4600-ba0d-6d637eb505ed",
   "metadata": {},
   "source": [
    "### Conceptual Variable/Feature Types for modeling:\n",
    " - We'll discuss this more in a future lesson.  This is important for determining how to visualize the data and how/if to use it for modeling.  \n",
    "   "
   ]
  }
 ],
 "metadata": {
  "kernelspec": {
   "display_name": "Python [conda env:base] *",
   "language": "python",
   "name": "conda-base-py"
  },
  "language_info": {
   "codemirror_mode": {
    "name": "ipython",
    "version": 3
   },
   "file_extension": ".py",
   "mimetype": "text/x-python",
   "name": "python",
   "nbconvert_exporter": "python",
   "pygments_lexer": "ipython3",
   "version": "3.12.7"
  }
 },
 "nbformat": 4,
 "nbformat_minor": 5
}
