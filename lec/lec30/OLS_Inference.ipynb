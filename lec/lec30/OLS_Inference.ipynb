{
 "cells": [
  {
   "cell_type": "markdown",
   "id": "06d30bb2-585a-43bc-8306-cc6ed9cfb626",
   "metadata": {},
   "source": [
    "# OLS Inference\n",
    "\n"
   ]
  },
  {
   "cell_type": "code",
   "execution_count": 1,
   "id": "aaccf616-45a5-46d1-baf1-2d01c44b64bf",
   "metadata": {},
   "outputs": [],
   "source": [
    "import numpy as np\n",
    "import pandas as pd\n",
    "import matplotlib\n",
    "import matplotlib.pyplot as plt\n",
    "import seaborn as sns\n",
    "import sklearn.linear_model as lm\n",
    "\n",
    "# big font helper\n",
    "def adjust_fontsize(size=None):\n",
    "    SMALL_SIZE = 8\n",
    "    MEDIUM_SIZE = 10\n",
    "    BIGGER_SIZE = 12\n",
    "    if size != None:\n",
    "        SMALL_SIZE = MEDIUM_SIZE = BIGGER_SIZE = size\n",
    "\n",
    "    plt.rc('font', size=SMALL_SIZE)          # controls default text sizes\n",
    "    plt.rc('axes', titlesize=SMALL_SIZE)     # fontsize of the axes title\n",
    "    plt.rc('axes', labelsize=MEDIUM_SIZE)    # fontsize of the x and y labels\n",
    "    plt.rc('xtick', labelsize=SMALL_SIZE)    # fontsize of the tick labels\n",
    "    plt.rc('ytick', labelsize=SMALL_SIZE)    # fontsize of the tick labels\n",
    "    plt.rc('legend', fontsize=SMALL_SIZE)    # legend fontsize\n",
    "    plt.rc('figure', titlesize=BIGGER_SIZE)  # fontsize of the figure title\n",
    "\n",
    "plt.style.use('fivethirtyeight')\n",
    "sns.set_context(\"talk\")\n",
    "sns.set_theme()\n",
    "#plt.style.use('default') # revert style to default mpl\n",
    "adjust_fontsize(size=20)\n",
    "%matplotlib inline\n"
   ]
  },
  {
   "cell_type": "markdown",
   "id": "e3f195c0-21dd-4e04-a8b2-343691f4e6c8",
   "metadata": {},
   "source": [
    "---\n",
    "\n",
    "# The Snowy Plover\n",
    "\n",
    "This example is from the textbook: [link](http://www.textbook.ds100.org/ch/19/mult_inference.html#). "
   ]
  },
  {
   "cell_type": "markdown",
   "id": "3f2ac023-de6d-4ad8-8b0a-dec29f0caf00",
   "metadata": {
    "tags": []
   },
   "source": [
    "## The Data ##\n",
    "The [Snowy Plover](https://www.audubon.org/field-guide/bird/snowy-plover) is a tiny bird that lives on the coast in parts of California and elsewhere. It is so small that it is vulnerable to many predators and to people and dogs that don't look where they are stepping when they go to the beach. It is considered endangered in many parts of the US.\n",
    "\n",
    "The data are about the eggs and newly-hatched chicks of the Snowy Plover. \n",
    "\n",
    "The data were collected at the Point Reyes National Seashore.  The goal was to see how the size of an egg could be used to predict the weight of the resulting chick. The bigger the newly-hatched chick, the more likely it is to survive.\n"
   ]
  },
  {
   "cell_type": "markdown",
   "id": "5d9c954e-1c2a-4484-bf35-60091200812b",
   "metadata": {},
   "source": [
    "Each row of the data frame below corresponds to one Snowy Plover egg and the resulting chick. Note how tiny the bird is:\n",
    "\n",
    "* Egg Length and Egg Breadth (widest diameter) are measured in millimeters\n",
    "* Egg Weight and Bird Weight are measured in grams; for comparison, a standard paper clip weighs about one gram"
   ]
  },
  {
   "cell_type": "code",
   "execution_count": 2,
   "id": "bd944f7f-86ed-41a9-8ac6-65a90e0534fe",
   "metadata": {},
   "outputs": [
    {
     "data": {
      "text/html": [
       "<div>\n",
       "<style scoped>\n",
       "    .dataframe tbody tr th:only-of-type {\n",
       "        vertical-align: middle;\n",
       "    }\n",
       "\n",
       "    .dataframe tbody tr th {\n",
       "        vertical-align: top;\n",
       "    }\n",
       "\n",
       "    .dataframe thead th {\n",
       "        text-align: right;\n",
       "    }\n",
       "</style>\n",
       "<table border=\"1\" class=\"dataframe\">\n",
       "  <thead>\n",
       "    <tr style=\"text-align: right;\">\n",
       "      <th></th>\n",
       "      <th>egg_weight</th>\n",
       "      <th>egg_length</th>\n",
       "      <th>egg_breadth</th>\n",
       "      <th>bird_weight</th>\n",
       "    </tr>\n",
       "  </thead>\n",
       "  <tbody>\n",
       "    <tr>\n",
       "      <th>0</th>\n",
       "      <td>7.4</td>\n",
       "      <td>28.80</td>\n",
       "      <td>21.84</td>\n",
       "      <td>5.2</td>\n",
       "    </tr>\n",
       "    <tr>\n",
       "      <th>1</th>\n",
       "      <td>7.7</td>\n",
       "      <td>29.04</td>\n",
       "      <td>22.45</td>\n",
       "      <td>5.4</td>\n",
       "    </tr>\n",
       "    <tr>\n",
       "      <th>2</th>\n",
       "      <td>7.9</td>\n",
       "      <td>29.36</td>\n",
       "      <td>22.48</td>\n",
       "      <td>5.6</td>\n",
       "    </tr>\n",
       "    <tr>\n",
       "      <th>3</th>\n",
       "      <td>7.5</td>\n",
       "      <td>30.10</td>\n",
       "      <td>21.71</td>\n",
       "      <td>5.3</td>\n",
       "    </tr>\n",
       "    <tr>\n",
       "      <th>4</th>\n",
       "      <td>8.3</td>\n",
       "      <td>30.17</td>\n",
       "      <td>22.75</td>\n",
       "      <td>5.9</td>\n",
       "    </tr>\n",
       "  </tbody>\n",
       "</table>\n",
       "</div>"
      ],
      "text/plain": [
       "   egg_weight  egg_length  egg_breadth  bird_weight\n",
       "0         7.4       28.80        21.84          5.2\n",
       "1         7.7       29.04        22.45          5.4\n",
       "2         7.9       29.36        22.48          5.6\n",
       "3         7.5       30.10        21.71          5.3\n",
       "4         8.3       30.17        22.75          5.9"
      ]
     },
     "execution_count": 2,
     "metadata": {},
     "output_type": "execute_result"
    }
   ],
   "source": [
    "eggs = pd.read_csv('data/snowy_plover.csv')\n",
    "eggs.head()"
   ]
  },
  {
   "cell_type": "code",
   "execution_count": null,
   "id": "d90f341a-365a-4a33-8dce-91103cce8cab",
   "metadata": {},
   "outputs": [],
   "source": [
    "eggs.shape"
   ]
  },
  {
   "cell_type": "markdown",
   "id": "74117d04-d63b-4461-bc96-614805e8379f",
   "metadata": {},
   "source": [
    "For a particular egg, $x$ is the vector of length, breadth, and weight. The model is\n",
    "\n",
    "$$\n",
    "f_\\theta(x) ~ = ~ \\theta_0 + \\theta_1\\text{egg_length} + \\theta_2\\text{egg_breadth} + \\theta_3\\text{egg_weight} + \\epsilon\n",
    "$$\n",
    "\n",
    "- For each $i$, the parameter $\\theta_i$ is a fixed number but it is unobservable. We can only estimate it.\n",
    "- The random error $\\epsilon$ is also unobservable, but it is assumed to have expectation 0 and be independent and identically distributed across eggs."
   ]
  },
  {
   "cell_type": "code",
   "execution_count": 3,
   "id": "6b3b67df-6693-443b-92db-2787dd87c72a",
   "metadata": {},
   "outputs": [
    {
     "data": {
      "text/html": [
       "<div>\n",
       "<style scoped>\n",
       "    .dataframe tbody tr th:only-of-type {\n",
       "        vertical-align: middle;\n",
       "    }\n",
       "\n",
       "    .dataframe tbody tr th {\n",
       "        vertical-align: top;\n",
       "    }\n",
       "\n",
       "    .dataframe thead th {\n",
       "        text-align: right;\n",
       "    }\n",
       "</style>\n",
       "<table border=\"1\" class=\"dataframe\">\n",
       "  <thead>\n",
       "    <tr style=\"text-align: right;\">\n",
       "      <th></th>\n",
       "      <th>theta_hat</th>\n",
       "    </tr>\n",
       "  </thead>\n",
       "  <tbody>\n",
       "    <tr>\n",
       "      <th>intercept</th>\n",
       "      <td>-4.605670</td>\n",
       "    </tr>\n",
       "    <tr>\n",
       "      <th>egg_weight</th>\n",
       "      <td>0.431229</td>\n",
       "    </tr>\n",
       "    <tr>\n",
       "      <th>egg_length</th>\n",
       "      <td>0.066570</td>\n",
       "    </tr>\n",
       "    <tr>\n",
       "      <th>egg_breadth</th>\n",
       "      <td>0.215914</td>\n",
       "    </tr>\n",
       "  </tbody>\n",
       "</table>\n",
       "</div>"
      ],
      "text/plain": [
       "             theta_hat\n",
       "intercept    -4.605670\n",
       "egg_weight    0.431229\n",
       "egg_length    0.066570\n",
       "egg_breadth   0.215914"
      ]
     },
     "metadata": {},
     "output_type": "display_data"
    },
    {
     "name": "stdout",
     "output_type": "stream",
     "text": [
      "RMSE 0.04547085380275772\n"
     ]
    }
   ],
   "source": [
    "y = eggs[\"bird_weight\"]\n",
    "X = eggs[[\"egg_weight\", \"egg_length\", \"egg_breadth\"]]\n",
    "    \n",
    "model = lm.LinearRegression(fit_intercept=True).fit(X, y)\n",
    "\n",
    "display(pd.DataFrame([model.intercept_] + list(model.coef_),\n",
    "             columns=['theta_hat'],\n",
    "             index=['intercept', 'egg_weight', 'egg_length', 'egg_breadth']))\n",
    "\n",
    "print(\"RMSE\", np.mean((y - model.predict(X)) ** 2))\n",
    "              "
   ]
  },
  {
   "cell_type": "markdown",
   "id": "088fd519-afd6-4abe-a567-63137f28b984",
   "metadata": {},
   "source": [
    "Let's try bootstrapping the sample to obtain a 95% confidence interval for the parameter $\\theta_1$ corresponding to egg weight.\n",
    "\n",
    "This code uses `df.sample` ([link](https://pandas.pydata.org/docs/reference/api/pandas.DataFrame.sample.html)) to generate a bootstrap sample of the same size of the original sample."
   ]
  },
  {
   "cell_type": "code",
   "execution_count": 8,
   "id": "0f0f04a1-2de7-43f3-8f14-667ed4add13f",
   "metadata": {},
   "outputs": [],
   "source": [
    "def get_param1(model):\n",
    "    # first feature\n",
    "    return model.coef_[0]\n",
    "\n",
    "def bootstrap_params(sample_df, get_param_fn=get_param1, n_iters=10000):\n",
    "    \"\"\"\n",
    "    sample: the bootstrap population\n",
    "    \"\"\"\n",
    "    n = len(sample_df)\n",
    "    estimates = []\n",
    "    for i in range(n_iters):\n",
    "        # resample n times with replacement\n",
    "        # i.e., get a new sample of same size\n",
    "        # using df.sample(...)\n",
    "        resample = sample_df.sample(n,replace=True)\n",
    "        \n",
    "        # train model with this bootstrap sample\n",
    "        resample_y = resample[\"bird_weight\"]\n",
    "        resample_X = resample[[\"egg_weight\", \"egg_length\", \"egg_breadth\"]]\n",
    "        model = lm.LinearRegression()\n",
    "        model.fit(resample_X, resample_y)\n",
    "        \n",
    "        # include the estimate\n",
    "        estimate = get_param_fn(model)\n",
    "        estimates.append(estimate)\n",
    "    lower = np.percentile(estimates, 2.5, axis=0)\n",
    "    upper = np.percentile(estimates, 97.5, axis=0)\n",
    "    conf_interval = (lower, upper)\n",
    "    return conf_interval"
   ]
  },
  {
   "cell_type": "code",
   "execution_count": 9,
   "id": "72199c34-d690-4e89-a5d3-1ec79a03c187",
   "metadata": {},
   "outputs": [
    {
     "data": {
      "text/plain": [
       "(-0.2392781448581384, 1.1212336001999128)"
      ]
     },
     "execution_count": 9,
     "metadata": {},
     "output_type": "execute_result"
    }
   ],
   "source": [
    "approx_conf1 = bootstrap_params(eggs, get_param1)\n",
    "approx_conf1"
   ]
  },
  {
   "cell_type": "markdown",
   "id": "0db2d6a4-346b-4e15-b43e-458602996d84",
   "metadata": {},
   "source": [
    "<br/><br/>\n",
    "\n",
    "# Testing all the coefficients\n",
    "\n",
    "Let's bootstrap again and compute 95% confidence intervals for all 4 parameters, including the intercept term:"
   ]
  },
  {
   "cell_type": "code",
   "execution_count": 10,
   "id": "75161940-3a5e-4353-b8f5-884d2bec8011",
   "metadata": {},
   "outputs": [
    {
     "data": {
      "text/plain": [
       "(array([-15.41814722,  -0.26527959,  -0.10202158,  -0.2603814 ]),\n",
       " array([5.30365178, 1.10730655, 0.2099487 , 0.7630455 ]))"
      ]
     },
     "execution_count": 10,
     "metadata": {},
     "output_type": "execute_result"
    }
   ],
   "source": [
    "def get_all_params(model):\n",
    "    # all features\n",
    "    return [model.intercept_] + list(model.coef_)\n",
    "\n",
    "approx_confs = bootstrap_params(eggs, get_param_fn=get_all_params)\n",
    "approx_confs"
   ]
  },
  {
   "cell_type": "markdown",
   "id": "08d07c88-8b26-415e-a7ca-dd28454ade05",
   "metadata": {},
   "source": [
    "Because the 95% confidence interval includes 0, we cannot reject the null hypothesis that the true parameter $\\theta_1$ is 0."
   ]
  },
  {
   "cell_type": "code",
   "execution_count": 11,
   "id": "e82757c9-7c1c-4ac6-b435-1736a6a88b8e",
   "metadata": {},
   "outputs": [],
   "source": [
    "def simple_resample(n): \n",
    "    return np.random.randint(low=0, high=n, size=n)\n",
    "\n",
    "def bootstrap(boot_pop, statistic, resample=simple_resample, replicates=10000):\n",
    "    n = len(boot_pop)\n",
    "    resample_estimates = [statistic(boot_pop[resample(n)])\n",
    "                          for _ in range(replicates)]\n",
    "    return np.array(resample_estimates)"
   ]
  },
  {
   "cell_type": "markdown",
   "id": "d6118f12-2391-48b5-9fd1-ed0008498a02",
   "metadata": {},
   "source": [
    "But when we make confidence intervals for the model coefficients, we find \n",
    "something strange.\n",
    "All of the confidence intervals contain 0, which prevents us from concluding\n",
    "that *any* variable is significantly related to the response. "
   ]
  },
  {
   "cell_type": "code",
   "execution_count": 12,
   "id": "68804806-1189-4c29-98ec-a174acde3723",
   "metadata": {},
   "outputs": [],
   "source": [
    "def egg_thetas(data):\n",
    "    X = data[:, :3]\n",
    "    y = data[:, 3]\n",
    "    \n",
    "    model = lm.LinearRegression().fit(X, y)\n",
    "    return model.coef_\n",
    "\n",
    "egg_thetas = bootstrap(eggs.values, egg_thetas)"
   ]
  },
  {
   "cell_type": "code",
   "execution_count": 13,
   "id": "eef890df-bd72-4e66-bca3-8308ed2ec555",
   "metadata": {
    "tags": [
     "hide-input"
    ]
   },
   "outputs": [
    {
     "data": {
      "text/html": [
       "<div>\n",
       "<style scoped>\n",
       "    .dataframe tbody tr th:only-of-type {\n",
       "        vertical-align: middle;\n",
       "    }\n",
       "\n",
       "    .dataframe tbody tr th {\n",
       "        vertical-align: top;\n",
       "    }\n",
       "\n",
       "    .dataframe thead th {\n",
       "        text-align: right;\n",
       "    }\n",
       "</style>\n",
       "<table border=\"1\" class=\"dataframe\">\n",
       "  <thead>\n",
       "    <tr style=\"text-align: right;\">\n",
       "      <th></th>\n",
       "      <th>lower</th>\n",
       "      <th>upper</th>\n",
       "    </tr>\n",
       "  </thead>\n",
       "  <tbody>\n",
       "    <tr>\n",
       "      <th>theta_egg_weight</th>\n",
       "      <td>-0.264068</td>\n",
       "      <td>1.130227</td>\n",
       "    </tr>\n",
       "    <tr>\n",
       "      <th>theta_egg_length</th>\n",
       "      <td>-0.107621</td>\n",
       "      <td>0.211449</td>\n",
       "    </tr>\n",
       "    <tr>\n",
       "      <th>theta_egg_breadth</th>\n",
       "      <td>-0.269074</td>\n",
       "      <td>0.758096</td>\n",
       "    </tr>\n",
       "  </tbody>\n",
       "</table>\n",
       "</div>"
      ],
      "text/plain": [
       "                      lower     upper\n",
       "theta_egg_weight  -0.264068  1.130227\n",
       "theta_egg_length  -0.107621  0.211449\n",
       "theta_egg_breadth -0.269074  0.758096"
      ]
     },
     "execution_count": 13,
     "metadata": {},
     "output_type": "execute_result"
    }
   ],
   "source": [
    "egg_ci = np.percentile(egg_thetas, [2.5, 97.5], axis=0)\n",
    "pd.DataFrame(egg_ci.T,\n",
    "             columns=['lower', 'upper'],\n",
    "             index=['theta_egg_weight', 'theta_egg_length', 'theta_egg_breadth'])"
   ]
  },
  {
   "cell_type": "markdown",
   "id": "0e4a7309-4e8f-4c1b-83aa-77919ec9738a",
   "metadata": {},
   "source": [
    "<br/><br/>\n",
    "\n",
    "---\n",
    "\n",
    "## Inspecting the Relationship between Features\n",
    "\n",
    "To see what's going on, we'll make a scatter plot matrix for the data."
   ]
  },
  {
   "cell_type": "code",
   "execution_count": null,
   "id": "d56515ba-11b8-496d-a630-f9740cf98e10",
   "metadata": {},
   "outputs": [],
   "source": [
    "px.scatter_matrix(eggs, width=450, height=450)"
   ]
  },
  {
   "cell_type": "markdown",
   "id": "4f69b4b4-896b-4702-abbf-ce50bac91ad9",
   "metadata": {},
   "source": [
    "This shows that `bird_weight`\n",
    "is highly correlated with all the other\n",
    "variables (the bottom row), which means fitting a linear model is a good idea.\n",
    "But we also see that `egg_weight` is highly correlated with all the variables\n",
    "(the top row).\n",
    "This means we can't increase one covariate while\n",
    "keeping the others constant. The individual slopes have no meaning."
   ]
  },
  {
   "cell_type": "markdown",
   "id": "e9358610-de9c-4775-b596-fa7a5543d282",
   "metadata": {},
   "source": [
    "Here's the correlations showing this more succinctly:"
   ]
  },
  {
   "cell_type": "code",
   "execution_count": null,
   "id": "f401aba9-5745-4a5d-89bc-6eac07980eeb",
   "metadata": {},
   "outputs": [],
   "source": [
    "eggs.corr().round(2)"
   ]
  },
  {
   "cell_type": "markdown",
   "id": "42c7353f-0055-46c1-8710-305e957c4007",
   "metadata": {},
   "source": [
    "<br/><br/>\n",
    "\n",
    "---\n",
    "\n",
    "## Changing Our Modeling Features\n",
    "\n",
    "One way to fix this is to fit a model that only uses `egg_weight`.\n",
    "This model performs almost as well as the model that uses all three variables,\n",
    "and the confidence interval for $\\theta_1$ doesn't \n",
    "contain zero."
   ]
  },
  {
   "cell_type": "code",
   "execution_count": null,
   "id": "af5c8d7d-9718-48c9-80a6-cf9a1eb86714",
   "metadata": {},
   "outputs": [],
   "source": [
    "y = eggs[\"bird_weight\"]\n",
    "X = eggs[[\"egg_weight\"]]\n",
    "    \n",
    "model = lm.LinearRegression(fit_intercept=True).fit(X, y)\n",
    "\n",
    "display(pd.DataFrame([model.intercept_] + list(model.coef_),\n",
    "             columns=['theta_hat'],\n",
    "             index=['intercept', 'egg_weight']))\n",
    "print(\"RMSE\", np.mean((y - model.predict(X)) ** 2))"
   ]
  },
  {
   "cell_type": "code",
   "execution_count": null,
   "id": "821eb53c-3fb7-4bd9-9055-2b06125fe76e",
   "metadata": {},
   "outputs": [],
   "source": [
    "def bootstrap_egg_weight_only(sample_df, n_iters=10000):\n",
    "    \"\"\"\n",
    "    copied over for convenience\n",
    "    \"\"\"\n",
    "    n = len(sample_df)\n",
    "    estimates = []\n",
    "    for i in range(n_iters):\n",
    "        resample = sample_df.sample(n, replace=True)\n",
    "        \n",
    "        resample_y = resample[\"bird_weight\"]\n",
    "        resample_X = resample[[\"egg_weight\"]] # just one feature + intercept\n",
    "        model = lm.LinearRegression()\n",
    "        model.fit(resample_X, resample_y)\n",
    "        estimates.append( model.coef_[0])\n",
    "    lower = np.percentile(estimates, 2.5, axis=0)\n",
    "    upper = np.percentile(estimates, 97.5, axis=0)\n",
    "    conf_interval = (lower, upper)\n",
    "    return conf_interval\n",
    "\n",
    "approx_conf_egg_weight_only = bootstrap_egg_weight_only(eggs)\n",
    "approx_conf_egg_weight_only"
   ]
  },
  {
   "cell_type": "markdown",
   "id": "d131bdb7-36dd-45af-a66c-d1e097e65b04",
   "metadata": {},
   "source": [
    "It's no surprise that if you want to predict the\n",
    "weight of the newly-hatched chick, using the weight\n",
    "of the egg is your best move.\n",
    "\n",
    "As this example shows, checking for collinearity is important for inference.\n",
    "When we fit a model on highly correlated variables, we might not be able to\n",
    "use confidence intervals to conclude that variables are\n",
    "related to the prediction."
   ]
  }
 ],
 "metadata": {
  "kernelspec": {
   "display_name": "Python 3 (ipykernel)",
   "language": "python",
   "name": "python3"
  },
  "language_info": {
   "codemirror_mode": {
    "name": "ipython",
    "version": 3
   },
   "file_extension": ".py",
   "mimetype": "text/x-python",
   "name": "python",
   "nbconvert_exporter": "python",
   "pygments_lexer": "ipython3",
   "version": "3.10.8"
  }
 },
 "nbformat": 4,
 "nbformat_minor": 5
}
