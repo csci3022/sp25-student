{
 "cells": [
  {
   "cell_type": "markdown",
   "metadata": {},
   "source": [
    "# Probability Simulations\n",
    "***\n",
    "\n",
    "In this notebook you'll see how we can use Numpy to run probability simulations to estimate probabilities, gain intuition about random processes and to check your pencil and paper work. \n",
    "\n",
    "We'll need Numpy and Matplotlib for this notebook, so let's load and setup those libraries. "
   ]
  },
  {
   "cell_type": "code",
   "execution_count": null,
   "metadata": {},
   "outputs": [],
   "source": [
    "import numpy as np \n",
    "import matplotlib.pylab as plt\n",
    "%matplotlib inline"
   ]
  },
  {
   "cell_type": "markdown",
   "metadata": {},
   "source": [
    "## Simulating Probabilities\n",
    "\n",
    "As we discussed in lecture, the frequentist definition of probability defines it in terms of a limit:\n",
    "\n",
    "\n",
    "$$P(Event) = \\lim_{n \\to \\infty} \\frac{count(Event)}{n}$$\n",
    "\n",
    "\n",
    "\n",
    "In English this reads: Perform n trials of an \"experiment\" which could result in a particular “Event” occurring. \n",
    "\n",
    "The probability of the event occurring, P(Event) , is the ratio of trials that result in the event, written as  count(Event), to the number of trials performed, n. \n",
    "\n",
    "In the limit, as your number of trials approaches infinity, the ratio will converge to the true probability.\n",
    "\n",
    "\n",
    "One of the big payoffs of simulation is that it can let us answer some probability questions that are otherwise quite difficult.  We can instead just **simulate the experiment a large number of times and get approximate results based on simulation.**\n",
    "\n",
    "\n",
    "There are several ways to draw random samples using Python:\n",
    "\n",
    "\n",
    "#### Random Sampling in Pandas: \n",
    "- `df.sample(n)` (https://pandas.pydata.org/docs/reference/api/pandas.DataFrame.sample.html) draws a random sample of `n` rows from the DataFrame `df`. The output is a DataFrame consisting of the sampled rows. \n",
    "\n",
    "\n",
    "\n",
    "#### Random Sampling in Numpy:  https://numpy.org/doc/stable/reference/random/index.html\n",
    "\n",
    "The `numpy.random`module implements pseudo-random number generators (PRNGs or RNGs, for short) with the ability to draw samples from a variety of probability distributions.   In general, you will create a Generator instance with default_rng and call the various methods on it to obtain samples from different distributions.\n"
   ]
  },
  {
   "cell_type": "code",
   "execution_count": null,
   "metadata": {},
   "outputs": [],
   "source": [
    "# Create a Generator instance:\n",
    "rng = np.random.default_rng() "
   ]
  },
  {
   "cell_type": "markdown",
   "metadata": {},
   "source": [
    "\n",
    "- `rng.choice(a)` (https://numpy.org/doc/stable/reference/random/generated/numpy.random.choice.html) draws a random sample from a population whose elements are in an array `a`. The output is an array consisting of the sampled elements.\n",
    "\n",
    "- `rng.shuffle(a)`\n",
    "(https://numpy.org/doc/stable/reference/random/generated/numpy.random.Generator.shuffle.html#numpy.random.Generator.shuffle)  Modifies an array or sequence in-place by shuffling its contents. \n",
    "  \n",
    "Warning: The pseudo-random number generators implemented in the `numpy.random` module are designed for statistical modeling and simulation. They are not suitable for security or cryptographic purposes. See the `secrets` module from the standard library for such use cases.\n",
    "\n",
    "\n"
   ]
  },
  {
   "cell_type": "markdown",
   "metadata": {},
   "source": [
    "### Estimating Simple Probabilities \n",
    "*** \n",
    "\n",
    "Suppose we wanted to randomly sample from the first 6 letters in the alphabet:"
   ]
  },
  {
   "cell_type": "code",
   "execution_count": null,
   "metadata": {},
   "outputs": [],
   "source": [
    "select_from =[\"A\", \"B\", \"C\", \"D\", \"E\", \"F\"]"
   ]
  },
  {
   "cell_type": "markdown",
   "metadata": {},
   "source": [
    "We can simulate randomly selecting from this list using `rng.choice`, which returns a randomly selected entry from a Numpy array.  \n",
    "If no optional parameters are passed in, `rng.choice` assigns an **equal probability** to each entry of the array.   "
   ]
  },
  {
   "cell_type": "code",
   "execution_count": null,
   "metadata": {},
   "outputs": [],
   "source": [
    "rng.choice(select_from)"
   ]
  },
  {
   "cell_type": "markdown",
   "metadata": {},
   "source": [
    "We can simulate repeatedly selecting (with replacement) by specifying the size of an array:"
   ]
  },
  {
   "cell_type": "code",
   "execution_count": null,
   "metadata": {},
   "outputs": [],
   "source": [
    "#Write code to randomly sample 10 times WITH replacement\n",
    "..."
   ]
  },
  {
   "cell_type": "code",
   "execution_count": null,
   "metadata": {},
   "outputs": [],
   "source": [
    "#Write code to randomly sample 5 times WITHOUT replacement\n",
    "..."
   ]
  },
  {
   "cell_type": "markdown",
   "metadata": {},
   "source": [
    "**Simulating Coin Tosses**"
   ]
  },
  {
   "cell_type": "markdown",
   "metadata": {},
   "source": [
    "As a simple example, consider a fair coin.  We can represent the sample space for this coin with a Numpy array with two entries: \"H\" and \"T\""
   ]
  },
  {
   "cell_type": "code",
   "execution_count": null,
   "metadata": {},
   "outputs": [],
   "source": [
    "coin = np.array([\"H\",\"T\"])\n",
    "coin"
   ]
  },
  {
   "cell_type": "code",
   "execution_count": null,
   "metadata": {},
   "outputs": [],
   "source": [
    "rng.choice(coin)"
   ]
  },
  {
   "cell_type": "markdown",
   "metadata": {},
   "source": [
    "We can simulate many flips of the coin and store the results in an array by passing the size parameter:"
   ]
  },
  {
   "cell_type": "code",
   "execution_count": null,
   "metadata": {},
   "outputs": [],
   "source": [
    "flips = rng.choice(coin, size=10)\n",
    "print(flips)"
   ]
  },
  {
   "cell_type": "markdown",
   "metadata": {},
   "source": [
    "We can also count the number of times we get heads:"
   ]
  },
  {
   "cell_type": "code",
   "execution_count": null,
   "metadata": {},
   "outputs": [],
   "source": [
    "flips = rng.choice(coin, size=10)\n",
    "print(flips)\n",
    "sum(flips == 'H')"
   ]
  },
  {
   "cell_type": "markdown",
   "metadata": {},
   "source": [
    "We can alter the probability with which `choice` selects a particular entry of the sample space array by passing in an optional array of probabilities, e.g. p = [0.75, 0.25]:"
   ]
  },
  {
   "cell_type": "code",
   "execution_count": null,
   "metadata": {},
   "outputs": [],
   "source": [
    "\n",
    "biased_flips = rng.choice([\"H\", \"T\"], p=[0.75, 0.25], size=10)\n",
    "\n",
    "print(biased_flips)\n",
    "sum(biased_flips == 'H')"
   ]
  },
  {
   "cell_type": "markdown",
   "metadata": {},
   "source": [
    "*** \n",
    "###  Example 1: \n",
    "Simulate rolling a 6-sided die, 10 times:"
   ]
  },
  {
   "cell_type": "code",
   "execution_count": null,
   "metadata": {},
   "outputs": [],
   "source": [
    "die = ...\n",
    "roll = ...\n",
    "roll"
   ]
  },
  {
   "cell_type": "markdown",
   "metadata": {},
   "source": [
    "**SideNote**: If instead of passing a list/array you pass an int, to `rng.choice` the random sample is generated as if it were `np.arange(a)`"
   ]
  },
  {
   "cell_type": "code",
   "execution_count": null,
   "metadata": {},
   "outputs": [],
   "source": [
    "np.arange(1,10,2)"
   ]
  },
  {
   "cell_type": "code",
   "execution_count": null,
   "metadata": {},
   "outputs": [],
   "source": [
    "rng.choice(5, size=10)"
   ]
  },
  {
   "cell_type": "markdown",
   "metadata": {},
   "source": [
    "*** \n",
    "### Example 2- Flipping a Fair Coin"
   ]
  },
  {
   "cell_type": "markdown",
   "metadata": {},
   "source": [
    "Now suppose we want to run a simple simulation to estimate the probability  that the coin comes up Heads (which we expect to be $0.5$ because the coin is fair).  One way to do this is to do a large number of coin flips and then divide the number of flips that come up Heads by the total number of flips. The following code flips the coin 50 times and computes the desired ratio: "
   ]
  },
  {
   "cell_type": "code",
   "execution_count": null,
   "metadata": {},
   "outputs": [],
   "source": [
    "# The seed() method is used to initialize the random number generator.\n",
    "# The random number generator needs a number to start with (a seed value),\n",
    "#   to be able to generate a random number.\n",
    "# By default the random number generator uses the current system time.\n",
    "# We can use the seed() method to customize the start number of the random number generator\n",
    "# so that we get the same results each time.\n",
    "\n",
    "rng = np.random.default_rng(seed=152)\n",
    "\n",
    "\n",
    "# Write code to simulate flipping a coin 50 times and approximating the probability of heads using your simulation:\n",
    "flips = ...\n",
    "approx_prob_heads = ...\n",
    "\n",
    "print(\"the probability of heads is approximately {:.3f}\".format(approx_prob_heads))"
   ]
  },
  {
   "cell_type": "markdown",
   "metadata": {},
   "source": [
    "OK, so the simulation estimated that the probability of the coin coming up heads is pretty far off from the $0.5$ that we expected.  This is likely because we didn't do very many coin flips.  Let's see what happens if we rerun the simulation with $500$ coin flips. "
   ]
  },
  {
   "cell_type": "code",
   "execution_count": null,
   "metadata": {},
   "outputs": [],
   "source": [
    "\n",
    "flips = rng.choice(coin, size=50000)\n",
    "approx_prob_heads = sum(flips==\"H\")/len(flips)\n",
    "print(\"the probability of heads is approximately {:.3f}\".format(approx_prob_heads))"
   ]
  },
  {
   "cell_type": "markdown",
   "metadata": {},
   "source": [
    "With $500$ coin flips our estimate came out much closer to $0.5$\n",
    "\n",
    "\n",
    "\n",
    "It's an interesting exercise to make a plot of the running estimate of the probability as the number of coin flips increases.    This is one way to visualize a simulation of the frequentist definition of probability. \n",
    "\n",
    "\n",
    "We'll use the same random sequence of coin flips from the previous simulation.  \n",
    "\n",
    "We'll be using the Python `range` function (https://docs.python.org/3/library/functions.html#func-range) in the following code, so let's see how it works:\n"
   ]
  },
  {
   "cell_type": "code",
   "execution_count": null,
   "metadata": {},
   "outputs": [],
   "source": [
    "# Notice how range function works:\n",
    "\n",
    "for ii in range(5):\n",
    "    print(ii)"
   ]
  },
  {
   "cell_type": "code",
   "execution_count": null,
   "metadata": {},
   "outputs": [],
   "source": [
    "\n",
    "def plot_estimates(n):\n",
    "    \"\"\" Simulates flipping a fair coin n times and returns running \\\\\n",
    "        estimate of the probability of getting a heads as num_trials gets larger\"\"\"\n",
    "\n",
    "        # Ex: Running_prob is a list with ratio of 'H' being counted per times coin flipped.\n",
    "        # Suppose we got T, H, T, ...\n",
    "        # running_prob[0]=0/1   running_prob[1]=1/2   running_prob[2]=1/3   etc\n",
    "        # running_prob = [0, 0.5, 0.3333..., etc]\n",
    "    \n",
    "    flips = rng.choice([\"H\",\"T\"], size=n)\n",
    "    running_prob = []\n",
    "\n",
    "    for ii in range(n):\n",
    "        num= ...\n",
    "        denom= ...\n",
    "        running_prob.append(num/denom)\n",
    "         \n",
    "    \n",
    "    return running_prob\n",
    "\n",
    "# Run code for num trials\n",
    "num_trials=10000\n",
    "\n",
    "p = ...\n",
    "x = ...\n",
    "\n",
    "print(\"the probability of heads is approximately {:.3f}\".format(p[num_trials-1]))\n",
    " \n",
    "# Plot running estimate of probability of getting heads as num_trials gets larger:\n",
    "fig, ax = plt.subplots(figsize=(12,6))\n",
    "\n",
    "# plot the terms in p\n",
    "ax.plot(..., ...  , color=\"steelblue\",label=\"Simulated probability\")\n",
    "\n",
    "#Plot the theoretical probability\n",
    "plt.axhline(y = ..., color = 'r', linestyle = '-', label = \"Theoretical probability\")\n",
    "\n",
    "# put labels on the axes and give the graph a title.\n",
    "ax.set_title(\"Running Estimate of Probability of Heads\", fontsize=20)\n",
    "ax.set_xlabel(\"Number of Flips\", fontsize=16)\n",
    "ax.set_ylabel(\"Estimate of Probability\", fontsize=16)\n",
    "# fix the y-axis to be between 0 and 1:\n",
    "ax.set_ylim(.4,.6)\n",
    "# include a legend:\n",
    "ax.legend()\n",
    "# put a faded grid behind the graphic\n",
    "ax.grid(True, alpha=0.25)\n"
   ]
  },
  {
   "cell_type": "markdown",
   "metadata": {},
   "source": [
    "Notice that for very few flips the estimate of the probability is understandably poor.  But as the number of flips increases the estimate settles down to very close to the expected $0.5$. "
   ]
  },
  {
   "cell_type": "markdown",
   "metadata": {},
   "source": [
    "***\n",
    "\n",
    "### Example 3- Drawing Cards"
   ]
  },
  {
   "cell_type": "markdown",
   "metadata": {},
   "source": [
    "You randomly draw 2 cards (without replacement) from a standard 52-card deck.  What's the probability that you draw 2 hearts?\n",
    "\n",
    "\n",
    "a).  Compute the probability by hand\n",
    "\n",
    "b).  Write a simulation to verify your results.\n",
    "\n"
   ]
  },
  {
   "cell_type": "markdown",
   "metadata": {},
   "source": [
    "**Simulation**:"
   ]
  },
  {
   "cell_type": "code",
   "execution_count": null,
   "metadata": {},
   "outputs": [],
   "source": [
    "# Create a 52 card deck (use string 'D2' to represent the 2 of Diamonds)\n",
    "\n",
    "\n",
    "suits=['D','H','C','S']\n",
    "ranks = ['A', '2', '3', '4', '5', '6', '7', '8', '9', '10', 'J', 'Q', 'K']\n",
    "\n",
    "\n",
    "# Build a deck\n",
    "deck = ...\n",
    "\n",
    "print(deck)\n"
   ]
  },
  {
   "cell_type": "code",
   "execution_count": null,
   "metadata": {},
   "outputs": [],
   "source": [
    "\n",
    "def check_two_hearts(twocards):   \n",
    "    \"\"\" Function to simulate a single draw of 2 cards (WITHOUT REPLACEMENT)\n",
    "        and check if both draws are hearts.\"\"\"\n",
    "    ...\n",
    "    \n",
    "    return ...\n",
    "       \n",
    "    "
   ]
  },
  {
   "cell_type": "markdown",
   "metadata": {},
   "source": [
    "Test your function:"
   ]
  },
  {
   "cell_type": "code",
   "execution_count": null,
   "metadata": {},
   "outputs": [],
   "source": [
    "check_two_hearts(['DA','H8']) \n",
    "\n",
    "#assert check_two_hearts(['H7','S7']) == False\n"
   ]
  },
  {
   "cell_type": "markdown",
   "metadata": {},
   "source": [
    "Notice: In this scenario we want to draw two cards **WITHOUT REPLACEMENT**\n",
    "\n",
    "\n",
    "**OPTION 1:** \n",
    "`rng.choice(cards, replace=False, size=2)`\n",
    "\n",
    "\n",
    "**OPTION 2:** `rng.shuffle(cards)`  and then choose the first 2 in the shuffled list\n",
    "\n",
    "\n",
    "\n",
    "\n",
    " "
   ]
  },
  {
   "cell_type": "code",
   "execution_count": null,
   "metadata": {},
   "outputs": [],
   "source": [
    "print(deck[:5])\n",
    "\n",
    "rng.shuffle(deck)\n",
    "\n",
    "print(\"Shuffled Deck\", deck[:5])"
   ]
  },
  {
   "cell_type": "code",
   "execution_count": null,
   "metadata": {},
   "outputs": [],
   "source": [
    "\n",
    "def single_draw(deck):\n",
    "\n",
    "    \"\"\" Function that takes in a card deck, randomly draws 2 cards without replacement\n",
    "    and checks if both are hearts. Returns a Boolean. \"\"\"\n",
    "\n",
    "    rng.shuffle(deck)\n",
    "    first_two=deck[:2]\n",
    "    #print(first_two)\n",
    "    \n",
    "    return check_two_hearts(first_two)\n",
    "  \n",
    "\n",
    "out = single_draw(deck)\n",
    "out"
   ]
  },
  {
   "cell_type": "code",
   "execution_count": null,
   "metadata": {},
   "outputs": [],
   "source": [
    "def probability_of_two_hearts(deck, num_sim):\n",
    "    \n",
    "    \"\"\"Function that takes in a card deck and conducts num_sim simulations of drawing 2 cards (without replacement)\n",
    "    and checking if they're both hearts. \n",
    "    Returns simulated probability out of num_sim simulations as well as a list with running probabilities.\"\"\"\n",
    "    \n",
    "    ...\n",
    "    \n",
    "    return ...\n",
    "\n",
    "\n"
   ]
  },
  {
   "cell_type": "markdown",
   "metadata": {},
   "source": [
    "This is very close to the actual answer we analytically derived in part (a)."
   ]
  },
  {
   "cell_type": "code",
   "execution_count": null,
   "metadata": {},
   "outputs": [],
   "source": [
    "# Write code to plot the running probability:\n",
    "\n",
    "x = np.arange(1, 10001)\n",
    "\n",
    "prob, running_frac = probability_of_two_hearts(deck, num_sim=10000)\n",
    "\n",
    "\n",
    "print(\"Simulated probability\", prob)\n",
    "\n",
    "# Plot running estimate of probability of getting two hearts as num_trials gets larger:\n",
    "fig, ax = plt.subplots(figsize=(12,6))\n",
    "\n",
    "# plot the terms in p.   Use matplotlib's plt.plot function\n",
    "\n",
    "\n",
    "ax.plot(..., ..., color=\"steelblue\",label=\"Simulated probability\")\n",
    "\n",
    "#Plot the theoretical probability\n",
    "plt.axhline(y = ..., color = 'r', linestyle = '-', label = \"Theoretical probability\")\n",
    "\n",
    "# put labels on the axes and give the graph a title.\n",
    "ax.set_title(\"Running Estimate of Probability of Two Hearts\", fontsize=20)\n",
    "ax.set_xlabel(\"Number of Draws\", fontsize=16)\n",
    "ax.set_ylabel(\"Estimate of Probability\", fontsize=16)\n",
    "# fix the y-axis to be between 0 and 1:\n",
    "ax.set_ylim(0,0.1)\n",
    "# include a legend:\n",
    "ax.legend()\n",
    "# put a faded grid behind the graphic\n",
    "ax.grid(True, alpha=0.25)"
   ]
  },
  {
   "cell_type": "markdown",
   "metadata": {},
   "source": [
    "*** \n",
    "\n",
    "### Example 4- Conditional Probabilities with Dice\n",
    "\n",
    "\n",
    "Suppose you roll a fair die two times.  Let $A$ be the event \"the sum of the throws equals 4\" and $B$ be the event \"at least one of the throws is a $3$\"\n",
    "\n",
    "a).   Compute (by hand) the probability that the sum of the throws equals 4 _given_ that at least one of the throws is a 3.  That is, compute $P(A \\mid B)$. \n",
    "\n",
    "b).  Write a simulation to verify your results."
   ]
  },
  {
   "cell_type": "markdown",
   "metadata": {},
   "source": []
  },
  {
   "cell_type": "markdown",
   "metadata": {},
   "source": [
    "**Simulation**:\n"
   ]
  },
  {
   "cell_type": "markdown",
   "metadata": {},
   "source": [
    "**Part B**: Write code to simulate the the conditional probability $P(A \\mid B)$. **Hint**: Think about the definition of conditional probability.\n",
    "\n",
    "*Hint:  the Numpy methods `np.logical_or` and `np.logical_and` are potentially useful.*"
   ]
  },
  {
   "cell_type": "code",
   "execution_count": null,
   "metadata": {},
   "outputs": [],
   "source": [
    "def simulateA_given_B(num_samples):\n",
    "    \"\"\"Write code that conducts num_samples simulations to estimate \n",
    "    the probability that when rolling two die, the sume of the throws equals 4 \n",
    "    given that at least one of the throws is a 3.  Return the estimated probability\"\"\"\n",
    "    \n",
    "    ...\n",
    "    \n",
    "    \n",
    "    \n",
    "    \n",
    "    return ...\n",
    "                            \n",
    "    \n",
    "cond_prob = simulateA_given_B(1000)\n",
    "    \n",
    "print(cond_prob)                            \n",
    "    "
   ]
  }
 ],
 "metadata": {
  "kernelspec": {
   "display_name": "Python [conda env:base] *",
   "language": "python",
   "name": "conda-base-py"
  },
  "language_info": {
   "codemirror_mode": {
    "name": "ipython",
    "version": 3
   },
   "file_extension": ".py",
   "mimetype": "text/x-python",
   "name": "python",
   "nbconvert_exporter": "python",
   "pygments_lexer": "ipython3",
   "version": "3.12.7"
  }
 },
 "nbformat": 4,
 "nbformat_minor": 4
}
