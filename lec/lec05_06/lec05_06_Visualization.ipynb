{
 "cells": [
  {
   "cell_type": "markdown",
   "id": "bab58abc-b5cc-43b1-9e88-7a68504e743a",
   "metadata": {
    "tags": []
   },
   "source": [
    "# Visualization\n",
    "\n",
    "Adapted from material by Ani Adhikari, Suraj Rampure, and Fernando Pérez and Josh Hug and Narges Norouzi\n"
   ]
  },
  {
   "cell_type": "code",
   "execution_count": null,
   "id": "3d97cd9b-b5c1-4752-9c2c-4e72c7c5e38d",
   "metadata": {},
   "outputs": [],
   "source": [
    "import numpy as np\n",
    "import pandas as pd\n",
    "import matplotlib.pyplot as plt\n",
    "import seaborn as sns\n",
    "\n",
    "%matplotlib inline"
   ]
  },
  {
   "cell_type": "code",
   "execution_count": null,
   "id": "61813f9c-b8a4-4017-b957-9e12a9f767d6",
   "metadata": {},
   "outputs": [],
   "source": [
    "births = pd.read_csv('data/baby.csv')"
   ]
  },
  {
   "cell_type": "code",
   "execution_count": null,
   "id": "7e9f8dac-9f04-4d06-aabe-4d31aaf8b19a",
   "metadata": {},
   "outputs": [],
   "source": [
    "births.head()"
   ]
  },
  {
   "cell_type": "code",
   "execution_count": null,
   "id": "3ca59392-bff7-4ebc-8cc1-c4c1d96189f4",
   "metadata": {},
   "outputs": [],
   "source": [
    "births.shape"
   ]
  },
  {
   "cell_type": "markdown",
   "id": "a0bf82b3-ddd0-48d6-b0de-479c438bfb4b",
   "metadata": {},
   "source": [
    "# Visualizing Distributions: Qualitative Variables\n",
    "## Bar Plots"
   ]
  },
  {
   "cell_type": "markdown",
   "id": "149c891b-46cd-4d35-876b-a2eb10dfea8b",
   "metadata": {},
   "source": [
    "We often use bar plots to display distributions of a categorical variable:"
   ]
  },
  {
   "cell_type": "code",
   "execution_count": null,
   "id": "3f1970bb-42e2-4aa7-b9ab-a6dae17f077a",
   "metadata": {},
   "outputs": [],
   "source": [
    "babies = births['Maternal Smoker'].value_counts()\n",
    "babies"
   ]
  },
  {
   "cell_type": "markdown",
   "id": "adbbec52-a058-4b99-aef6-e51bbf8e5002",
   "metadata": {},
   "source": [
    "### Option 1: Plotting bar plots using Pandas Series.plot() method:\n",
    "https://pandas.pydata.org/docs/reference/api/pandas.Series.plot.html"
   ]
  },
  {
   "cell_type": "code",
   "execution_count": null,
   "id": "d0aa6c12-300b-40bf-b98f-e422d557fe30",
   "metadata": {},
   "outputs": [],
   "source": [
    "babies.plot(kind='bar');"
   ]
  },
  {
   "cell_type": "code",
   "execution_count": null,
   "id": "1e0f5378-1797-42c1-800f-d6e5e173f637",
   "metadata": {},
   "outputs": [],
   "source": [
    "babies.plot(kind='barh');"
   ]
  },
  {
   "cell_type": "markdown",
   "id": "5ba0e3cc-005b-48e6-9d5c-5ecede6061a0",
   "metadata": {},
   "source": [
    "### Option 2: Plotting bar plots using Matplotlib:"
   ]
  },
  {
   "cell_type": "code",
   "execution_count": null,
   "id": "30fad8cd-8d78-4202-907b-f555607efbfd",
   "metadata": {},
   "outputs": [],
   "source": [
    "babies.index"
   ]
  },
  {
   "cell_type": "code",
   "execution_count": null,
   "id": "a4dc81e4-1c7b-4ae5-92ea-19ebe4b8ed30",
   "metadata": {},
   "outputs": [],
   "source": [
    "babies.values"
   ]
  },
  {
   "cell_type": "code",
   "execution_count": null,
   "id": "cd6eb77d-91a3-4756-9cdb-404eea3169da",
   "metadata": {},
   "outputs": [],
   "source": [
    "import matplotlib.pyplot as plt\n",
    "\n",
    "plt.bar(babies.index,babies.values);"
   ]
  },
  {
   "cell_type": "code",
   "execution_count": null,
   "id": "656133b8-1461-419f-a0ec-faa85ece832d",
   "metadata": {},
   "outputs": [],
   "source": [
    "# Change labels from boolean (0 and 1) to string (False and True):\n",
    "\n",
    "plt.bar(babies.index.astype(str),babies.values);\n"
   ]
  },
  {
   "cell_type": "code",
   "execution_count": null,
   "id": "efde5e70-8d41-49c0-994f-99b9bde3f747",
   "metadata": {},
   "outputs": [],
   "source": [
    "# Change to a horizontal bar plot:\n",
    "plt.barh(babies.index.astype(str),babies.values);"
   ]
  },
  {
   "cell_type": "markdown",
   "id": "ede7766e-d577-4cfc-a4ad-27a20e288fb8",
   "metadata": {},
   "source": [
    "### Option 3: Plotting bar plots using Seaborn:"
   ]
  },
  {
   "cell_type": "code",
   "execution_count": null,
   "id": "0d276c6f-d0b2-4e3c-a2ca-52ea9359f51f",
   "metadata": {},
   "outputs": [],
   "source": [
    "import seaborn as sns\n",
    "\n",
    "sns.countplot(data = births, x = 'Maternal Smoker');"
   ]
  },
  {
   "cell_type": "code",
   "execution_count": null,
   "id": "ee323018-466c-4df1-9b86-42cc940ef83a",
   "metadata": {},
   "outputs": [],
   "source": [
    "# Change to a horizontal plot:\n",
    "sns.countplot(y = 'Maternal Smoker',data = births);"
   ]
  },
  {
   "cell_type": "markdown",
   "id": "ad4d8b68-aad9-43b6-aec5-8c20ca46beb6",
   "metadata": {},
   "source": [
    "### Option 4: Plotting bar plots using Plotly Express:"
   ]
  },
  {
   "cell_type": "code",
   "execution_count": null,
   "id": "2484c774-f11d-4f22-adfa-2614e04ee6ae",
   "metadata": {},
   "outputs": [],
   "source": [
    "import plotly.express as px\n",
    "px.histogram(births, x = 'Maternal Smoker', color = 'Maternal Smoker')"
   ]
  },
  {
   "cell_type": "code",
   "execution_count": null,
   "id": "ca69965c-9a00-4b15-82a7-8783993dc1f2",
   "metadata": {},
   "outputs": [],
   "source": [
    "# Change to a horizontal plot:\n",
    "\n",
    "px.histogram(births, y = 'Maternal Smoker', color = 'Maternal Smoker')"
   ]
  },
  {
   "cell_type": "markdown",
   "id": "e5e563e9-bdba-4779-b5db-1344367bf712",
   "metadata": {},
   "source": [
    "# Visualizing Distributions:  Quantitative Variables"
   ]
  },
  {
   "cell_type": "markdown",
   "id": "3d7b5c4a-079b-4839-90ed-b5226a2c567c",
   "metadata": {},
   "source": [
    "#### Using built-in Pandas functions:\n",
    "\n",
    "`df.hist(\"column\")`\n",
    "\n",
    "https://pandas.pydata.org/docs/reference/api/pandas.DataFrame.hist.html\n"
   ]
  },
  {
   "cell_type": "code",
   "execution_count": null,
   "id": "3228b165-922b-4f2d-b61e-5e79cd8ffc89",
   "metadata": {},
   "outputs": [],
   "source": [
    "births.hist(\"Maternal Pregnancy Weight\");"
   ]
  },
  {
   "cell_type": "code",
   "execution_count": null,
   "id": "fb4da515-fb92-449d-a8ec-315a271e223d",
   "metadata": {},
   "outputs": [],
   "source": [
    "births.hist();"
   ]
  },
  {
   "cell_type": "markdown",
   "id": "ebb69b0a-11d9-4756-9904-6d92f27cf6bc",
   "metadata": {},
   "source": [
    "#### Using matplotlib"
   ]
  },
  {
   "cell_type": "code",
   "execution_count": null,
   "id": "55a7f841-b968-4471-8ebf-ed0361a9c55a",
   "metadata": {},
   "outputs": [],
   "source": [
    "plt.hist(births[\"Maternal Pregnancy Weight\"]);"
   ]
  },
  {
   "cell_type": "markdown",
   "id": "7fd6acf3-0278-443c-bb2a-14f7f8f17275",
   "metadata": {},
   "source": [
    "### Note about number of bins:\n",
    "The choice of bins for computing and plotting a histogram can exert substantial influence on the insights that one is able to draw from the visualization. If the bins are too large, they may erase important features. On the other hand, bins that are too small may be dominated by random variability, obscuring the shape of the true underlying distribution. \n",
    "\n",
    "\n",
    "**Default bin sizes**:\n",
    "\n",
    "Matplotlib (and built-in Pandas hist):  10 bins\n",
    "\n",
    "Seaborn:  Determined using a reference rule that depends on the sample size and variance of the data.  \n",
    "\n",
    "\n",
    "This works well in many cases, (i.e., with “well-behaved” data) but it fails in others. It is always a good to try different bin sizes to be sure that you are not missing something important. This function allows you to specify bins in several different ways, such as by setting the total number of bins to use, the width of each bin, or the specific locations where the bins should break."
   ]
  },
  {
   "cell_type": "markdown",
   "id": "487dc32c-56ad-45e4-abe9-264a108839cc",
   "metadata": {},
   "source": [
    "#### Using seaborn"
   ]
  },
  {
   "cell_type": "code",
   "execution_count": null,
   "id": "ca7efca8-2737-41c4-b94f-06ecd7b6ccaa",
   "metadata": {},
   "outputs": [],
   "source": [
    "sns.histplot(data = births, x = 'Maternal Pregnancy Weight');"
   ]
  },
  {
   "cell_type": "code",
   "execution_count": null,
   "id": "4e5630f2-696e-4342-8c0f-ac24f509616e",
   "metadata": {},
   "outputs": [],
   "source": [
    "#Specifying the number of bins)\n",
    "sns.histplot(data = births, x = 'Maternal Pregnancy Weight', bins=20);"
   ]
  },
  {
   "cell_type": "markdown",
   "id": "2233324b-ca78-499e-bbde-40622c6b5e0e",
   "metadata": {},
   "source": [
    "#### Density vs Frequency Histograms\n",
    "\n",
    "In this class we will usually convert all histograms to a density histogram (so that the total area of the histogram is 1). "
   ]
  },
  {
   "cell_type": "code",
   "execution_count": null,
   "id": "8cf69d72",
   "metadata": {},
   "outputs": [],
   "source": [
    "sns.histplot(data = births, x = 'Maternal Pregnancy Weight', stat= 'density');"
   ]
  },
  {
   "cell_type": "markdown",
   "id": "ff66059d-c5b7-4723-94b1-559f2154b3df",
   "metadata": {},
   "source": [
    "#### Adding a Kernel Density Estimate:\n",
    "In Seaborn, you can add a kernel density estimate to smooth the histogram, providing complementary information about the shape of the distribution:\n",
    "\n"
   ]
  },
  {
   "cell_type": "code",
   "execution_count": null,
   "id": "9ecc6984-e775-4f19-b842-50963d0b8ed6",
   "metadata": {},
   "outputs": [],
   "source": [
    "\n",
    "sns.histplot(data = births, x = 'Maternal Pregnancy Weight', stat='density', kde = True);\n"
   ]
  },
  {
   "cell_type": "markdown",
   "id": "305b5b3c-f904-4f5a-a17b-38e3e313b406",
   "metadata": {},
   "source": [
    "#### Using plotly express:"
   ]
  },
  {
   "cell_type": "code",
   "execution_count": null,
   "id": "d2ccb519-aeb9-48d8-a466-afc728867e13",
   "metadata": {},
   "outputs": [],
   "source": [
    "px.histogram(births, x = 'Maternal Pregnancy Weight')"
   ]
  },
  {
   "cell_type": "markdown",
   "id": "f6f159f7-1604-46f7-aa7f-f9cd33e2e045",
   "metadata": {},
   "source": [
    "### Percentiles"
   ]
  },
  {
   "cell_type": "code",
   "execution_count": null,
   "id": "9d55c24c-f38b-4eda-baaf-9384f88502df",
   "metadata": {},
   "outputs": [],
   "source": [
    "p10= np.percentile(births['Maternal Pregnancy Weight'], 10)\n",
    "\n",
    "\n",
    "births['category'] = None\n",
    "births.loc[(births['Maternal Pregnancy Weight'] <= p10), 'category'] = 'Less than the 10th percentile'\n",
    "births.loc[(births['Maternal Pregnancy Weight'] > p10) , 'category'] = 'Greater than the 10th percentile'\n",
    "\n",
    "sns.histplot(births, x = 'Maternal Pregnancy Weight', hue = 'category', bins = 35, stat='density');\n",
    "\n",
    "births.drop(columns = ['category'], inplace = True)\n",
    "\n",
    "#Mark the 10th percentile on the graph\n",
    "plt.scatter(p10, -.001, marker='^', color='red', s=400)\n",
    "\n",
    "print(\"10th percentile of Maternal Pregnancy Weight is \", p10)"
   ]
  },
  {
   "cell_type": "code",
   "execution_count": null,
   "id": "10ad6db6-fb12-44fe-8664-3aab82c29280",
   "metadata": {},
   "outputs": [],
   "source": [
    "q1, median, q3 = np.percentile(births['Maternal Pregnancy Weight'], [25, 50, 75])\n",
    "iqr = q3 - q1\n",
    "\n",
    "births['category'] = None\n",
    "births.loc[(births['Maternal Pregnancy Weight'] <= q1) | (births['Maternal Pregnancy Weight'] >= q3), 'category'] = 'Outside of the middle 50%'\n",
    "births.loc[(births['Maternal Pregnancy Weight'] > q1) & (births['Maternal Pregnancy Weight'] < q3), 'category'] = 'In the middle 50%'\n",
    "\n",
    "sns.histplot(births, x = 'Maternal Pregnancy Weight', hue = 'category', bins = 35\n",
    "             , stat = \"density\");\n",
    "\n",
    "births.drop(columns = ['category'], inplace = True)\n",
    "\n",
    "\n",
    "plt.scatter(q1, -.001, marker='^', color='orange', s=400)\n",
    "\n",
    "plt.scatter(median, -.001, marker='^', color='red', s=400)\n",
    "\n",
    "plt.scatter(q3, -.001, marker='^', color='green', s=400)\n",
    "\n",
    "display([q1, median, q3])"
   ]
  },
  {
   "cell_type": "markdown",
   "id": "9afdd260-a3f8-4ac1-99cd-49eb1a05d426",
   "metadata": {
    "tags": []
   },
   "source": [
    "## Box Plots"
   ]
  },
  {
   "cell_type": "code",
   "execution_count": null,
   "id": "df8bf5f3-a011-4bed-876e-bde1ec91b824",
   "metadata": {},
   "outputs": [],
   "source": [
    "plt.figure(figsize = (3, 6))\n",
    "sns.boxplot(data = births, y = 'Maternal Pregnancy Weight');"
   ]
  },
  {
   "cell_type": "code",
   "execution_count": null,
   "id": "d5e778c7-503c-4a73-b8a6-c71dbbb8e73d",
   "metadata": {},
   "outputs": [],
   "source": [
    "bweights = births['Maternal Pregnancy Weight']\n",
    "q1 = np.percentile(bweights, 25)\n",
    "q2 = np.percentile(bweights, 50)\n",
    "q3 = np.percentile(bweights, 75)\n",
    "iqr = q3 - q1\n",
    "\n",
    "\n",
    "q1, q2, q3"
   ]
  },
  {
   "cell_type": "code",
   "execution_count": null,
   "id": "3d0e7aa2-492b-4d11-97d1-ca7e3b2ab693",
   "metadata": {},
   "outputs": [],
   "source": []
  },
  {
   "cell_type": "markdown",
   "id": "4c3cac10-a2c2-432d-afae-5ddbd0fdfe35",
   "metadata": {},
   "source": [
    "## Violin Plots"
   ]
  },
  {
   "cell_type": "code",
   "execution_count": null,
   "id": "3044288e-1cbe-4ddb-b0c9-3fe997c8acaf",
   "metadata": {},
   "outputs": [],
   "source": [
    "plt.figure(figsize = (3, 6))\n",
    "sns.violinplot(data = births, y = 'Birth Weight');\n"
   ]
  },
  {
   "cell_type": "code",
   "execution_count": null,
   "id": "a9bf53f4",
   "metadata": {},
   "outputs": [],
   "source": [
    "#You can put a boxplot inside a violin plot...\n",
    "\n",
    "px.violin(births, y = \"Birth Weight\", box=True, width=400)"
   ]
  },
  {
   "cell_type": "markdown",
   "id": "21b5a97d-cd22-422c-979e-d3a870f5cb0b",
   "metadata": {},
   "source": [
    "## Describing Distributions"
   ]
  },
  {
   "cell_type": "code",
   "execution_count": null,
   "id": "84d508b0-7356-4053-9f45-829aab652b07",
   "metadata": {},
   "outputs": [],
   "source": [
    "median = births['Maternal Pregnancy Weight'].median()\n",
    "mean = births['Maternal Pregnancy Weight'].mean()\n",
    "\n",
    "print(\"Median\", median)\n",
    "print(\"Mean\", mean)"
   ]
  },
  {
   "cell_type": "markdown",
   "id": "a8c49589-339a-42bd-b562-9c1fd3dc72e0",
   "metadata": {},
   "source": [
    "# Visualizing Relationships Between Variables"
   ]
  },
  {
   "cell_type": "markdown",
   "id": "fec939d1-0f63-492b-abde-66739e2f14bb",
   "metadata": {},
   "source": [
    "## Relationships Between 2 Quantitative Variables"
   ]
  },
  {
   "cell_type": "markdown",
   "id": "c3b64a29-d8fd-4ba6-a42c-8ca9d1a300a6",
   "metadata": {},
   "source": [
    "## Scatter plots"
   ]
  },
  {
   "cell_type": "code",
   "execution_count": null,
   "id": "a9dd303c-731e-46ce-afb1-89af8651cfcc",
   "metadata": {},
   "outputs": [],
   "source": [
    "births.head()"
   ]
  },
  {
   "cell_type": "code",
   "execution_count": null,
   "id": "612a10b8-4c6c-4e84-adce-6aebbf4e5d4e",
   "metadata": {},
   "outputs": [],
   "source": [
    "plt.scatter(births['Maternal Height'], births['Birth Weight']);\n",
    "plt.xlabel('Maternal Height')\n",
    "plt.ylabel('Birth Weight');"
   ]
  },
  {
   "cell_type": "markdown",
   "id": "23659926-5a1c-46d4-a285-04792ab5afc2",
   "metadata": {},
   "source": [
    "Most `matplotlib` functions also accept a `data=` keyword, and when using this mode, you can then refer to x and y as names of columns in the `data` DataFrame, instead of passing the series explicitly:"
   ]
  },
  {
   "cell_type": "code",
   "execution_count": null,
   "id": "bf637845-e9a3-428c-a5f7-effb05bec226",
   "metadata": {},
   "outputs": [],
   "source": [
    "sns.scatterplot(data = births, x = 'Maternal Height', y = 'Birth Weight',hue = 'Maternal Smoker');"
   ]
  },
  {
   "cell_type": "code",
   "execution_count": null,
   "id": "7b6fb628",
   "metadata": {},
   "outputs": [],
   "source": [
    "# We can add some \"jittering\" to the data to help deal with overplotting\n",
    "\n",
    "sns.stripplot(data = births, x = 'Maternal Height', y = 'Birth Weight', hue = 'Maternal Smoker', jitter = 0.25);"
   ]
  },
  {
   "cell_type": "code",
   "execution_count": null,
   "id": "862021c3-42ae-4957-ab85-4cf8de639b25",
   "metadata": {},
   "outputs": [],
   "source": []
  },
  {
   "cell_type": "code",
   "execution_count": null,
   "id": "179b205c-bac6-423f-b048-a6550185f0c0",
   "metadata": {},
   "outputs": [],
   "source": [
    "sns.jointplot(data = births, x = 'Maternal Height', y = 'Birth Weight');"
   ]
  },
  {
   "cell_type": "markdown",
   "id": "59ccc21b-417f-4893-885a-0d67aa70a5a9",
   "metadata": {},
   "source": [
    "## Hex plots and contour plots"
   ]
  },
  {
   "cell_type": "code",
   "execution_count": null,
   "id": "d36de36f-c3a2-4816-9fcc-1ce1f50c5508",
   "metadata": {},
   "outputs": [],
   "source": [
    "sns.jointplot(data = births, x = 'Maternal Height', y = 'Birth Weight', kind = 'hex');"
   ]
  },
  {
   "cell_type": "code",
   "execution_count": null,
   "id": "5fa51324-38da-42b6-bd30-4df292db60ab",
   "metadata": {},
   "outputs": [],
   "source": [
    "sns.jointplot(data = births, x = 'Maternal Height', y = 'Birth Weight', kind = 'kde', fill = True);"
   ]
  },
  {
   "cell_type": "markdown",
   "id": "eedfb0e0-6908-4d26-883c-148b90ff840f",
   "metadata": {},
   "source": [
    "## Relationships Between Mixed Variables"
   ]
  },
  {
   "cell_type": "markdown",
   "id": "6b98e3c8-a34a-4a96-ade1-bc6d32679737",
   "metadata": {
    "tags": []
   },
   "source": [
    "## Side by side box plots and violin plots"
   ]
  },
  {
   "cell_type": "markdown",
   "id": "9db74de2-a781-470c-8c8e-7ca8227d483f",
   "metadata": {},
   "source": [
    "### Overlaid Histograms"
   ]
  },
  {
   "cell_type": "code",
   "execution_count": null,
   "id": "d247988c-d309-4352-adf9-1542151122a3",
   "metadata": {},
   "outputs": [],
   "source": [
    "# OPTION 1: Using displot\n",
    "sns.displot(data = births, x = 'Birth Weight', stat = 'density', hue = 'Maternal Smoker');"
   ]
  },
  {
   "cell_type": "code",
   "execution_count": null,
   "id": "86b501ff-9f56-414b-b859-b919c8d2298b",
   "metadata": {},
   "outputs": [],
   "source": [
    "#OPTION 2;  Using Matplotlib\n",
    "\n",
    "non_smoker = births[births[\"Maternal Smoker\"]==False]\n",
    "\n",
    "smoker = births[births[\"Maternal Smoker\"]==True]\n",
    "\n",
    "plt.hist(non_smoker[\"Birth Weight\"], density=True, alpha=0.5);\n",
    "\n",
    "plt.hist(smoker[\"Birth Weight\"], density=True, alpha =.7);"
   ]
  },
  {
   "cell_type": "code",
   "execution_count": null,
   "id": "8a986ed7-1b07-470a-9668-a7f84c15e62f",
   "metadata": {},
   "outputs": [],
   "source": [
    "sns.displot(data = births, x = 'Birth Weight', kde = True, stat = 'density', hue = 'Maternal Smoker');"
   ]
  },
  {
   "cell_type": "code",
   "execution_count": null,
   "id": "41a06ef1-c64e-4571-a770-b349c4ba1849",
   "metadata": {},
   "outputs": [],
   "source": [
    "sns.displot(data = births, x = 'Birth Weight', kind = 'kde', hue = 'Maternal Smoker');"
   ]
  },
  {
   "cell_type": "code",
   "execution_count": null,
   "id": "55554463-a853-4033-8c41-14e8d9cd6062",
   "metadata": {},
   "outputs": [],
   "source": [
    "plt.figure(figsize=(5, 8))\n",
    "sns.boxplot(data = births, x = 'Maternal Smoker', y = 'Birth Weight');"
   ]
  },
  {
   "cell_type": "code",
   "execution_count": null,
   "id": "8974055c-c1a1-4245-b459-92f44a29ff6f",
   "metadata": {},
   "outputs": [],
   "source": [
    "plt.figure(figsize=(5, 8))\n",
    "sns.violinplot(data = births, x = 'Maternal Smoker', y = 'Birth Weight');"
   ]
  },
  {
   "cell_type": "code",
   "execution_count": null,
   "id": "f802b348-7d87-43d5-8129-c387663f6264",
   "metadata": {},
   "outputs": [],
   "source": [
    "plt.figure(figsize=(5, 8))\n",
    "sns.violinplot(data = births, x = 'Maternal Smoker', y = 'Birth Weight');"
   ]
  },
  {
   "cell_type": "markdown",
   "id": "1e229373-4ec2-4731-be70-603a1bb25b69",
   "metadata": {},
   "source": [
    "## Visualizing More than 2 Variables"
   ]
  },
  {
   "cell_type": "code",
   "execution_count": null,
   "id": "7ca03745-b298-4f16-a5c1-3a6a4d5e8c74",
   "metadata": {},
   "outputs": [],
   "source": [
    "sns.lmplot(data = births, x = 'Maternal Height', y = 'Birth Weight', \n",
    "           ci = False, hue = 'Maternal Smoker');"
   ]
  },
  {
   "cell_type": "code",
   "execution_count": null,
   "id": "8704f86a-65d1-455a-9e92-9575ca653714",
   "metadata": {},
   "outputs": [],
   "source": [
    "sns.jointplot(data = births, x = 'Maternal Height', y = 'Birth Weight', hue = 'Maternal Smoker');"
   ]
  },
  {
   "cell_type": "code",
   "execution_count": null,
   "id": "c77258d4-e4ff-48c2-bfc0-9e5df43a63e2",
   "metadata": {},
   "outputs": [],
   "source": [
    "sns.jointplot(data = births, x = 'Maternal Height', y = 'Birth Weight', kind = 'kde', hue = 'Maternal Smoker');"
   ]
  }
 ],
 "metadata": {
  "kernelspec": {
   "display_name": "Python 3 (ipykernel)",
   "language": "python",
   "name": "python3"
  },
  "language_info": {
   "codemirror_mode": {
    "name": "ipython",
    "version": 3
   },
   "file_extension": ".py",
   "mimetype": "text/x-python",
   "name": "python",
   "nbconvert_exporter": "python",
   "pygments_lexer": "ipython3",
   "version": "3.10.8"
  }
 },
 "nbformat": 4,
 "nbformat_minor": 5
}
