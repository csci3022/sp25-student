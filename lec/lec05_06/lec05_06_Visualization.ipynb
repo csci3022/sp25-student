{
 "cells": [
  {
   "cell_type": "markdown",
   "id": "bab58abc-b5cc-43b1-9e88-7a68504e743a",
   "metadata": {
    "tags": []
   },
   "source": [
    "# Visualization\n",
    "\n",
    "Adapted from material by Ani Adhikari, Suraj Rampure, and Fernando Pérez and Josh Hug and Narges Norouzi\n"
   ]
  },
  {
   "cell_type": "code",
   "execution_count": null,
   "id": "3d97cd9b-b5c1-4752-9c2c-4e72c7c5e38d",
   "metadata": {},
   "outputs": [],
   "source": [
    "import numpy as np\n",
    "import pandas as pd\n",
    "import matplotlib.pyplot as plt\n",
    "import seaborn as sns\n",
    "\n",
    "%matplotlib inline"
   ]
  },
  {
   "cell_type": "code",
   "execution_count": null,
   "id": "61813f9c-b8a4-4017-b957-9e12a9f767d6",
   "metadata": {},
   "outputs": [],
   "source": [
    "births = pd.read_csv('data/baby.csv')"
   ]
  },
  {
   "cell_type": "code",
   "execution_count": null,
   "id": "7e9f8dac-9f04-4d06-aabe-4d31aaf8b19a",
   "metadata": {},
   "outputs": [],
   "source": [
    "births.head()"
   ]
  },
  {
   "cell_type": "code",
   "execution_count": null,
   "id": "3ca59392-bff7-4ebc-8cc1-c4c1d96189f4",
   "metadata": {},
   "outputs": [],
   "source": [
    "births.shape"
   ]
  },
  {
   "cell_type": "markdown",
   "id": "a0bf82b3-ddd0-48d6-b0de-479c438bfb4b",
   "metadata": {},
   "source": [
    "# Visualizing Distributions: Qualitative Variables\n",
    "## Bar Plots"
   ]
  },
  {
   "cell_type": "markdown",
   "id": "149c891b-46cd-4d35-876b-a2eb10dfea8b",
   "metadata": {},
   "source": [
    "We often use bar plots to display distributions of a categorical variable:"
   ]
  },
  {
   "cell_type": "code",
   "execution_count": null,
   "id": "3f1970bb-42e2-4aa7-b9ab-a6dae17f077a",
   "metadata": {},
   "outputs": [],
   "source": [
    "babies = births['Maternal Smoker'].value_counts()\n",
    "babies"
   ]
  },
  {
   "cell_type": "markdown",
   "id": "adbbec52-a058-4b99-aef6-e51bbf8e5002",
   "metadata": {},
   "source": [
    "### Option 1: Plotting bar plots using Pandas Series.plot() method:\n",
    "https://pandas.pydata.org/docs/reference/api/pandas.Series.plot.html\n",
    "\n",
    "(Behind the scenes this is just using Matplotlib)"
   ]
  },
  {
   "cell_type": "code",
   "execution_count": null,
   "id": "d0aa6c12-300b-40bf-b98f-e422d557fe30",
   "metadata": {},
   "outputs": [],
   "source": [
    "babies.plot(kind='bar');"
   ]
  },
  {
   "cell_type": "markdown",
   "id": "db30638b-f58a-4ff5-89d5-2bbb7f303dcf",
   "metadata": {},
   "source": [
    "**Practice:  Check the documentation to see how to make a horizontal bar plot of the distribution of the Maternal Smoker variable:**"
   ]
  },
  {
   "cell_type": "code",
   "execution_count": 32,
   "id": "1e0f5378-1797-42c1-800f-d6e5e173f637",
   "metadata": {},
   "outputs": [
    {
     "data": {
      "text/plain": [
       "Ellipsis"
      ]
     },
     "execution_count": 32,
     "metadata": {},
     "output_type": "execute_result"
    }
   ],
   "source": [
    "..."
   ]
  },
  {
   "cell_type": "markdown",
   "id": "5ba0e3cc-005b-48e6-9d5c-5ecede6061a0",
   "metadata": {},
   "source": [
    "### Option 2: Plotting bar plots using Matplotlib:\n",
    "\n",
    "https://matplotlib.org/\n",
    "\n",
    "Matplotlib is a foundational library that provides a comprehensive set of tools for creating a wide range of static, interactive, and animated visualizations. It’s highly versatile and can be used to create everything from basic line and bar plots to complex visualizations.\n",
    "\n",
    "We will typically import it with alias `.plt` \n",
    "\n",
    "Pros:\n",
    "\n",
    " - Offers extensive customization options for visualizations.\n",
    " - Provides fine-grained control over plot aesthetics and styles.\n",
    " - Supports a wide variety of plot types and chart configurations.\n",
    "\n",
    "Cons:\n",
    "\n",
    " - Requires writing more code to achieve certain types of visualizations.\n",
    " - Has a steeper learning curve due to its granular syntax.\n",
    "\n",
    "Use Cases:\n",
    "\n",
    " - Basic line, bar, and scatter plots.\n",
    " - Customizing plot aesthetics and styles.\n",
    " - Creating complex visualizations with precise control."
   ]
  },
  {
   "cell_type": "code",
   "execution_count": null,
   "id": "30fad8cd-8d78-4202-907b-f555607efbfd",
   "metadata": {},
   "outputs": [],
   "source": [
    "babies.index"
   ]
  },
  {
   "cell_type": "code",
   "execution_count": null,
   "id": "a4dc81e4-1c7b-4ae5-92ea-19ebe4b8ed30",
   "metadata": {},
   "outputs": [],
   "source": [
    "babies.values"
   ]
  },
  {
   "cell_type": "markdown",
   "id": "4f24580c-e6fc-47db-a4ef-db8c5a447528",
   "metadata": {},
   "source": [
    "We can plot a bar plot in matplot lib using \n",
    "\n",
    "\n",
    "`plt.bar(x, height)`\n",
    "where x and height are arrays such that the bars are positioned at x with height given by height.  "
   ]
  },
  {
   "cell_type": "code",
   "execution_count": null,
   "id": "cd6eb77d-91a3-4756-9cdb-404eea3169da",
   "metadata": {},
   "outputs": [],
   "source": [
    "import matplotlib.pyplot as plt\n",
    "\n",
    "plt.bar(babies.index,babies.values);"
   ]
  },
  {
   "cell_type": "code",
   "execution_count": null,
   "id": "656133b8-1461-419f-a0ec-faa85ece832d",
   "metadata": {},
   "outputs": [],
   "source": [
    "# Change labels from boolean (0 and 1) to string (False and True):\n",
    "\n",
    "plt.bar(babies.index.astype(str),babies.values);\n"
   ]
  },
  {
   "cell_type": "markdown",
   "id": "59c0bb2d-f6a4-43fe-9e11-9ca3a765753f",
   "metadata": {},
   "source": [
    "**Practice:  Make a horizontal bar plot of the distribution of the Maternal Smoker variable:**"
   ]
  },
  {
   "cell_type": "code",
   "execution_count": 34,
   "id": "efde5e70-8d41-49c0-994f-99b9bde3f747",
   "metadata": {},
   "outputs": [
    {
     "ename": "NameError",
     "evalue": "name 'plt' is not defined",
     "output_type": "error",
     "traceback": [
      "\u001b[0;31m---------------------------------------------------------------------------\u001b[0m",
      "\u001b[0;31mNameError\u001b[0m                                 Traceback (most recent call last)",
      "Cell \u001b[0;32mIn[34], line 2\u001b[0m\n\u001b[1;32m      1\u001b[0m \u001b[38;5;66;03m# Change to a horizontal bar plot:\u001b[39;00m\n\u001b[0;32m----> 2\u001b[0m plt\u001b[38;5;241m.\u001b[39mbarh(babies\u001b[38;5;241m.\u001b[39mindex\u001b[38;5;241m.\u001b[39mastype(\u001b[38;5;28mstr\u001b[39m),babies\u001b[38;5;241m.\u001b[39mvalues)\n",
      "\u001b[0;31mNameError\u001b[0m: name 'plt' is not defined"
     ]
    }
   ],
   "source": [
    "# Change to a horizontal bar plot:\n",
    "plt.barh(babies.index.astype(str),babies.values);"
   ]
  },
  {
   "cell_type": "markdown",
   "id": "ede7766e-d577-4cfc-a4ad-27a20e288fb8",
   "metadata": {},
   "source": [
    "### Option 3: Plotting bar plots using Seaborn:\n",
    "\n",
    "https://seaborn.pydata.org/\n",
    "\n",
    "Seaborn is built on top of Matplotlib and aims to simplify the creation of informative and attractive statistical graphics. It provides a higher-level interface for creating complex visualizations with ease.\n",
    "\n",
    "Pros:\n",
    "\n",
    " - Offers built-in themes and color palettes for aesthetically pleasing visualizations.\n",
    " - Simplifies the creation of advanced statistical plots like box plots and violin plots.\n",
    " - Provides support for visualizing multivariate relationships.\n",
    "\n",
    "Cons:\n",
    "\n",
    " - While easier to use than Matplotlib, it may have limitations for highly custom visualizations.\n",
    "\n",
    "Use Cases:\n",
    "\n",
    " - Creating box plots, violin plots, and other advanced statistical plots.\n",
    " - Generating heatmaps and correlation matrices.\n",
    " - Visualizing multivariate relationships with pair plots.\n"
   ]
  },
  {
   "cell_type": "markdown",
   "id": "97668c30-8a58-4970-832b-6fc3a764cd7c",
   "metadata": {},
   "source": [
    "`countplot` gives a count of each type of qualitative variable"
   ]
  },
  {
   "cell_type": "code",
   "execution_count": null,
   "id": "0d276c6f-d0b2-4e3c-a2ca-52ea9359f51f",
   "metadata": {},
   "outputs": [],
   "source": [
    "import seaborn as sns\n",
    "\n",
    "sns.countplot(data = births, x = 'Maternal Smoker');"
   ]
  },
  {
   "cell_type": "code",
   "execution_count": null,
   "id": "ee323018-466c-4df1-9b86-42cc940ef83a",
   "metadata": {},
   "outputs": [],
   "source": [
    "# Change to a horizontal plot:\n",
    "sns.countplot(y = 'Maternal Smoker',data = births);"
   ]
  },
  {
   "cell_type": "markdown",
   "id": "ad4d8b68-aad9-43b6-aec5-8c20ca46beb6",
   "metadata": {},
   "source": [
    "### Option 4: Plotting bar plots using Plotly:\n",
    "\n",
    "https://plotly.com/python/plotly-express/\n",
    "\n",
    "Plotly focuses on creating interactive and dynamic visualizations that can be embedded in web applications or notebooks. It’s well-suited for creating visually appealing dashboards and interactive data exploration.\n",
    "\n",
    "Pros:\n",
    "\n",
    " - Offers dynamic and interactive visualizations that respond to user input.\n",
    " - Supports a wide range of chart types, including 3D plots and geographical maps.\n",
    " - Enables the creation of interactive dashboards and web applications.\n",
    "\n",
    "Cons:\n",
    "\n",
    " - May require more resources for rendering due to its interactive nature.\n",
    " - Not all features are open source\n",
    " - Learning how to effectively use its interactive features might take some time.\n",
    "\n",
    "Use Cases:\n",
    "\n",
    " - Creating interactive line charts, bar charts, and scatter plots.\n",
    " - Generating 3D plots and geographical visualizations.\n",
    " - Building interactive dashboards for data exploration.\n"
   ]
  },
  {
   "cell_type": "code",
   "execution_count": null,
   "id": "2484c774-f11d-4f22-adfa-2614e04ee6ae",
   "metadata": {},
   "outputs": [],
   "source": [
    "import plotly.express as px\n",
    "px.histogram(births, x = 'Maternal Smoker', color = 'Maternal Smoker')"
   ]
  },
  {
   "cell_type": "code",
   "execution_count": null,
   "id": "ca69965c-9a00-4b15-82a7-8783993dc1f2",
   "metadata": {},
   "outputs": [],
   "source": [
    "# Change to a horizontal plot:\n",
    "\n",
    "px.histogram(births, y = 'Maternal Smoker', color = 'Maternal Smoker')"
   ]
  },
  {
   "cell_type": "markdown",
   "id": "e5e563e9-bdba-4779-b5db-1344367bf712",
   "metadata": {},
   "source": [
    "# Visualizing Distributions:  Quantitative Variables"
   ]
  },
  {
   "cell_type": "markdown",
   "id": "3d7b5c4a-079b-4839-90ed-b5226a2c567c",
   "metadata": {},
   "source": [
    "#### Using built-in Pandas functions:\n",
    "\n",
    "`df.hist(\"column\")`\n",
    "\n",
    "https://pandas.pydata.org/docs/reference/api/pandas.DataFrame.hist.html\n"
   ]
  },
  {
   "cell_type": "code",
   "execution_count": null,
   "id": "3228b165-922b-4f2d-b61e-5e79cd8ffc89",
   "metadata": {},
   "outputs": [],
   "source": [
    "births.hist(\"Maternal Pregnancy Weight\");"
   ]
  },
  {
   "cell_type": "code",
   "execution_count": null,
   "id": "fb4da515-fb92-449d-a8ec-315a271e223d",
   "metadata": {},
   "outputs": [],
   "source": [
    "births.hist();"
   ]
  },
  {
   "cell_type": "markdown",
   "id": "ebb69b0a-11d9-4756-9904-6d92f27cf6bc",
   "metadata": {},
   "source": [
    "#### Using matplotlib"
   ]
  },
  {
   "cell_type": "code",
   "execution_count": null,
   "id": "55a7f841-b968-4471-8ebf-ed0361a9c55a",
   "metadata": {},
   "outputs": [],
   "source": [
    "plt.hist(births[\"Maternal Pregnancy Weight\"]);"
   ]
  },
  {
   "cell_type": "markdown",
   "id": "7fd6acf3-0278-443c-bb2a-14f7f8f17275",
   "metadata": {},
   "source": [
    "### Note about number of bins:\n",
    "The choice of bins for computing and plotting a histogram can exert substantial influence on the insights that one is able to draw from the visualization. If the bins are too large, they may erase important features. On the other hand, bins that are too small may be dominated by random variability, obscuring the shape of the true underlying distribution. \n",
    "\n",
    "\n",
    "**Default bin sizes**:\n",
    "\n",
    "Matplotlib (and built-in Pandas hist):  10 bins\n",
    "\n",
    "Seaborn:  Determined using a reference rule that depends on the sample size and variance of the data.  \n",
    "\n",
    "\n",
    "This works well in many cases, (i.e., with “well-behaved” data) but it fails in others. It is always a good to try different bin sizes to be sure that you are not missing something important. This function allows you to specify bins in several different ways, such as by setting the total number of bins to use, the width of each bin, or the specific locations where the bins should break."
   ]
  },
  {
   "cell_type": "markdown",
   "id": "487dc32c-56ad-45e4-abe9-264a108839cc",
   "metadata": {},
   "source": [
    "#### Using seaborn"
   ]
  },
  {
   "cell_type": "code",
   "execution_count": null,
   "id": "ca7efca8-2737-41c4-b94f-06ecd7b6ccaa",
   "metadata": {},
   "outputs": [],
   "source": [
    "sns.histplot(data = births, x = 'Maternal Pregnancy Weight');"
   ]
  },
  {
   "cell_type": "code",
   "execution_count": null,
   "id": "4e5630f2-696e-4342-8c0f-ac24f509616e",
   "metadata": {},
   "outputs": [],
   "source": [
    "#Specifying the number of bins)\n",
    "sns.histplot(data = births, x = 'Maternal Pregnancy Weight', bins=20);"
   ]
  },
  {
   "cell_type": "markdown",
   "id": "2233324b-ca78-499e-bbde-40622c6b5e0e",
   "metadata": {},
   "source": [
    "#### Density vs Frequency Histograms\n",
    "\n",
    "In this class we will usually convert all histograms to a density histogram (so that the total area of the histogram is 1). "
   ]
  },
  {
   "cell_type": "code",
   "execution_count": null,
   "id": "8cf69d72",
   "metadata": {},
   "outputs": [],
   "source": [
    "sns.histplot(data = births, x = 'Maternal Pregnancy Weight', stat= 'density');"
   ]
  },
  {
   "cell_type": "markdown",
   "id": "ff66059d-c5b7-4723-94b1-559f2154b3df",
   "metadata": {},
   "source": [
    "#### Adding a Kernel Density Estimate:\n",
    "In Seaborn, you can add a kernel density estimate to smooth the histogram, providing complementary information about the shape of the distribution:\n",
    "\n"
   ]
  },
  {
   "cell_type": "code",
   "execution_count": null,
   "id": "9ecc6984-e775-4f19-b842-50963d0b8ed6",
   "metadata": {},
   "outputs": [],
   "source": [
    "\n",
    "sns.histplot(data = births, x = 'Maternal Pregnancy Weight', stat='density', kde = True);\n"
   ]
  },
  {
   "cell_type": "markdown",
   "id": "305b5b3c-f904-4f5a-a17b-38e3e313b406",
   "metadata": {},
   "source": [
    "#### Using plotly express:"
   ]
  },
  {
   "cell_type": "code",
   "execution_count": null,
   "id": "d2ccb519-aeb9-48d8-a466-afc728867e13",
   "metadata": {},
   "outputs": [],
   "source": [
    "px.histogram(births, x = 'Maternal Pregnancy Weight')"
   ]
  },
  {
   "cell_type": "markdown",
   "id": "1ff8e49a-537c-4eca-812d-84f445bc592d",
   "metadata": {},
   "source": [
    "**Practice:  Use seaborn to create a **density** histogram showing the distribution of the babies' birth weights (not the maternal pregnancy weight).  \n",
    "Include the Kernal Density Estimate (KDE) graph on your histogram:**"
   ]
  },
  {
   "cell_type": "code",
   "execution_count": null,
   "id": "3c6b5738-d31c-41c8-a6d2-2e84a3f591dd",
   "metadata": {},
   "outputs": [],
   "source": [
    "..."
   ]
  },
  {
   "cell_type": "markdown",
   "id": "f6f159f7-1604-46f7-aa7f-f9cd33e2e045",
   "metadata": {},
   "source": [
    "### Percentiles"
   ]
  },
  {
   "cell_type": "code",
   "execution_count": null,
   "id": "9d55c24c-f38b-4eda-baaf-9384f88502df",
   "metadata": {},
   "outputs": [],
   "source": [
    "p10= np.percentile(births['Maternal Pregnancy Weight'], 10)\n",
    "\n",
    "\n",
    "births['category'] = None\n",
    "births.loc[(births['Maternal Pregnancy Weight'] <= p10), 'category'] = 'Less than the 10th percentile'\n",
    "births.loc[(births['Maternal Pregnancy Weight'] > p10) , 'category'] = 'Greater than the 10th percentile'\n",
    "\n",
    "sns.histplot(births, x = 'Maternal Pregnancy Weight', hue = 'category', bins = 35, stat='density');\n",
    "\n",
    "births.drop(columns = ['category'], inplace = True)\n",
    "\n",
    "#Mark the 10th percentile on the graph\n",
    "plt.scatter(p10, -.001, marker='^', color='red', s=400)\n",
    "\n",
    "print(\"10th percentile of Maternal Pregnancy Weight is \", p10)"
   ]
  },
  {
   "cell_type": "code",
   "execution_count": null,
   "id": "10ad6db6-fb12-44fe-8664-3aab82c29280",
   "metadata": {},
   "outputs": [],
   "source": [
    "q1, median, q3 = np.percentile(births['Maternal Pregnancy Weight'], [25, 50, 75])\n",
    "iqr = q3 - q1\n",
    "\n",
    "births['category'] = None\n",
    "births.loc[(births['Maternal Pregnancy Weight'] <= q1) | (births['Maternal Pregnancy Weight'] >= q3), 'category'] = 'Outside of the middle 50%'\n",
    "births.loc[(births['Maternal Pregnancy Weight'] > q1) & (births['Maternal Pregnancy Weight'] < q3), 'category'] = 'In the middle 50%'\n",
    "\n",
    "sns.histplot(births, x = 'Maternal Pregnancy Weight', hue = 'category', bins = 35\n",
    "             , stat = \"density\");\n",
    "\n",
    "births.drop(columns = ['category'], inplace = True)\n",
    "\n",
    "\n",
    "plt.scatter(q1, -.001, marker='^', color='orange', s=400)\n",
    "\n",
    "plt.scatter(median, -.001, marker='^', color='red', s=400)\n",
    "\n",
    "plt.scatter(q3, -.001, marker='^', color='green', s=400)\n",
    "\n",
    "display([q1, median, q3])"
   ]
  },
  {
   "cell_type": "markdown",
   "id": "9afdd260-a3f8-4ac1-99cd-49eb1a05d426",
   "metadata": {
    "tags": []
   },
   "source": [
    "## Box Plots"
   ]
  },
  {
   "cell_type": "code",
   "execution_count": null,
   "id": "df8bf5f3-a011-4bed-876e-bde1ec91b824",
   "metadata": {},
   "outputs": [],
   "source": [
    "plt.figure(figsize = (3, 6))\n",
    "sns.boxplot(data = births, y = 'Maternal Pregnancy Weight');"
   ]
  },
  {
   "cell_type": "code",
   "execution_count": null,
   "id": "d5e778c7-503c-4a73-b8a6-c71dbbb8e73d",
   "metadata": {},
   "outputs": [],
   "source": [
    "bweights = births['Maternal Pregnancy Weight']\n",
    "q1 = np.percentile(bweights, 25)\n",
    "q2 = np.percentile(bweights, 50)\n",
    "q3 = np.percentile(bweights, 75)\n",
    "iqr = q3 - q1\n",
    "\n",
    "\n",
    "q1, q2, q3"
   ]
  },
  {
   "cell_type": "markdown",
   "id": "59000d04-1782-47df-97f3-5b5a174214dd",
   "metadata": {},
   "source": [
    "**Practice:  Create a boxplot of the distribution of the babies' birth weights**"
   ]
  },
  {
   "cell_type": "code",
   "execution_count": null,
   "id": "085e088d-988c-4352-9588-c491cc2ab309",
   "metadata": {},
   "outputs": [],
   "source": [
    "..."
   ]
  },
  {
   "cell_type": "markdown",
   "id": "c85839c9-85a2-41c4-a0d0-ff527531d161",
   "metadata": {},
   "source": [
    "**Practice:  Calculate the IQR of the babies' birth weights**"
   ]
  },
  {
   "cell_type": "code",
   "execution_count": null,
   "id": "938b2aa0-7603-414c-b360-2f225b659bb1",
   "metadata": {},
   "outputs": [],
   "source": [
    "..."
   ]
  },
  {
   "cell_type": "markdown",
   "id": "4c3cac10-a2c2-432d-afae-5ddbd0fdfe35",
   "metadata": {},
   "source": [
    "## Violin Plots"
   ]
  },
  {
   "cell_type": "code",
   "execution_count": null,
   "id": "3044288e-1cbe-4ddb-b0c9-3fe997c8acaf",
   "metadata": {},
   "outputs": [],
   "source": [
    "plt.figure(figsize = (3, 6))\n",
    "sns.violinplot(data = births, y = 'Birth Weight');\n"
   ]
  },
  {
   "cell_type": "code",
   "execution_count": null,
   "id": "a9bf53f4",
   "metadata": {},
   "outputs": [],
   "source": [
    "#You can put a boxplot inside a violin plot...\n",
    "\n",
    "px.violin(births, y = \"Birth Weight\", box=True, width=400)"
   ]
  },
  {
   "cell_type": "markdown",
   "id": "21b5a97d-cd22-422c-979e-d3a870f5cb0b",
   "metadata": {},
   "source": [
    "## Describing Distributions"
   ]
  },
  {
   "cell_type": "code",
   "execution_count": null,
   "id": "84d508b0-7356-4053-9f45-829aab652b07",
   "metadata": {},
   "outputs": [],
   "source": [
    "median = births['Maternal Pregnancy Weight'].median()\n",
    "mean = births['Maternal Pregnancy Weight'].mean()\n",
    "\n",
    "print(\"Median\", median)\n",
    "print(\"Mean\", mean)"
   ]
  },
  {
   "cell_type": "markdown",
   "id": "a8c49589-339a-42bd-b562-9c1fd3dc72e0",
   "metadata": {},
   "source": [
    "# Visualizing Relationships Between Variables"
   ]
  },
  {
   "cell_type": "markdown",
   "id": "fec939d1-0f63-492b-abde-66739e2f14bb",
   "metadata": {},
   "source": [
    "## Relationships Between 2 Quantitative Variables"
   ]
  },
  {
   "cell_type": "markdown",
   "id": "c3b64a29-d8fd-4ba6-a42c-8ca9d1a300a6",
   "metadata": {},
   "source": [
    "## Scatter plots\n",
    "\n",
    "If both features are quantitative, then we often\n",
    "examine their relationship with a scatter plot.\n",
    "Each point in a scatter plot\n",
    "marks the position of a pair of values for an observation.\n",
    "\n",
    "\n",
    "With scatter plots, we look for linear and simple nonlinear relationships, and we examine the strength of the relationships.\n",
    "We also look to see if a transformation of one or the other or both features leads to a linear relationship."
   ]
  },
  {
   "cell_type": "code",
   "execution_count": null,
   "id": "a9dd303c-731e-46ce-afb1-89af8651cfcc",
   "metadata": {},
   "outputs": [],
   "source": [
    "births.head()"
   ]
  },
  {
   "cell_type": "code",
   "execution_count": null,
   "id": "612a10b8-4c6c-4e84-adce-6aebbf4e5d4e",
   "metadata": {},
   "outputs": [],
   "source": [
    "plt.scatter(births['Maternal Height'], births['Birth Weight']);\n",
    "plt.xlabel('Maternal Height')\n",
    "plt.ylabel('Birth Weight');"
   ]
  },
  {
   "cell_type": "markdown",
   "id": "23659926-5a1c-46d4-a285-04792ab5afc2",
   "metadata": {},
   "source": [
    "Most `matplotlib` functions also accept a `data=` keyword, and when using this mode, you can then refer to x and y as names of columns in the `data` DataFrame, instead of passing the series explicitly:"
   ]
  },
  {
   "cell_type": "code",
   "execution_count": null,
   "id": "bf637845-e9a3-428c-a5f7-effb05bec226",
   "metadata": {},
   "outputs": [],
   "source": [
    "sns.scatterplot(data = births, x = 'Maternal Height', y = 'Birth Weight',hue = 'Maternal Smoker');"
   ]
  },
  {
   "cell_type": "code",
   "execution_count": null,
   "id": "7b6fb628",
   "metadata": {},
   "outputs": [],
   "source": [
    "# We can add some \"jittering\" to the data to help deal with overplotting\n",
    "\n",
    "sns.stripplot(data = births, x = 'Maternal Height', y = 'Birth Weight', hue = 'Maternal Smoker', jitter = 0.25);"
   ]
  },
  {
   "cell_type": "code",
   "execution_count": null,
   "id": "862021c3-42ae-4957-ab85-4cf8de639b25",
   "metadata": {},
   "outputs": [],
   "source": []
  },
  {
   "cell_type": "markdown",
   "id": "f9c4e45f-4223-431e-b562-1617d0e89920",
   "metadata": {},
   "source": [
    "### Hex plots and contour plots"
   ]
  },
  {
   "cell_type": "code",
   "execution_count": null,
   "id": "bf5309f4-54f3-4a9c-85a3-a6f5da6970e9",
   "metadata": {},
   "outputs": [],
   "source": [
    "sns.jointplot(data = births, x = 'Maternal Height', y = 'Birth Weight');"
   ]
  },
  {
   "cell_type": "code",
   "execution_count": null,
   "id": "d36de36f-c3a2-4816-9fcc-1ce1f50c5508",
   "metadata": {},
   "outputs": [],
   "source": [
    "sns.jointplot(data = births, x = 'Maternal Height', y = 'Birth Weight', kind = 'hex');"
   ]
  },
  {
   "cell_type": "code",
   "execution_count": null,
   "id": "5fa51324-38da-42b6-bd30-4df292db60ab",
   "metadata": {},
   "outputs": [],
   "source": [
    "sns.jointplot(data = births, x = 'Maternal Height', y = 'Birth Weight', kind = 'kde', fill = True);"
   ]
  },
  {
   "cell_type": "markdown",
   "id": "6e8546c1-cf44-409a-b2f8-13bf3cdc5911",
   "metadata": {},
   "source": [
    "## Relationships Between Two Qualitative Variables\n",
    "\n",
    "With two qualitative features, we often compare the distribution of one feature\n",
    "across subgroups defined by the other feature. In effect, we hold one feature constant\n",
    "and plot the distribution of the other one. To do this, we can use some of the same plots\n",
    "we used to display the distribution of one qualitative feature, such as a line plot or \n",
    "bar plot.\n",
    "As an example, let's examine the relationship between the suitability of a breed for children and the size of the breed. "
   ]
  },
  {
   "cell_type": "code",
   "execution_count": null,
   "id": "4f38af31-8216-4f49-a437-320bbe558242",
   "metadata": {},
   "outputs": [],
   "source": [
    "dogs = pd.read_csv('data/akc.txt')\n",
    "\n",
    "kids = {1:\"high\", 2:\"medium\", 3:\"low\"}\n",
    "dogs[\"kids\"] = dogs['children'].map(kids)\n",
    "\n",
    "dogs"
   ]
  },
  {
   "cell_type": "markdown",
   "id": "29fd5b53-5850-49e2-b2d5-d16c52a455aa",
   "metadata": {},
   "source": [
    "To examine the relationship between these two qualitative features, we calculate three sets of\n",
    "proportions (one each for low, medium, and high suitability). \n",
    "Within each suitability category, we find  the proportion of small, medium, and large dogs. \n",
    "These proportions are displayed in the following table. Notice that each column sums to 1 (equivalent to 100\\%):"
   ]
  },
  {
   "cell_type": "code",
   "execution_count": null,
   "id": "7ecb60c7-02f9-4367-a2b4-2c3b6ea8f0d8",
   "metadata": {
    "tags": [
     "hide-input"
    ]
   },
   "outputs": [],
   "source": [
    "def proportions(series):\n",
    "    return series / sum(series)\n",
    "\n",
    "counts = (dogs.groupby(['kids', 'size'])\n",
    " .size()\n",
    " .rename('count')\n",
    ")\n",
    "\n",
    "prop_table = (counts\n",
    " .unstack(level=1)\n",
    " .reindex(['high', 'medium', 'low'])\n",
    " .apply(proportions, axis=1)\n",
    ")\n",
    "\n",
    "prop_table_t= prop_table.transpose()"
   ]
  },
  {
   "cell_type": "code",
   "execution_count": null,
   "id": "12e97cbb-7e9f-4923-b11c-63d065cf4d08",
   "metadata": {},
   "outputs": [],
   "source": [
    "prop_table_t"
   ]
  },
  {
   "cell_type": "markdown",
   "id": "3f388ae6-327f-46ea-831b-c02ce2d5054b",
   "metadata": {},
   "source": [
    "The line plot that follows provides a visualization of these proportions.\n",
    "There is one \"line\" (set of connected dots) for each suitability level.\n",
    "The connected dots give the breakdown of size within a suitability category.\n",
    "We see that breeds with low suitability for kids are primarily small:"
   ]
  },
  {
   "cell_type": "code",
   "execution_count": null,
   "id": "7d870b27-617f-48e9-bd53-fe1933488004",
   "metadata": {
    "tags": []
   },
   "outputs": [],
   "source": [
    "fig = px.line(prop_table_t, y=prop_table_t.columns, \n",
    "        x=prop_table_t.index, line_dash='kids',\n",
    "        markers=True, width=500, height=250)\n",
    "\n",
    "fig.update_layout(\n",
    "    yaxis_title=\"proportion\", xaxis_title=\"Size\",\n",
    "    legend_title=\"Suitability <br>for children\"\n",
    ")"
   ]
  },
  {
   "cell_type": "markdown",
   "id": "3e9bf172-d758-4abf-aee7-c6b31258dd25",
   "metadata": {},
   "source": [
    "We can also present these proportions as a collection of side-by-side bar plots as shown here:"
   ]
  },
  {
   "cell_type": "code",
   "execution_count": null,
   "id": "6f4ac34e-57b2-4373-a8e1-584ea5a26f91",
   "metadata": {
    "tags": []
   },
   "outputs": [],
   "source": [
    "fig = px.bar(prop_table_t, y=prop_table_t.columns, x=prop_table_t.index,\n",
    "        barmode='group', width=500, height=250)\n",
    "\n",
    "fig.update_layout(\n",
    "    yaxis_title=\"proportion\", xaxis_title=\"Size\", \n",
    "    legend_title=\"Suitability <br>for children\"\n",
    ")"
   ]
  },
  {
   "cell_type": "markdown",
   "id": "f8f5f762-56e1-46b4-b7d1-e2681401a708",
   "metadata": {},
   "source": [
    "## Relationships Between Mixed Variables"
   ]
  },
  {
   "cell_type": "markdown",
   "id": "72af849b-a70b-461f-857a-6d0152cfc2b8",
   "metadata": {},
   "source": [
    "### Overlaid Histograms"
   ]
  },
  {
   "cell_type": "code",
   "execution_count": null,
   "id": "d247988c-d309-4352-adf9-1542151122a3",
   "metadata": {},
   "outputs": [],
   "source": [
    "# OPTION 1: Using displot\n",
    "sns.displot(data = births, x = 'Birth Weight', stat = 'density', hue = 'Maternal Smoker');"
   ]
  },
  {
   "cell_type": "code",
   "execution_count": null,
   "id": "86b501ff-9f56-414b-b859-b919c8d2298b",
   "metadata": {},
   "outputs": [],
   "source": [
    "#OPTION 2;  Using Matplotlib\n",
    "\n",
    "non_smoker = births[births[\"Maternal Smoker\"]==False]\n",
    "\n",
    "smoker = births[births[\"Maternal Smoker\"]==True]\n",
    "\n",
    "plt.hist(non_smoker[\"Birth Weight\"], density=True, alpha=0.5);\n",
    "\n",
    "plt.hist(smoker[\"Birth Weight\"], density=True, alpha =.7);"
   ]
  },
  {
   "cell_type": "code",
   "execution_count": null,
   "id": "8a986ed7-1b07-470a-9668-a7f84c15e62f",
   "metadata": {},
   "outputs": [],
   "source": [
    "sns.displot(data = births, x = 'Birth Weight', kde = True, stat = 'density', hue = 'Maternal Smoker');"
   ]
  },
  {
   "cell_type": "code",
   "execution_count": null,
   "id": "41a06ef1-c64e-4571-a770-b349c4ba1849",
   "metadata": {},
   "outputs": [],
   "source": [
    "sns.displot(data = births, x = 'Birth Weight', kind = 'kde', hue = 'Maternal Smoker');"
   ]
  },
  {
   "cell_type": "markdown",
   "id": "71552fa5-d144-4fc7-881e-97fdbec80b02",
   "metadata": {},
   "source": [
    "### Side-by-side Boxplots and Violinplots"
   ]
  },
  {
   "cell_type": "code",
   "execution_count": 17,
   "id": "55554463-a853-4033-8c41-14e8d9cd6062",
   "metadata": {},
   "outputs": [
    {
     "data": {
      "image/png": "[encoded data removed]",
      "text/plain": [
       "<Figure size 360x576 with 1 Axes>"
      ]
     },
     "metadata": {
      "needs_background": "light"
     },
     "output_type": "display_data"
    }
   ],
   "source": [
    "plt.figure(figsize=(5, 8))\n",
    "sns.boxplot(data = births, x = 'Maternal Smoker', y = 'Birth Weight');"
   ]
  },
  {
   "cell_type": "code",
   "execution_count": 19,
   "id": "8974055c-c1a1-4245-b459-92f44a29ff6f",
   "metadata": {},
   "outputs": [
    {
     "data": {
      "image/png": "[encoded data removed]",
      "text/plain": [
       "<Figure size 360x576 with 1 Axes>"
      ]
     },
     "metadata": {
      "needs_background": "light"
     },
     "output_type": "display_data"
    }
   ],
   "source": [
    "plt.figure(figsize=(5, 8))\n",
    "sns.violinplot(data = births, x = 'Maternal Smoker', y = 'Birth Weight');"
   ]
  },
  {
   "cell_type": "markdown",
   "id": "7b2311bc-97cc-42cd-bbba-66d37935186e",
   "metadata": {},
   "source": [
    "Note the default setting is for the violin plots to smooth the KDE past the observed data points.  If you want to prevent this you can use `cut=0`"
   ]
  },
  {
   "cell_type": "code",
   "execution_count": 21,
   "id": "f802b348-7d87-43d5-8129-c387663f6264",
   "metadata": {},
   "outputs": [
    {
     "data": {
      "image/png": "[encoded data removed]",
      "text/plain": [
       "<Figure size 360x576 with 1 Axes>"
      ]
     },
     "metadata": {
      "needs_background": "light"
     },
     "output_type": "display_data"
    }
   ],
   "source": [
    "plt.figure(figsize=(5, 8))\n",
    "sns.violinplot(data = births, x = 'Maternal Smoker', y = 'Birth Weight',cut=0);"
   ]
  },
  {
   "cell_type": "markdown",
   "id": "7f16bbb9-8d81-4434-b11e-46a6846ed851",
   "metadata": {},
   "source": [
    "## Visualizing More than 2 Variables\n",
    "\n",
    "\n",
    "Here we summarize the various plotting techniques for making comparisons when we have three (or more) features:\n",
    "\n",
    "**Two quantitative and one qualitative:** You can use a scatter plot that varies the markers according to the qualitative feature’s categories, or by the panels of scatter plots, with one for each category.\n",
    "\n"
   ]
  },
  {
   "cell_type": "code",
   "execution_count": null,
   "id": "7ca03745-b298-4f16-a5c1-3a6a4d5e8c74",
   "metadata": {},
   "outputs": [],
   "source": [
    "sns.scatterplot(data = births, x = 'Maternal Height', y = 'Birth Weight', \n",
    "           ci = False, hue = 'Maternal Smoker');"
   ]
  },
  {
   "cell_type": "code",
   "execution_count": null,
   "id": "8704f86a-65d1-455a-9e92-9575ca653714",
   "metadata": {},
   "outputs": [],
   "source": [
    "sns.jointplot(data = births, x = 'Maternal Height', y = 'Birth Weight', hue = 'Maternal Smoker');"
   ]
  },
  {
   "cell_type": "code",
   "execution_count": null,
   "id": "c77258d4-e4ff-48c2-bfc0-9e5df43a63e2",
   "metadata": {},
   "outputs": [],
   "source": [
    "sns.jointplot(data = births, x = 'Maternal Height', y = 'Birth Weight', kind = 'kde', hue = 'Maternal Smoker');"
   ]
  },
  {
   "cell_type": "markdown",
   "id": "9af0ecc5-1681-49f6-971b-71ad318be6af",
   "metadata": {},
   "source": [
    "**Two qualitative and one quantitative feature:** We can compare the basic shape of a distribution across subgroups with side-by-side box plots. When we have two or more qualitative features, we can organize the box plots into groups according to one of the qualitative features.\n",
    "\n",
    "**Three quantitative features:** We can use a similar technique when we plot two quantitative features and one qualitative. This time, we convert one of the quantitative features into an ordinal feature, where each category typically has roughly the same number of records. Then we make faceted scatter plots of the other two features. We again look for similarities in relationships across the facets.\n",
    "\n",
    "**Three qualitative features:** \n",
    "When we examine relationships between qualitative features, we examine proportions of one feature within subgroups defined by another. In the previous section, the three line plots in one figure and the side-by-side bar plots both display such comparisons. With three (or more) qualitative features, we can continue to subdivide the data according to the combinations of levels of the features and compare these proportions using line plots, dot plots, side-by-side bar charts, and so forth. But these plots tend to get increasingly difficult to understand with further subdivisions."
   ]
  }
 ],
 "metadata": {
  "kernelspec": {
   "display_name": "Python [conda env:base] *",
   "language": "python",
   "name": "conda-base-py"
  },
  "language_info": {
   "codemirror_mode": {
    "name": "ipython",
    "version": 3
   },
   "file_extension": ".py",
   "mimetype": "text/x-python",
   "name": "python",
   "nbconvert_exporter": "python",
   "pygments_lexer": "ipython3",
   "version": "3.12.7"
  }
 },
 "nbformat": 4,
 "nbformat_minor": 5
}
