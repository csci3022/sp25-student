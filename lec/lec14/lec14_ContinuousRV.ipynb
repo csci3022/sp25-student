{
 "cells": [
  {
   "cell_type": "markdown",
   "metadata": {},
   "source": [
    "# lesson 14 - Common Continuous RV\n",
    "***\n",
    "\n",
    "We'll need Numpy, Matplotlib, and maybe Pandas for this notebook, so let's load them. "
   ]
  },
  {
   "cell_type": "code",
   "execution_count": 1,
   "metadata": {},
   "outputs": [],
   "source": [
    "import numpy as np \n",
    "import matplotlib.pylab as plt \n",
    "#from scipy.stats import norm\n",
    "import scipy.stats as stats\n",
    "import math\n",
    "import pandas as pd \n",
    "%matplotlib inline"
   ]
  },
  {
   "cell_type": "markdown",
   "metadata": {},
   "source": [
    "## The Continuous Uniform Distribution with Python\n",
    "***"
   ]
  },
  {
   "cell_type": "markdown",
   "metadata": {},
   "source": [
    "For the continuous uniform distribution, $X \\sim Uni(a, b)$ the scipy stats module has the following built-in functions:\n",
    "https://docs.scipy.org/doc/scipy/reference/generated/scipy.stats.uniform.html\n",
    "\n",
    " - pdf:  `stats.uniform.pdf(x, a, b-a)`   (This is the probability **Density**. Useful if you want to plot the probability density function). \n",
    "\n",
    " - cdf:  `stats.uniform.cdf(x, a, b-a)`    (Cumulative distribution function, i.e. $P(X \\leq x))$\n",
    "\n",
    " - rvs:`stats.uniform.rvs(a, b-a, size=n )`  Randomly samples from the Uniform Distribution\n"
   ]
  },
  {
   "cell_type": "markdown",
   "metadata": {},
   "source": [
    "### Exercise 1:\n",
    "Suppose the arrival time of the next bus is uniformly distributed between 3 and 8 minutes.  What is the probability your bus arrives later than 6 minutes?\n",
    "\n",
    "Calculate and then sketch and shade what this number represents in terms of the PDF."
   ]
  },
  {
   "cell_type": "markdown",
   "metadata": {},
   "source": [
    "**SOLUTION**:\n",
    "\n",
    "By Hand:\n",
    "\n",
    "The PDF for U(3,8) is given by $f(x) = \\frac{1}{8-3}$ for $3\\leq x\\leq 8$\n",
    "\n",
    "Thus \n",
    "$P(X>6) = \\int_6^8 \\frac{1}{8-3}= \\,dx  = \\frac{1}{5} \\int_6^8 1 \\,dx = \\frac{1}{5} (2) = \\frac{2}{5}$\n",
    "\n",
    "\n",
    "\n",
    "Using Python, using the CDF function:"
   ]
  },
  {
   "cell_type": "code",
   "execution_count": 3,
   "metadata": {},
   "outputs": [
    {
     "data": {
      "text/plain": [
       "0.4"
      ]
     },
     "execution_count": 3,
     "metadata": {},
     "output_type": "execute_result"
    }
   ],
   "source": [
    "1-stats.uniform.cdf(6,3, 8-3)"
   ]
  },
  {
   "cell_type": "code",
   "execution_count": 5,
   "metadata": {},
   "outputs": [
    {
     "data": {
      "text/plain": [
       "Text(0, 0.5, 'Probability Per Unit x')"
      ]
     },
     "execution_count": 5,
     "metadata": {},
     "output_type": "execute_result"
    }
   ],
   "source": [
    "#Plot this\n",
    "\n",
    "x = np.linspace(2, 9, 1000)\n",
    "y=  stats.uniform.pdf(x, 3, 5)\n",
    "\n",
    "plt.plot(x, y,\"*\")\n",
    "\n",
    "#Create endpoints of piecewise function;\n",
    "plt.scatter([3],[1/5], color='blue', s=45, zorder=2, edgecolor='blue')\n",
    "plt.scatter([3],[0], color='white', s=45, zorder=2, edgecolor='blue')\n",
    "plt.scatter([8],[1/5], color='blue', s=45, zorder=2, edgecolor='blue')\n",
    "plt.scatter([8],[0], color='white', s=45, zorder=2, edgecolor='blue')\n",
    "\n",
    "\n",
    "plt.title(\"PDF for X~U(3,8)\")\n",
    "\n",
    "labels=[3, 6, 8]\n",
    "plt.xticks(labels)\n",
    "\n",
    "plt.fill_between(x, y, where=[(x > 6) and (x < 8) for x in x], label=\"area=0.40\", alpha=0.4)\n",
    "\n",
    "#place legend where you want it\n",
    "plt.legend(loc=(.26,.4), shadow=True)\n",
    "plt.xlabel(\"x\")\n",
    "plt.ylabel(\"Probability Per Unit x\")\n",
    "\n",
    "#plt.axhline(color=\"black\")\n",
    "\n",
    "\n"
   ]
  },
  {
   "cell_type": "markdown",
   "metadata": {},
   "source": [
    "## The Exponential Distribution with Python\n",
    "***"
   ]
  },
  {
   "cell_type": "markdown",
   "metadata": {},
   "source": [
    "Usage note!  Check your documentation!  We have been using the following PDF for the exponential:\n",
    "\n",
    "$$f(x) = \\lambda e^{-\\lambda x} \\text{  for  } x \\in [0, \\infty)$$\n",
    "\n",
    "where $\\lambda$ is the **rate** at which events happen.\n",
    "\n",
    "... but scipy uses a variant that instead has parameter called *scale* that's $1/\\lambda$ instead.  See documentation:\n",
    "\n",
    "https://docs.scipy.org/doc/scipy/reference/generated/scipy.stats.expon.html\n",
    "\n",
    "- A common parameterization for expon is in terms of the rate parameter lambda, such that pdf = lambda * exp(-lambda * x). This parameterization corresponds to using scale = 1 / lambda.\n",
    "\n",
    "They're in the wrong here, but what can we do?  We have to use `scale=1/lambda` for our usage.\n"
   ]
  },
  {
   "cell_type": "markdown",
   "metadata": {},
   "source": [
    "###  Calculating probabilities for an exponential distribution\n",
    "***  \n",
    "\n"
   ]
  },
  {
   "cell_type": "markdown",
   "metadata": {},
   "source": [
    "\n",
    "\n",
    "The scipy stats module has the following built-in functions for the exponential distribution:\n",
    "\n",
    " - pdf:  `stats.expon.pdf(x, scale=1/lambda)`\n",
    "\n",
    " - cdf:  `stats.expon.cdf(x, scale=1/lambda)`\n",
    "\n",
    " - ppf: (for finding percentiles):  `stats.expon.ppf(probability, scale=1/lambda)`\n",
    "\n",
    " - rvs:  for randomly sampling from an exponential distribution:  `stats.expon.rvs(samplesize=1000, scale=1/lambda)`\n"
   ]
  },
  {
   "cell_type": "markdown",
   "metadata": {},
   "source": [
    "### Exercise 2:\n",
    "**In an exponential distribution, let $X$= amount of time (in minutes) a postal clerk spends with a customer.   The time is known from historical data to have an average amount of time equal to four minutes, with parameter λ=0.25.    What is the probability that a clerk spends four to five minutes with a randomly selected customer?!**\n",
    "\n",
    "\n"
   ]
  },
  {
   "cell_type": "code",
   "execution_count": 10,
   "metadata": {},
   "outputs": [
    {
     "data": {
      "text/plain": [
       "0.08137464431125219"
      ]
     },
     "execution_count": 10,
     "metadata": {},
     "output_type": "execute_result"
    }
   ],
   "source": [
    "#Your answer here:\n",
    "stats.expon.cdf(5, scale=4) - stats.expon.cdf(4, scale=4)"
   ]
  },
  {
   "cell_type": "markdown",
   "metadata": {},
   "source": [
    "Let's visualize this using the graph of the pdf and the `plt.plot` function"
   ]
  },
  {
   "cell_type": "code",
   "execution_count": 11,
   "metadata": {},
   "outputs": [
    {
     "data": {
      "text/plain": [
       "Text(0.5, 1.0, 'PDF of X~exp(0.25)')"
      ]
     },
     "execution_count": 11,
     "metadata": {},
     "output_type": "execute_result"
    },
    {
     "data": {
      "image/png": "[encoded data removed]",
      "text/plain": [
       "<Figure size 640x480 with 1 Axes>"
      ]
     },
     "metadata": {},
     "output_type": "display_data"
    }
   ],
   "source": [
    "#plot the exponential pdf\n",
    "x = np.linspace(0, 10, 1000)\n",
    "\n",
    "y = stats.expon.pdf(x, scale=4)\n",
    "\n",
    "plt.plot(x,y )\n",
    "#shade the region between x=4 and x=5:\n",
    "plt.fill_between(x, stats.expon.pdf(x, scale=4), where=[(x > 4) and (x < 5) for x in x], label='area is approx 0.08', alpha=0.4)\n",
    "\n",
    "\n",
    "#choose where to position the legend\n",
    "plt.legend(loc=(.60,.6), shadow=True)\n",
    "\n",
    "#add title:\n",
    "plt.title(\"PDF of X~exp(0.25)\")"
   ]
  },
  {
   "cell_type": "markdown",
   "metadata": {},
   "source": [
    "## The Normal Distribution with Python\n",
    "***\n",
    "The built-in functions for the normal distribution with \n",
    "\n",
    "**mean = loc** and \n",
    "\n",
    "**standard deviation = scale** \n",
    "\n",
    "are given by are given by:\n",
    "https://docs.scipy.org/doc/scipy/reference/generated/scipy.stats.norm.html\n",
    "\n",
    "\n",
    " - pdf:  `stats.norm.pdf(x, loc, scale)`  (This is the probability **Density**. Useful if you want to plot the probability density function). \n",
    "\n",
    " - cdf:  `stats.norm.cdf(x, loc, scale)`  (Cumulative distribution function, i.e. $P(X \\leq x))$\n",
    " - ppf:`stats.norm.ppf(q, x, loc, scale)` (for finding the q*100 percentile) \n",
    "\n",
    " -  rvs: `stats.norm.rvs (loc, scale, size=n)` or `np.random.normal(m, s, size)`   (to randomly sample from the normal distribution)\n",
    "\n",
    "\n",
    "\n",
    "\n",
    "### Exercise 3:\n",
    "Let $X$ be a normal random variable, i.e. $X \\sim N(mean = 4,var = 2)$.  \n",
    "\n",
    "**Part A**: \n",
    "\n",
    "i).  Use scipy.stats.norm to compute $P(X \\geq 6)$. \n",
    "\n",
    "ii).  Use scipy.stats.norm to compute $P(3 \\leq X \\leq 6)$."
   ]
  },
  {
   "cell_type": "code",
   "execution_count": 14,
   "metadata": {},
   "outputs": [
    {
     "data": {
      "text/plain": [
       "0.07864960352514261"
      ]
     },
     "execution_count": 14,
     "metadata": {},
     "output_type": "execute_result"
    }
   ],
   "source": [
    "# SOLUTION TO PART (i)\n",
    "1-stats.norm.cdf(6, loc=4, scale=np.sqrt(2))"
   ]
  },
  {
   "cell_type": "code",
   "execution_count": 16,
   "metadata": {},
   "outputs": [
    {
     "data": {
      "text/plain": [
       "0.6816003353813807"
      ]
     },
     "execution_count": 16,
     "metadata": {},
     "output_type": "execute_result"
    }
   ],
   "source": [
    "# SOLUTION TO PART (ii)\n",
    "stats.norm.cdf(6, loc=4, scale=np.sqrt(2)) - stats.norm.cdf(3, loc=4, scale=np.sqrt(2))"
   ]
  },
  {
   "cell_type": "markdown",
   "metadata": {},
   "source": [
    "**Part B**:  Plot the PDF and shade what your answer above to part (i) represents in terms of the distribution."
   ]
  },
  {
   "cell_type": "code",
   "execution_count": 15,
   "metadata": {},
   "outputs": [
    {
     "data": {
      "text/plain": [
       "Text(0.5, 1.0, 'PDF of X~N(4, 2)')"
      ]
     },
     "execution_count": 15,
     "metadata": {},
     "output_type": "execute_result"
    },
    {
     "data": {
      "image/png": "[encoded data removed]",
      "text/plain": [
       "<Figure size 640x480 with 1 Axes>"
      ]
     },
     "metadata": {},
     "output_type": "display_data"
    }
   ],
   "source": [
    "#plot the normal distribution\n",
    "x = np.linspace(-2.5, 10, 1000)\n",
    "y = stats.norm.pdf(x, loc=4, scale=np.sqrt(2))\n",
    "plt.plot(x, y)\n",
    "\n",
    "#shade the region between less than x=1.25\n",
    "plt.fill_between(x, stats.norm.pdf(x, 4, np.sqrt(2)), where=[(x > 6) for x in x], label='area is approx 0.078', alpha=0.4)\n",
    "\n",
    "\n",
    "#choose where to position the legend\n",
    "plt.legend(loc=(.60,.6), shadow=True)\n",
    "plt.xlabel(\"x\")\n",
    "plt.ylabel(\"Probability Density (i.e prob per unit x)\")\n",
    "\n",
    "#add title:\n",
    "plt.title(\"PDF of X~N(4, 2)\")"
   ]
  },
  {
   "cell_type": "code",
   "execution_count": null,
   "metadata": {},
   "outputs": [],
   "source": []
  },
  {
   "cell_type": "code",
   "execution_count": null,
   "metadata": {},
   "outputs": [],
   "source": []
  },
  {
   "cell_type": "markdown",
   "metadata": {},
   "source": [
    "## Example:  \n",
    "You are waiting in line at the grocery store. It is taking _forever_!  There are only two lines open; one is being tended by a cashier named [John Henry](https://en.wikipedia.org/wiki/John_Henry_(folklore)), and the other is tended by a [self check-out machine](https://theconversation.com/the-economics-of-self-service-checkouts-78593). Like all human beings when they arrive at the front of the store to check-out and encounter lines everywhere, you first experience a moment of intense panic. _Which line will be the fastest?_ you wonder, as people shuffle around you.\n",
    "\n",
    "You decide you need to model the arrival of customers at the front of each of the lines.  From your Intro to Data Science class you remember that the distribution of independent random arrivals is often modeled using a Poisson distribution.  You observe the following:\n",
    "* John's line checks-out an average of 4 customers per ten minutes,\n",
    "* the self check-out machine checks-out an average of 5 customers per ten minutes **if** the machine is working properly, \n",
    "* the self check-out machine checks-out an average of 1 customer per ten minutes if the machine is freezing up, and\n",
    "* in any given moment, the self check-out machine has a probability of 0.1 of freezing up.\n",
    "\n"
   ]
  },
  {
   "cell_type": "markdown",
   "metadata": {},
   "source": [
    "### Time to simulate!\n",
    "\n",
    "Recall from lecture that if the number of random events follows a Poisson distribution, the lapse of time between these events follows an Exponential distribution.   For example, if the number of occurrences per 10 minute interval is \n",
    "distributed $X$~ $Pois(4)$, \n",
    "then the time (in units of 10 minutes) between arrivals is $Y$ ~ $Exp(4)$.  \n",
    " \n",
    "We're going to simulate the number of customers served using this knowledge.  \n",
    "\n",
    "i).  Write a function `checkout_count` to simulate the number of customers served by the **self check-out machine** in a **5-hour** shift. \n",
    "\n",
    "Your function should take as input the time length `time_len`, for calculating the arrivals, the working and broken customer arrival rate parameters (based on the time length given), and the probability, `p` that the machine is working properly. \n",
    "\n",
    "\n",
    "Your function should simulate customer arrival times at the front of the line by sampling between-customer times from $Exp(\\lambda)$ via Numpy's [random.exponential](https://docs.scipy.org/doc/numpy-1.13.0/reference/generated/numpy.random.exponential.html) function, where the argument $\\lambda$ will depend on the state of the machine (working or broken).   Read the documentation carefully for the format of the input for the exponential function in Numpy. \n",
    "\n",
    "Your simulation should model the arrival of each new customer, and sample whether or not the machine is working properly for each new customer. \n",
    "\n",
    "\n",
    "Your function should **return the number of customer arrivals in a 5-hour shift**. \n",
    "\n",
    "**Make sure all code is visible in your PDF, or you won't receive points for this problem**\n",
    "\n",
    "\n",
    "ii).  Use 10,000 simulations of this function to estimate the probability of the self check-out machine serves 100 or more customers in a 5-hour shift, and report your result.\n",
    "\n",
    "iii). Finally, use 10,000 simulations of **this same function** to estimate the probability that John serves 100 or more customers during his **5-hour** shift.  (Note you calculated this probability exactly in HW 5). "
   ]
  },
  {
   "cell_type": "code",
   "execution_count": null,
   "metadata": {},
   "outputs": [],
   "source": [
    " ...\n",
    "    \n",
    "#your code for part i above here"
   ]
  },
  {
   "cell_type": "code",
   "execution_count": null,
   "metadata": {},
   "outputs": [],
   "source": [
    "...\n",
    "# Your code for part ii above this line\n",
    "# Output should be approximately 0.70 if code is correct."
   ]
  },
  {
   "cell_type": "code",
   "execution_count": null,
   "metadata": {},
   "outputs": [],
   "source": [
    "...\n",
    "# Your code for part iii above this line\n",
    "# Output should match your theoretical answer to HW 5 #4f"
   ]
  },
  {
   "cell_type": "markdown",
   "metadata": {},
   "source": [
    "Comment on the results you found above, comparing the probabilities that John and the self check-out machine will serve 100 or more customers in a 5-hour block. Which seems like a better investment for the grocery store?  Justify your answer."
   ]
  },
  {
   "cell_type": "markdown",
   "metadata": {},
   "source": []
  },
  {
   "cell_type": "markdown",
   "metadata": {},
   "source": [
    "### Exercise 4 - Sampling from the Normal Distribution with Python \n",
    "*** \n",
    "\n",
    "**Part A**: Draw at least $10000$ samples from the distribution $N(0,1)$ and store the results in a variable called $z$.  Make a density histogram of $z$. Set the $x$-limits for your plot to $[-10,10]$ and your $y$-limits to $[0,0.5]$ so we can compare with the plots we'll generate in **Parts B-D**."
   ]
  },
  {
   "cell_type": "code",
   "execution_count": null,
   "metadata": {},
   "outputs": [],
   "source": [
    "z = ...\n",
    "\n",
    "fig, ax = plt.subplots(nrows=1, ncols=1, figsize=(10,4))\n",
    "   #initialize the axis and frame for your picture\n",
    "pd.Series(z).hist(ax=ax, bins=20, color=\"steelblue\", density=True, edgecolor=\"white\")\n",
    "   # histogram of the one-dimensional array that contains the 1000 elements in z\n",
    "ax.grid(alpha=0.25)\n",
    "ax.set_axisbelow(True)\n",
    "plt.xticks(range(-10,10+1));\n",
    "ax.set_xlim([-10,10])\n",
    "ax.set_ylim([0,.5]);\n"
   ]
  },
  {
   "cell_type": "markdown",
   "metadata": {},
   "source": [
    "**Part B**: Look back at the documentation from your function for generating samples from $N(0,1)$.  Modify your code (copy-paste) from **Part A** to draw samples from a normal distribution with parameters $\\mu=3$ and $\\sigma^2 = 4$, i.e. $N(3,4)$, and store the results in a variable called $x$. Make a density histogram with the same axes limits.  Does your picture seem right based on the changes to the parameters of the distribution? "
   ]
  },
  {
   "cell_type": "code",
   "execution_count": null,
   "metadata": {},
   "outputs": [],
   "source": [
    "mu = 3\n",
    "sigma = 2\n",
    "\n",
    "x = ...\n",
    "\n",
    "fig, ax = plt.subplots(nrows=1, ncols=1,figsize=(10,4))\n",
    "\n",
    "pd.Series(x).hist(ax=ax,bins=20,facecolor = \"seagreen\",edgecolor=\"white\",density=True)\n",
    "\n",
    "ax.set_xlim([-10,10])\n",
    "ax.set_ylim([0,0.5]);"
   ]
  },
  {
   "cell_type": "markdown",
   "metadata": {},
   "source": [
    "**Part C**: Now suppose we are only able to sample from $N(0,1)$.  Could we take those samples and perform a simple transformation so that they're samples from $N(3,4)$? Try a few basic transformations on your array $z$ from **Part A** and store the results in a variable $y$.  Then make a density histogram of $y$ with the same axes limits (again, copy-paste).  Does your histogram based on the transformed data look like the histogram from **Part B**?  "
   ]
  },
  {
   "cell_type": "code",
   "execution_count": null,
   "metadata": {},
   "outputs": [],
   "source": [
    "#Using the sample from part A above (this is called z)\n",
    "y = 2*z+3\n",
    "\n",
    "fig, ax = plt.subplots(nrows=1, ncols=1,figsize=(10,4))\n",
    "\n",
    "pd.Series(y).hist(ax=ax,bins=20,facecolor = \"seagreen\",edgecolor=\"white\",density=True)\n",
    "\n",
    "ax.set_xlim([-10,10])\n",
    "ax.set_ylim([0,0.5]);"
   ]
  },
  {
   "cell_type": "markdown",
   "metadata": {},
   "source": [
    "**Part D**: Okey dokey, going from $N(0,1)$ to $N(3,4)$ was the easy direction, but can you go back the other way.  Can you take the $N(3,4)$ samples you have stored in $v$ from **Part B** and transform them into samples from $N(0,1)$?  Try a few transformations and store them in a variable called $v$ and make a density histogram of your transformed data . Does it look like the plot of sampled $N(0,1)$ data from **Part A**? "
   ]
  },
  {
   "cell_type": "code",
   "execution_count": null,
   "metadata": {},
   "outputs": [],
   "source": [
    "v = (x-3)/2\n",
    "\n",
    "fig, ax = plt.subplots(nrows=1, ncols=1,figsize=(10,4))\n",
    "\n",
    "pd.Series(v).hist(ax=ax,bins=20,facecolor = \"seagreen\",edgecolor=\"white\",density=True)\n",
    "\n",
    "ax.set_xlim([-10,10])\n",
    "ax.set_ylim([0,0.5]);"
   ]
  },
  {
   "cell_type": "markdown",
   "metadata": {},
   "source": [
    "**Part E**: Next let's overlay the density function for $N(3,4)$ over our histogram and check that everything looks good.  Look up the documentation for Scipy.stats's [normal random variable](https://docs.scipy.org/doc/scipy/reference/generated/scipy.stats.norm.html). The object scipy.stats.norm implements all kinds of cool functions related to the normal distribution, including: pdf, cdf and ppf.  Use the scipy.stats.norm pdf function to plot a density function overlay over your histogram from **Part B**. "
   ]
  },
  {
   "cell_type": "code",
   "execution_count": null,
   "metadata": {},
   "outputs": [],
   "source": [
    "u = np.random.normal(3, 2, size=10000)\n",
    "\n",
    "fig, ax = plt.subplots(nrows=1, ncols=1,figsize=(10,4))\n",
    "\n",
    "pd.Series(u).hist(ax=ax,bins=20,facecolor = \"seagreen\",edgecolor=\"white\",density=True)\n",
    "\n",
    "ax.set_xlim([-10,10])\n",
    "ax.set_ylim([0,0.5]);\n",
    "\n",
    "x = np.linspace(-10,10,500)\n",
    "f = stats.norm.pdf(x,3,2)\n",
    "ax.plot(x,f,color=\"blue\")"
   ]
  },
  {
   "cell_type": "markdown",
   "metadata": {},
   "source": [
    "### Exercise 5  - Standard Deviations and Grading Curves\n",
    "*** \n",
    "\n",
    "The following picture depicts the much-often spouted facts in statistics classes that roughly $68\\%$ of the probability for a normal distribution falls within 1 standard deviation of the mean, roughly $95\\%$ falls within two standard deviations of the mean, etc \n",
    "\n",
    "![alt text](https://upload.wikimedia.org/wikipedia/commons/thumb/8/8c/Standard_deviation_diagram.svg/400px-Standard_deviation_diagram.svg.png)\n",
    "\n",
    "\n",
    "**Part A**: Verify the first fact, that roughly $68\\%$ of the probability in the standard normal distribution falls between $\\mu-\\sigma = -1$ and $\\mu+\\sigma = 1$. \n"
   ]
  },
  {
   "cell_type": "markdown",
   "metadata": {},
   "source": [
    "**Solution**: Let $Z$ be a random variable with standard normal distribution $N(0,1)$.  We have "
   ]
  },
  {
   "cell_type": "code",
   "execution_count": null,
   "metadata": {},
   "outputs": [],
   "source": [
    "..."
   ]
  },
  {
   "cell_type": "markdown",
   "metadata": {},
   "source": [
    "Note that for convenience, we used the standard normal distribution here.\n",
    "<br>But $\\color{red}{\\text{this relationship holds for any normal distribution}}$.  For instance, if we let $X$ be a normal distribution with mean $\\mu = 3$ and standard deviation $\\sigma = 2$, then we should be able to check the probability $P(3-2 \\leq X \\leq 3+2) = P(1 \\leq X \\leq 5)$ and get the same result.  Let's check: "
   ]
  },
  {
   "cell_type": "code",
   "execution_count": null,
   "metadata": {},
   "outputs": [],
   "source": [
    "..."
   ]
  },
  {
   "cell_type": "markdown",
   "metadata": {},
   "source": [
    "**Part B**: Verify the second fact, that roughly $95\\%$ of the probability in the standard normal distribution falls between $\\mu-2\\sigma = -2$ and $\\mu+2\\sigma = 2$. "
   ]
  },
  {
   "cell_type": "code",
   "execution_count": null,
   "metadata": {},
   "outputs": [],
   "source": [
    "..."
   ]
  },
  {
   "cell_type": "markdown",
   "metadata": {},
   "source": [
    "Similarly, we should obtain the same result for $N(3,4)$ if we compute $P(3-2\\cdot 2 \\leq X \\leq 3+2\\cdot 2) = P(-1 \\leq X \\leq 7)$."
   ]
  },
  {
   "cell_type": "code",
   "execution_count": null,
   "metadata": {},
   "outputs": [],
   "source": [
    "..."
   ]
  },
  {
   "cell_type": "markdown",
   "metadata": {},
   "source": [
    "**Part C**: Suppose you have grades from a Calculus exam that roughly follow a normal distribution with mean $70$ and standard deviation $15$.  What percentage of the students earned C's and B's (count things like $C$-'s and $B$+'s as $C$'s and $B$'s, etc.)?"
   ]
  },
  {
   "cell_type": "markdown",
   "metadata": {},
   "source": [
    "**Solution**:"
   ]
  },
  {
   "cell_type": "code",
   "execution_count": null,
   "metadata": {},
   "outputs": [],
   "source": [
    "..."
   ]
  },
  {
   "cell_type": "markdown",
   "metadata": {},
   "source": [
    "**Part D**: A common curving scheme in university courses is to set the Pass mark of a class at $\\mu - 1.5\\sigma$.  That is, if the overall mean of the course is low, instead of holding back people with grades of $69$ or lower, professors will lower the cutoff point to $\\mu - 1.5\\sigma$.  (Of course, if the mean of the course is higher than usual we don't apply this rule, because we're not monsters). If the grades at the end of a course roughly follow a normal distribution with mean $70$ and standard deviation $15$, what is the cutoff point for passing the class?  What percentage of students will pass the class?  "
   ]
  },
  {
   "cell_type": "markdown",
   "metadata": {},
   "source": [
    "**Solution**: We have "
   ]
  },
  {
   "cell_type": "code",
   "execution_count": null,
   "metadata": {},
   "outputs": [],
   "source": [
    "..."
   ]
  },
  {
   "cell_type": "markdown",
   "metadata": {},
   "source": [
    "SOLUTION:"
   ]
  },
  {
   "cell_type": "markdown",
   "metadata": {},
   "source": [
    "**Part E**: Repeat the calculations you did in **Parts C** and **E** by first transforming to a standard normal distribution. "
   ]
  },
  {
   "cell_type": "markdown",
   "metadata": {},
   "source": [
    "**Solution**: For **Part C** we convert the endpoints of $70$ and $90$ to their standard normal equivalents of \n",
    "\n",
    "$$\n",
    "70 \\rightarrow \\frac{70-70}{15} = 0 \\quad \\textrm{and} \\quad 90 \\rightarrow \\frac{90-70}{15} = \\frac{4}{3}\n",
    "$$\n",
    "\n",
    "We then have "
   ]
  },
  {
   "cell_type": "code",
   "execution_count": null,
   "metadata": {},
   "outputs": [],
   "source": [
    "..."
   ]
  },
  {
   "cell_type": "markdown",
   "metadata": {},
   "source": [
    "**Solution**: For **Part D** we convert the left endpoint of $70-1.5 \\times 15$ to \n",
    "\n",
    "$$\n",
    "70 - 1.5 \\times 15 \\rightarrow \\frac{(70-1.5 \\times 15) - 70}{15} = -1.5 \\quad \\textrm{(Is that result mildly obvious?)}\n",
    "$$\n",
    "\n",
    "We then have "
   ]
  },
  {
   "cell_type": "code",
   "execution_count": null,
   "metadata": {},
   "outputs": [],
   "source": [
    "..."
   ]
  },
  {
   "cell_type": "markdown",
   "metadata": {},
   "source": [
    "### Exercise 6 - Sampling from the Standard Normal with Box-Muller \n",
    "*** \n",
    "\n",
    "If you have to draw samples from a normal distribution in a non-prototyping language you might have to roll your own.  Most languages provide a method for sampling from the uniform distribution $U[0,1]$. In C++, for instance, you can generate draws from $U[0,1]$ as follows"
   ]
  },
  {
   "cell_type": "code",
   "execution_count": null,
   "metadata": {},
   "outputs": [],
   "source": [
    "#include <stdlib.h>\n",
    "\n",
    "double uniformZeroOne()\n",
    "{\n",
    "    return rand() / (RAND_MAX + 1.);\n",
    "}"
   ]
  },
  {
   "cell_type": "markdown",
   "metadata": {},
   "source": [
    "The so-called [Box-Muller Transformation](https://en.wikipedia.org/wiki/Box%E2%80%93Muller_transform) can be used to take random draws from $U[0,1]$ and produce random draws from $N(0,1)$. Look at the Wiki page for Box-Muller and then see if you can implement it.\n",
    "\n",
    "**Part A**: Write a function box_muller with argument size that implements the Box-Muller transformation by sampling from values in $U[0,1]$ and returns size samples from $N(0,1)$. \n"
   ]
  },
  {
   "cell_type": "code",
   "execution_count": null,
   "metadata": {},
   "outputs": [],
   "source": [
    "def box_muller(size):\n",
    "    u1 = np.random.uniform(size=int(size/2))\n",
    "    u2 = np.random.uniform(size=int(size/2))\n",
    "    z1 = np.sqrt(-2*np.log(u1))*np.cos(2*np.pi*u2)\n",
    "    z2 = np.sqrt(-2*np.log(u1))*np.sin(2*np.pi*u2)\n",
    "    return np.concatenate((z1, z2))\n"
   ]
  },
  {
   "cell_type": "markdown",
   "metadata": {},
   "source": [
    "**Part B**: Use your function from **Part A** to draw at least 10000 samples from $N(0,1)$ and make a histogram. Then use norm.pdf to overlay the standard normal density curve over your histogram and check your work. "
   ]
  },
  {
   "cell_type": "code",
   "execution_count": null,
   "metadata": {},
   "outputs": [],
   "source": [
    "z = box_muller(size=50000)\n",
    "fig, ax = plt.subplots(nrows=1, ncols=1, figsize=(10,4))\n",
    "pd.Series(z).hist(ax=ax, bins=40, color=\"steelblue\", density=True, edgecolor=\"white\")\n",
    "ax.grid(alpha=0.25)\n",
    "ax.set_axisbelow(True)\n",
    "ax.set_xlim([-5,5])\n",
    "ax.set_ylim([0,.5])\n",
    "x = np.linspace(-5,5,100)\n",
    "f = stats.norm.pdf(x)\n",
    "ax.plot(x, f, color=\"green\");"
   ]
  },
  {
   "cell_type": "code",
   "execution_count": null,
   "metadata": {},
   "outputs": [],
   "source": [
    "def shoulda_taken_the_bus(p=.25):\n",
    "    x = 0 \n",
    "    y=np.array([1,2,3,4,5])\n",
    "    for i in y:\n",
    "        print(i)\n",
    "        if np.random.choice([0,1], p=[1-p, p]) == 0:\n",
    "            x += 1 \n",
    "    return x \n",
    "\n",
    "\n"
   ]
  },
  {
   "cell_type": "code",
   "execution_count": null,
   "metadata": {},
   "outputs": [],
   "source": [
    "stats.norm.cdf(1.5)"
   ]
  },
  {
   "cell_type": "code",
   "execution_count": null,
   "metadata": {},
   "outputs": [],
   "source": [
    "1-stats.f.cdf(2, 3, 14)"
   ]
  },
  {
   "cell_type": "code",
   "execution_count": null,
   "metadata": {},
   "outputs": [],
   "source": [
    "1-stats.chi2.cdf(6,2)"
   ]
  },
  {
   "cell_type": "code",
   "execution_count": null,
   "metadata": {},
   "outputs": [],
   "source": [
    "stats.norm.cdf(3.66, loc=5, scale=2)"
   ]
  },
  {
   "cell_type": "code",
   "execution_count": null,
   "metadata": {},
   "outputs": [],
   "source": [
    "stats.norm.cdf(9,3,2)-stats.norm.cdf(2,3,2)"
   ]
  },
  {
   "cell_type": "code",
   "execution_count": null,
   "metadata": {},
   "outputs": [],
   "source": [
    "def func(p=.25):\n",
    "    x=0\n",
    "    y=np.array([1,2,3,4,5])\n",
    "    for i in y:\n",
    "        if np.random.choice([0,1],p=[1-p,p])==0:\n",
    "            x+=1\n",
    "    return x"
   ]
  },
  {
   "cell_type": "code",
   "execution_count": null,
   "metadata": {},
   "outputs": [],
   "source": [
    "func()"
   ]
  },
  {
   "cell_type": "code",
   "execution_count": null,
   "metadata": {},
   "outputs": [],
   "source": [
    "output = np.array([func() for ii in range(100000)])"
   ]
  },
  {
   "cell_type": "code",
   "execution_count": null,
   "metadata": {},
   "outputs": [],
   "source": [
    "series = pd.Series(output) \n",
    "#print(series)"
   ]
  },
  {
   "cell_type": "code",
   "execution_count": null,
   "metadata": {},
   "outputs": [],
   "source": [
    "series.hist(bins=[0,1,2,3,4,5,6])"
   ]
  },
  {
   "cell_type": "code",
   "execution_count": null,
   "metadata": {},
   "outputs": [],
   "source": []
  }
 ],
 "metadata": {
  "kernelspec": {
   "display_name": "Python [conda env:base] *",
   "language": "python",
   "name": "conda-base-py"
  },
  "language_info": {
   "codemirror_mode": {
    "name": "ipython",
    "version": 3
   },
   "file_extension": ".py",
   "mimetype": "text/x-python",
   "name": "python",
   "nbconvert_exporter": "python",
   "pygments_lexer": "ipython3",
   "version": "3.12.7"
  }
 },
 "nbformat": 4,
 "nbformat_minor": 4
}
