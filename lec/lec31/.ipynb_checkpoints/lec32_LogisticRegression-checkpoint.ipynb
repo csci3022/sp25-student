{
 "cells": [
  {
   "cell_type": "markdown",
   "metadata": {},
   "source": [
    "# Introduction to Logistic Regression\n",
    "\n"
   ]
  },
  {
   "cell_type": "code",
   "execution_count": 2,
   "metadata": {},
   "outputs": [],
   "source": [
    "import os\n",
    "import numpy as np\n",
    "import pandas as pd\n",
    "import matplotlib.pyplot as plt\n",
    "import seaborn as sns\n",
    "\n",
    "import plotly.offline as py\n",
    "import plotly.express as px\n",
    "import plotly.graph_objects as go\n",
    "from plotly.subplots import make_subplots\n",
    "import plotly.figure_factory as ff\n",
    "\n",
    "from scipy.optimize import minimize\n",
    "\n",
    "from sklearn.model_selection import train_test_split\n",
    "from sklearn.model_selection import cross_val_score\n",
    "from sklearn.linear_model import LinearRegression\n",
    "from sklearn.linear_model import LogisticRegression, LogisticRegressionCV\n"
   ]
  },
  {
   "cell_type": "code",
   "execution_count": 3,
   "metadata": {},
   "outputs": [],
   "source": [
    "# formatting options\n",
    "\n",
    "# big font helper\n",
    "def adjust_fontsize(size=None):\n",
    "    SMALL_SIZE = 8\n",
    "    MEDIUM_SIZE = 10\n",
    "    BIGGER_SIZE = 12\n",
    "    if size != None:\n",
    "        SMALL_SIZE = MEDIUM_SIZE = BIGGER_SIZE = size\n",
    "    plt.rcParams['font.size'] = SMALL_SIZE\n",
    "    plt.rcParams['axes.titlesize'] = SMALL_SIZE\n",
    "    plt.rcParams['axes.labelsize'] = MEDIUM_SIZE\n",
    "    plt.rcParams['xtick.labelsize'] = SMALL_SIZE\n",
    "    plt.rcParams['ytick.labelsize'] = SMALL_SIZE\n",
    "    plt.rcParams['legend.fontsize'] = SMALL_SIZE\n",
    "    plt.rcParams['figure.titlesize'] = BIGGER_SIZE\n",
    "    # plt.rc('font', size=SMALL_SIZE)          # controls default text sizes\n",
    "    # plt.rc('axes', titlesize=SMALL_SIZE)     # fontsize of the axes title\n",
    "    # plt.rc('axes', labelsize=MEDIUM_SIZE)    # fontsize of the x and y labels\n",
    "    # plt.rc('xtick', labelsize=SMALL_SIZE)    # fontsize of the tick labels\n",
    "    # plt.rc('ytick', labelsize=SMALL_SIZE)    # fontsize of the tick labels\n",
    "    # plt.rc('legend', fontsize=SMALL_SIZE)    # legend fontsize\n",
    "    # plt.rc('figure', titlesize=BIGGER_SIZE)  # fontsize of the figure title\n",
    "    \n",
    "def savefig(fname):\n",
    "    if not os.path.exists(\"images\"):\n",
    "        os.mkdir(\"images\")\n",
    "    fig = plt.gcf()\n",
    "    fig.patch.set_alpha(0.0)\n",
    "    plt.savefig(f\"images/{fname}.png\", bbox_inches = 'tight');\n",
    "    \n",
    "    \n",
    "# plt.rcParams['figure.figsize'] = (4, 4)\n",
    "plt.rcParams['figure.dpi'] = 150\n",
    "plt.rcParams['lines.linewidth'] = 3\n",
    "\n",
    "plt.style.use('fivethirtyeight')\n",
    "sns.set_context(\"talk\")\n",
    "sns.set_theme()\n",
    "#sns.set()\n",
    "adjust_fontsize(20)\n"
   ]
  },
  {
   "cell_type": "markdown",
   "metadata": {
    "tags": []
   },
   "source": [
    "---\n",
    "\n",
    "## Obtaining the Data\n",
    "\n",
    "For this lecture, we will use the Wisconsin Breast Cancer Dataset which we can obtain from scikit learn: \n",
    "\n",
    "- [breast cancer dataset](https://scikit-learn.org/stable/datasets/toy_dataset.html#breast-cancer-dataset)\n",
    "\n",
    "- [documentation about this dataset](https://scikit-learn.org/stable/datasets/toy_dataset.html#breast-cancer-dataset)"
   ]
  },
  {
   "cell_type": "markdown",
   "metadata": {},
   "source": [
    "This dataset consists of measurements from tumor biopsies for 569 patients as well as whether the tumor was malignant or benign."
   ]
  },
  {
   "cell_type": "code",
   "execution_count": 4,
   "metadata": {
    "ExecuteTime": {
     "end_time": "2018-04-02T16:07:17.590723Z",
     "start_time": "2018-04-02T16:07:17.472304Z"
    }
   },
   "outputs": [
    {
     "data": {
      "text/html": [
       "<div>\n",
       "<style scoped>\n",
       "    .dataframe tbody tr th:only-of-type {\n",
       "        vertical-align: middle;\n",
       "    }\n",
       "\n",
       "    .dataframe tbody tr th {\n",
       "        vertical-align: top;\n",
       "    }\n",
       "\n",
       "    .dataframe thead th {\n",
       "        text-align: right;\n",
       "    }\n",
       "</style>\n",
       "<table border=\"1\" class=\"dataframe\">\n",
       "  <thead>\n",
       "    <tr style=\"text-align: right;\">\n",
       "      <th></th>\n",
       "      <th>mean radius</th>\n",
       "      <th>mean texture</th>\n",
       "      <th>mean perimeter</th>\n",
       "      <th>mean area</th>\n",
       "      <th>mean smoothness</th>\n",
       "      <th>mean compactness</th>\n",
       "      <th>mean concavity</th>\n",
       "      <th>mean concave points</th>\n",
       "      <th>mean symmetry</th>\n",
       "      <th>mean fractal dimension</th>\n",
       "      <th>...</th>\n",
       "      <th>worst radius</th>\n",
       "      <th>worst texture</th>\n",
       "      <th>worst perimeter</th>\n",
       "      <th>worst area</th>\n",
       "      <th>worst smoothness</th>\n",
       "      <th>worst compactness</th>\n",
       "      <th>worst concavity</th>\n",
       "      <th>worst concave points</th>\n",
       "      <th>worst symmetry</th>\n",
       "      <th>worst fractal dimension</th>\n",
       "    </tr>\n",
       "  </thead>\n",
       "  <tbody>\n",
       "    <tr>\n",
       "      <th>0</th>\n",
       "      <td>17.99</td>\n",
       "      <td>10.38</td>\n",
       "      <td>122.80</td>\n",
       "      <td>1001.0</td>\n",
       "      <td>0.11840</td>\n",
       "      <td>0.27760</td>\n",
       "      <td>0.30010</td>\n",
       "      <td>0.14710</td>\n",
       "      <td>0.2419</td>\n",
       "      <td>0.07871</td>\n",
       "      <td>...</td>\n",
       "      <td>25.380</td>\n",
       "      <td>17.33</td>\n",
       "      <td>184.60</td>\n",
       "      <td>2019.0</td>\n",
       "      <td>0.16220</td>\n",
       "      <td>0.66560</td>\n",
       "      <td>0.7119</td>\n",
       "      <td>0.2654</td>\n",
       "      <td>0.4601</td>\n",
       "      <td>0.11890</td>\n",
       "    </tr>\n",
       "    <tr>\n",
       "      <th>1</th>\n",
       "      <td>20.57</td>\n",
       "      <td>17.77</td>\n",
       "      <td>132.90</td>\n",
       "      <td>1326.0</td>\n",
       "      <td>0.08474</td>\n",
       "      <td>0.07864</td>\n",
       "      <td>0.08690</td>\n",
       "      <td>0.07017</td>\n",
       "      <td>0.1812</td>\n",
       "      <td>0.05667</td>\n",
       "      <td>...</td>\n",
       "      <td>24.990</td>\n",
       "      <td>23.41</td>\n",
       "      <td>158.80</td>\n",
       "      <td>1956.0</td>\n",
       "      <td>0.12380</td>\n",
       "      <td>0.18660</td>\n",
       "      <td>0.2416</td>\n",
       "      <td>0.1860</td>\n",
       "      <td>0.2750</td>\n",
       "      <td>0.08902</td>\n",
       "    </tr>\n",
       "    <tr>\n",
       "      <th>2</th>\n",
       "      <td>19.69</td>\n",
       "      <td>21.25</td>\n",
       "      <td>130.00</td>\n",
       "      <td>1203.0</td>\n",
       "      <td>0.10960</td>\n",
       "      <td>0.15990</td>\n",
       "      <td>0.19740</td>\n",
       "      <td>0.12790</td>\n",
       "      <td>0.2069</td>\n",
       "      <td>0.05999</td>\n",
       "      <td>...</td>\n",
       "      <td>23.570</td>\n",
       "      <td>25.53</td>\n",
       "      <td>152.50</td>\n",
       "      <td>1709.0</td>\n",
       "      <td>0.14440</td>\n",
       "      <td>0.42450</td>\n",
       "      <td>0.4504</td>\n",
       "      <td>0.2430</td>\n",
       "      <td>0.3613</td>\n",
       "      <td>0.08758</td>\n",
       "    </tr>\n",
       "    <tr>\n",
       "      <th>3</th>\n",
       "      <td>11.42</td>\n",
       "      <td>20.38</td>\n",
       "      <td>77.58</td>\n",
       "      <td>386.1</td>\n",
       "      <td>0.14250</td>\n",
       "      <td>0.28390</td>\n",
       "      <td>0.24140</td>\n",
       "      <td>0.10520</td>\n",
       "      <td>0.2597</td>\n",
       "      <td>0.09744</td>\n",
       "      <td>...</td>\n",
       "      <td>14.910</td>\n",
       "      <td>26.50</td>\n",
       "      <td>98.87</td>\n",
       "      <td>567.7</td>\n",
       "      <td>0.20980</td>\n",
       "      <td>0.86630</td>\n",
       "      <td>0.6869</td>\n",
       "      <td>0.2575</td>\n",
       "      <td>0.6638</td>\n",
       "      <td>0.17300</td>\n",
       "    </tr>\n",
       "    <tr>\n",
       "      <th>4</th>\n",
       "      <td>20.29</td>\n",
       "      <td>14.34</td>\n",
       "      <td>135.10</td>\n",
       "      <td>1297.0</td>\n",
       "      <td>0.10030</td>\n",
       "      <td>0.13280</td>\n",
       "      <td>0.19800</td>\n",
       "      <td>0.10430</td>\n",
       "      <td>0.1809</td>\n",
       "      <td>0.05883</td>\n",
       "      <td>...</td>\n",
       "      <td>22.540</td>\n",
       "      <td>16.67</td>\n",
       "      <td>152.20</td>\n",
       "      <td>1575.0</td>\n",
       "      <td>0.13740</td>\n",
       "      <td>0.20500</td>\n",
       "      <td>0.4000</td>\n",
       "      <td>0.1625</td>\n",
       "      <td>0.2364</td>\n",
       "      <td>0.07678</td>\n",
       "    </tr>\n",
       "    <tr>\n",
       "      <th>...</th>\n",
       "      <td>...</td>\n",
       "      <td>...</td>\n",
       "      <td>...</td>\n",
       "      <td>...</td>\n",
       "      <td>...</td>\n",
       "      <td>...</td>\n",
       "      <td>...</td>\n",
       "      <td>...</td>\n",
       "      <td>...</td>\n",
       "      <td>...</td>\n",
       "      <td>...</td>\n",
       "      <td>...</td>\n",
       "      <td>...</td>\n",
       "      <td>...</td>\n",
       "      <td>...</td>\n",
       "      <td>...</td>\n",
       "      <td>...</td>\n",
       "      <td>...</td>\n",
       "      <td>...</td>\n",
       "      <td>...</td>\n",
       "      <td>...</td>\n",
       "    </tr>\n",
       "    <tr>\n",
       "      <th>564</th>\n",
       "      <td>21.56</td>\n",
       "      <td>22.39</td>\n",
       "      <td>142.00</td>\n",
       "      <td>1479.0</td>\n",
       "      <td>0.11100</td>\n",
       "      <td>0.11590</td>\n",
       "      <td>0.24390</td>\n",
       "      <td>0.13890</td>\n",
       "      <td>0.1726</td>\n",
       "      <td>0.05623</td>\n",
       "      <td>...</td>\n",
       "      <td>25.450</td>\n",
       "      <td>26.40</td>\n",
       "      <td>166.10</td>\n",
       "      <td>2027.0</td>\n",
       "      <td>0.14100</td>\n",
       "      <td>0.21130</td>\n",
       "      <td>0.4107</td>\n",
       "      <td>0.2216</td>\n",
       "      <td>0.2060</td>\n",
       "      <td>0.07115</td>\n",
       "    </tr>\n",
       "    <tr>\n",
       "      <th>565</th>\n",
       "      <td>20.13</td>\n",
       "      <td>28.25</td>\n",
       "      <td>131.20</td>\n",
       "      <td>1261.0</td>\n",
       "      <td>0.09780</td>\n",
       "      <td>0.10340</td>\n",
       "      <td>0.14400</td>\n",
       "      <td>0.09791</td>\n",
       "      <td>0.1752</td>\n",
       "      <td>0.05533</td>\n",
       "      <td>...</td>\n",
       "      <td>23.690</td>\n",
       "      <td>38.25</td>\n",
       "      <td>155.00</td>\n",
       "      <td>1731.0</td>\n",
       "      <td>0.11660</td>\n",
       "      <td>0.19220</td>\n",
       "      <td>0.3215</td>\n",
       "      <td>0.1628</td>\n",
       "      <td>0.2572</td>\n",
       "      <td>0.06637</td>\n",
       "    </tr>\n",
       "    <tr>\n",
       "      <th>566</th>\n",
       "      <td>16.60</td>\n",
       "      <td>28.08</td>\n",
       "      <td>108.30</td>\n",
       "      <td>858.1</td>\n",
       "      <td>0.08455</td>\n",
       "      <td>0.10230</td>\n",
       "      <td>0.09251</td>\n",
       "      <td>0.05302</td>\n",
       "      <td>0.1590</td>\n",
       "      <td>0.05648</td>\n",
       "      <td>...</td>\n",
       "      <td>18.980</td>\n",
       "      <td>34.12</td>\n",
       "      <td>126.70</td>\n",
       "      <td>1124.0</td>\n",
       "      <td>0.11390</td>\n",
       "      <td>0.30940</td>\n",
       "      <td>0.3403</td>\n",
       "      <td>0.1418</td>\n",
       "      <td>0.2218</td>\n",
       "      <td>0.07820</td>\n",
       "    </tr>\n",
       "    <tr>\n",
       "      <th>567</th>\n",
       "      <td>20.60</td>\n",
       "      <td>29.33</td>\n",
       "      <td>140.10</td>\n",
       "      <td>1265.0</td>\n",
       "      <td>0.11780</td>\n",
       "      <td>0.27700</td>\n",
       "      <td>0.35140</td>\n",
       "      <td>0.15200</td>\n",
       "      <td>0.2397</td>\n",
       "      <td>0.07016</td>\n",
       "      <td>...</td>\n",
       "      <td>25.740</td>\n",
       "      <td>39.42</td>\n",
       "      <td>184.60</td>\n",
       "      <td>1821.0</td>\n",
       "      <td>0.16500</td>\n",
       "      <td>0.86810</td>\n",
       "      <td>0.9387</td>\n",
       "      <td>0.2650</td>\n",
       "      <td>0.4087</td>\n",
       "      <td>0.12400</td>\n",
       "    </tr>\n",
       "    <tr>\n",
       "      <th>568</th>\n",
       "      <td>7.76</td>\n",
       "      <td>24.54</td>\n",
       "      <td>47.92</td>\n",
       "      <td>181.0</td>\n",
       "      <td>0.05263</td>\n",
       "      <td>0.04362</td>\n",
       "      <td>0.00000</td>\n",
       "      <td>0.00000</td>\n",
       "      <td>0.1587</td>\n",
       "      <td>0.05884</td>\n",
       "      <td>...</td>\n",
       "      <td>9.456</td>\n",
       "      <td>30.37</td>\n",
       "      <td>59.16</td>\n",
       "      <td>268.6</td>\n",
       "      <td>0.08996</td>\n",
       "      <td>0.06444</td>\n",
       "      <td>0.0000</td>\n",
       "      <td>0.0000</td>\n",
       "      <td>0.2871</td>\n",
       "      <td>0.07039</td>\n",
       "    </tr>\n",
       "  </tbody>\n",
       "</table>\n",
       "<p>569 rows × 30 columns</p>\n",
       "</div>"
      ],
      "text/plain": [
       "     mean radius  mean texture  mean perimeter  mean area  mean smoothness  \\\n",
       "0          17.99         10.38          122.80     1001.0          0.11840   \n",
       "1          20.57         17.77          132.90     1326.0          0.08474   \n",
       "2          19.69         21.25          130.00     1203.0          0.10960   \n",
       "3          11.42         20.38           77.58      386.1          0.14250   \n",
       "4          20.29         14.34          135.10     1297.0          0.10030   \n",
       "..           ...           ...             ...        ...              ...   \n",
       "564        21.56         22.39          142.00     1479.0          0.11100   \n",
       "565        20.13         28.25          131.20     1261.0          0.09780   \n",
       "566        16.60         28.08          108.30      858.1          0.08455   \n",
       "567        20.60         29.33          140.10     1265.0          0.11780   \n",
       "568         7.76         24.54           47.92      181.0          0.05263   \n",
       "\n",
       "     mean compactness  mean concavity  mean concave points  mean symmetry  \\\n",
       "0             0.27760         0.30010              0.14710         0.2419   \n",
       "1             0.07864         0.08690              0.07017         0.1812   \n",
       "2             0.15990         0.19740              0.12790         0.2069   \n",
       "3             0.28390         0.24140              0.10520         0.2597   \n",
       "4             0.13280         0.19800              0.10430         0.1809   \n",
       "..                ...             ...                  ...            ...   \n",
       "564           0.11590         0.24390              0.13890         0.1726   \n",
       "565           0.10340         0.14400              0.09791         0.1752   \n",
       "566           0.10230         0.09251              0.05302         0.1590   \n",
       "567           0.27700         0.35140              0.15200         0.2397   \n",
       "568           0.04362         0.00000              0.00000         0.1587   \n",
       "\n",
       "     mean fractal dimension  ...  worst radius  worst texture  \\\n",
       "0                   0.07871  ...        25.380          17.33   \n",
       "1                   0.05667  ...        24.990          23.41   \n",
       "2                   0.05999  ...        23.570          25.53   \n",
       "3                   0.09744  ...        14.910          26.50   \n",
       "4                   0.05883  ...        22.540          16.67   \n",
       "..                      ...  ...           ...            ...   \n",
       "564                 0.05623  ...        25.450          26.40   \n",
       "565                 0.05533  ...        23.690          38.25   \n",
       "566                 0.05648  ...        18.980          34.12   \n",
       "567                 0.07016  ...        25.740          39.42   \n",
       "568                 0.05884  ...         9.456          30.37   \n",
       "\n",
       "     worst perimeter  worst area  worst smoothness  worst compactness  \\\n",
       "0             184.60      2019.0           0.16220            0.66560   \n",
       "1             158.80      1956.0           0.12380            0.18660   \n",
       "2             152.50      1709.0           0.14440            0.42450   \n",
       "3              98.87       567.7           0.20980            0.86630   \n",
       "4             152.20      1575.0           0.13740            0.20500   \n",
       "..               ...         ...               ...                ...   \n",
       "564           166.10      2027.0           0.14100            0.21130   \n",
       "565           155.00      1731.0           0.11660            0.19220   \n",
       "566           126.70      1124.0           0.11390            0.30940   \n",
       "567           184.60      1821.0           0.16500            0.86810   \n",
       "568            59.16       268.6           0.08996            0.06444   \n",
       "\n",
       "     worst concavity  worst concave points  worst symmetry  \\\n",
       "0             0.7119                0.2654          0.4601   \n",
       "1             0.2416                0.1860          0.2750   \n",
       "2             0.4504                0.2430          0.3613   \n",
       "3             0.6869                0.2575          0.6638   \n",
       "4             0.4000                0.1625          0.2364   \n",
       "..               ...                   ...             ...   \n",
       "564           0.4107                0.2216          0.2060   \n",
       "565           0.3215                0.1628          0.2572   \n",
       "566           0.3403                0.1418          0.2218   \n",
       "567           0.9387                0.2650          0.4087   \n",
       "568           0.0000                0.0000          0.2871   \n",
       "\n",
       "     worst fractal dimension  \n",
       "0                    0.11890  \n",
       "1                    0.08902  \n",
       "2                    0.08758  \n",
       "3                    0.17300  \n",
       "4                    0.07678  \n",
       "..                       ...  \n",
       "564                  0.07115  \n",
       "565                  0.06637  \n",
       "566                  0.07820  \n",
       "567                  0.12400  \n",
       "568                  0.07039  \n",
       "\n",
       "[569 rows x 30 columns]"
      ]
     },
     "execution_count": 4,
     "metadata": {},
     "output_type": "execute_result"
    }
   ],
   "source": [
    "import sklearn.datasets\n",
    "data_dict = sklearn.datasets.load_breast_cancer()\n",
    "data = pd.DataFrame(data_dict['data'], columns=data_dict['feature_names'])\n",
    "data"
   ]
  },
  {
   "cell_type": "markdown",
   "metadata": {},
   "source": [
    "### The Prediction Task\n",
    "\n",
    "The prediction task for this data is to predict whether a tumor is benign or malignant (a binary decision) given characteristics of that tumor. As a classic machine learning dataset, the prediction task is captured by the column named `\"target\"`.  \n",
    "The documentation about this dataset indicates that the target variable is storing \"1\" as benign and \"0\" as malignant.  \n",
    "\n",
    "To put the data back in it's original context we will create a new column called `\"malignant\"` which will be 1 if the tumor is malignant and 0 if it is benign (reversing the definition of target).  "
   ]
  },
  {
   "cell_type": "code",
   "execution_count": 5,
   "metadata": {},
   "outputs": [],
   "source": [
    "# Target data_dict['target'] = 0 is malignant 1 is benign\n",
    "# For our purposes, a 1 will mean malignant:\n",
    "data['malignant'] = (data_dict['target'] == 0).astype(int)"
   ]
  },
  {
   "cell_type": "markdown",
   "metadata": {},
   "source": [
    "### Selecting Features\n",
    "\n",
    "What features might be a good indication of whether a tumor is benign or malignant? "
   ]
  },
  {
   "cell_type": "code",
   "execution_count": 6,
   "metadata": {
    "ExecuteTime": {
     "end_time": "2018-04-02T16:07:17.599437Z",
     "start_time": "2018-04-02T16:07:17.593220Z"
    }
   },
   "outputs": [
    {
     "data": {
      "text/plain": [
       "Index(['mean radius', 'mean texture', 'mean perimeter', 'mean area',\n",
       "       'mean smoothness', 'mean compactness', 'mean concavity',\n",
       "       'mean concave points', 'mean symmetry', 'mean fractal dimension',\n",
       "       'radius error', 'texture error', 'perimeter error', 'area error',\n",
       "       'smoothness error', 'compactness error', 'concavity error',\n",
       "       'concave points error', 'symmetry error', 'fractal dimension error',\n",
       "       'worst radius', 'worst texture', 'worst perimeter', 'worst area',\n",
       "       'worst smoothness', 'worst compactness', 'worst concavity',\n",
       "       'worst concave points', 'worst symmetry', 'worst fractal dimension',\n",
       "       'malignant'],\n",
       "      dtype='object')"
      ]
     },
     "execution_count": 6,
     "metadata": {},
     "output_type": "execute_result"
    }
   ],
   "source": [
    "data.columns"
   ]
  },
  {
   "cell_type": "code",
   "execution_count": 7,
   "metadata": {},
   "outputs": [
    {
     "data": {
      "text/html": [
       "<div>\n",
       "<style scoped>\n",
       "    .dataframe tbody tr th:only-of-type {\n",
       "        vertical-align: middle;\n",
       "    }\n",
       "\n",
       "    .dataframe tbody tr th {\n",
       "        vertical-align: top;\n",
       "    }\n",
       "\n",
       "    .dataframe thead th {\n",
       "        text-align: right;\n",
       "    }\n",
       "</style>\n",
       "<table border=\"1\" class=\"dataframe\">\n",
       "  <thead>\n",
       "    <tr style=\"text-align: right;\">\n",
       "      <th></th>\n",
       "      <th>mean radius</th>\n",
       "      <th>malignant</th>\n",
       "    </tr>\n",
       "  </thead>\n",
       "  <tbody>\n",
       "    <tr>\n",
       "      <th>0</th>\n",
       "      <td>17.99</td>\n",
       "      <td>1</td>\n",
       "    </tr>\n",
       "    <tr>\n",
       "      <th>1</th>\n",
       "      <td>20.57</td>\n",
       "      <td>1</td>\n",
       "    </tr>\n",
       "    <tr>\n",
       "      <th>2</th>\n",
       "      <td>19.69</td>\n",
       "      <td>1</td>\n",
       "    </tr>\n",
       "    <tr>\n",
       "      <th>3</th>\n",
       "      <td>11.42</td>\n",
       "      <td>1</td>\n",
       "    </tr>\n",
       "    <tr>\n",
       "      <th>4</th>\n",
       "      <td>20.29</td>\n",
       "      <td>1</td>\n",
       "    </tr>\n",
       "    <tr>\n",
       "      <th>...</th>\n",
       "      <td>...</td>\n",
       "      <td>...</td>\n",
       "    </tr>\n",
       "    <tr>\n",
       "      <th>564</th>\n",
       "      <td>21.56</td>\n",
       "      <td>1</td>\n",
       "    </tr>\n",
       "    <tr>\n",
       "      <th>565</th>\n",
       "      <td>20.13</td>\n",
       "      <td>1</td>\n",
       "    </tr>\n",
       "    <tr>\n",
       "      <th>566</th>\n",
       "      <td>16.60</td>\n",
       "      <td>1</td>\n",
       "    </tr>\n",
       "    <tr>\n",
       "      <th>567</th>\n",
       "      <td>20.60</td>\n",
       "      <td>1</td>\n",
       "    </tr>\n",
       "    <tr>\n",
       "      <th>568</th>\n",
       "      <td>7.76</td>\n",
       "      <td>0</td>\n",
       "    </tr>\n",
       "  </tbody>\n",
       "</table>\n",
       "<p>569 rows × 2 columns</p>\n",
       "</div>"
      ],
      "text/plain": [
       "     mean radius  malignant\n",
       "0          17.99          1\n",
       "1          20.57          1\n",
       "2          19.69          1\n",
       "3          11.42          1\n",
       "4          20.29          1\n",
       "..           ...        ...\n",
       "564        21.56          1\n",
       "565        20.13          1\n",
       "566        16.60          1\n",
       "567        20.60          1\n",
       "568         7.76          0\n",
       "\n",
       "[569 rows x 2 columns]"
      ]
     },
     "execution_count": 7,
     "metadata": {},
     "output_type": "execute_result"
    }
   ],
   "source": [
    "data[['mean radius', 'malignant']]"
   ]
  },
  {
   "cell_type": "markdown",
   "metadata": {},
   "source": [
    "Perhaps a good starting point is the size of the tumor.  Larger tumors are probably more likely to be malignant.  In the following, we plot whether the tumor was malignant (1 or 0) against the `\"mean radius\"`."
   ]
  },
  {
   "cell_type": "code",
   "execution_count": 8,
   "metadata": {
    "ExecuteTime": {
     "end_time": "2018-04-02T16:07:17.755067Z",
     "start_time": "2018-04-02T16:07:17.601012Z"
    }
   },
   "outputs": [
    {
     "data": {
      "image/png": "[encoded data removed]",
      "text/plain": [
       "<Figure size 900x900 with 3 Axes>"
      ]
     },
     "metadata": {},
     "output_type": "display_data"
    }
   ],
   "source": [
    "sns.jointplot(data = data, x = \"mean radius\", y = \"malignant\");\n",
    "#savefig(\"overplot\")"
   ]
  },
  {
   "cell_type": "markdown",
   "metadata": {},
   "source": [
    "This is a clear example of over-plotting.  We can improve the above plot by jittering the data:"
   ]
  },
  {
   "cell_type": "code",
   "execution_count": 9,
   "metadata": {
    "ExecuteTime": {
     "end_time": "2018-04-02T16:07:17.773256Z",
     "start_time": "2018-04-02T16:07:17.757563Z"
    }
   },
   "outputs": [
    {
     "data": {
      "image/png": "[encoded data removed]",
      "text/plain": [
       "<Figure size 900x900 with 3 Axes>"
      ]
     },
     "metadata": {},
     "output_type": "display_data"
    }
   ],
   "source": [
    "# manual to allow for jitter\n",
    "g = sns.JointGrid(data = data, x = \"mean radius\", y = \"malignant\")\n",
    "g.plot_marginals(sns.histplot)\n",
    "g.plot_joint(sns.stripplot,\n",
    "             orient='h', order=[1, 0],\n",
    "             color=sns.color_palette()[0])\n",
    "(g.ax_joint).set_xticks([10, 15, 20, 25])\n",
    "#savefig(\"jitter\")\n",
    "plt.show()"
   ]
  },
  {
   "cell_type": "markdown",
   "metadata": {},
   "source": [
    "Perhaps a better way to visualize the data is using stacked histograms."
   ]
  },
  {
   "cell_type": "code",
   "execution_count": null,
   "metadata": {},
   "outputs": [],
   "source": [
    "sns.histplot(data = data, x = \"mean radius\", hue = \"malignant\",\n",
    "             binwidth=0.5,\n",
    "             kde=True);\n",
    "plt.legend(labels=[\"Malignant\", \"Benign\"])"
   ]
  },
  {
   "cell_type": "markdown",
   "metadata": {},
   "source": [
    "**Question:** Looking at the above histograms could you describe a rule to predict whether or a cell is malignant?\n"
   ]
  },
  {
   "cell_type": "markdown",
   "metadata": {
    "tags": []
   },
   "source": [
    "### Preparing the Data Train-Test Split\n",
    "\n",
    "Always split your data into training and Testing groups.  "
   ]
  },
  {
   "cell_type": "code",
   "execution_count": 11,
   "metadata": {
    "ExecuteTime": {
     "end_time": "2018-04-02T16:07:17.924717Z",
     "start_time": "2018-04-02T16:07:17.899036Z"
    }
   },
   "outputs": [
    {
     "name": "stdout",
     "output_type": "stream",
     "text": [
      "Training Data Size:  364\n",
      "Validation Data Size:  91\n",
      "Test Data Size:  114\n"
     ]
    }
   ],
   "source": [
    "from sklearn.model_selection import train_test_split\n",
    "data_tr_val, data_te = train_test_split(data, test_size=0.20, random_state=42)\n",
    "data_tr, data_val = train_test_split(data_tr_val, test_size=0.20, random_state=101)\n",
    "data_tr.reset_index(inplace=True, drop=True)\n",
    "data_te.reset_index(inplace=True, drop=True)\n",
    "print(\"Training Data Size: \", len(data_tr))\n",
    "print(\"Validation Data Size: \", len(data_val))\n",
    "print(\"Test Data Size: \", len(data_te))\n",
    "\n",
    "# X, Y are training data\n",
    "X = data_tr[['mean radius']].to_numpy()\n",
    "Y = data_tr['malignant'].to_numpy()"
   ]
  },
  {
   "cell_type": "markdown",
   "metadata": {},
   "source": [
    "Creating the `X` and `Y` matrices for the training data:"
   ]
  },
  {
   "cell_type": "code",
   "execution_count": 10,
   "metadata": {},
   "outputs": [
    {
     "ename": "NameError",
     "evalue": "name 'data_tr' is not defined",
     "output_type": "error",
     "traceback": [
      "\u001b[0;31m---------------------------------------------------------------------------\u001b[0m",
      "\u001b[0;31mNameError\u001b[0m                                 Traceback (most recent call last)",
      "Cell \u001b[0;32mIn[10], line 1\u001b[0m\n\u001b[0;32m----> 1\u001b[0m X \u001b[38;5;241m=\u001b[39m \u001b[43mdata_tr\u001b[49m[[\u001b[38;5;124m'\u001b[39m\u001b[38;5;124mmean radius\u001b[39m\u001b[38;5;124m'\u001b[39m]]\u001b[38;5;241m.\u001b[39mto_numpy()\n\u001b[1;32m      2\u001b[0m Y \u001b[38;5;241m=\u001b[39m data_tr[\u001b[38;5;124m'\u001b[39m\u001b[38;5;124mmalignant\u001b[39m\u001b[38;5;124m'\u001b[39m]\u001b[38;5;241m.\u001b[39mto_numpy()\n",
      "\u001b[0;31mNameError\u001b[0m: name 'data_tr' is not defined"
     ]
    }
   ],
   "source": [
    "X = data_tr[['mean radius']].to_numpy()\n",
    "Y = data_tr['malignant'].to_numpy()"
   ]
  },
  {
   "cell_type": "markdown",
   "metadata": {
    "tags": []
   },
   "source": [
    "# Choosing a Model\n",
    "\n",
    "\n",
    "---\n",
    "\n",
    "<br/>\n",
    "\n",
    "\n",
    "## Why Not Use Least-Squares Linear Regression?\n",
    "\n",
    "_\"I suppose it is tempting, if the only tool you have is a hammer, to treat everything as if it were a nail.\"_ -  Abraham Maslow The Psychology of Science\n",
    "\n",
    "We would like to predict whether the tumor is malignant from the size of the tumor.  We have encoded whether a tumor is malignant or benign as 1 or 0.  Those are numbers that we could pretend are continuous and directly apply least squares regression.  Why not start there?"
   ]
  },
  {
   "cell_type": "markdown",
   "metadata": {},
   "source": [
    "In the following, we use Seaborn's simple linear regression fit. Note, we will not use any regularization since this is a really simple one-dimensional model with a comparatively large training dataset. "
   ]
  },
  {
   "cell_type": "markdown",
   "metadata": {},
   "source": [
    "How well does our model fit the data?"
   ]
  },
  {
   "cell_type": "code",
   "execution_count": null,
   "metadata": {},
   "outputs": [],
   "source": [
    "plt.figure(figsize=(6, 6))\n",
    "sns.regplot(data=data_tr, x='mean radius', y='malignant', \n",
    "              y_jitter = 0.1, \n",
    "              ci=False,\n",
    "              line_kws={'color':'green'});\n",
    "plt.ylim((-0.5, 1.5))\n",
    "#savefig(\"least_squares\")"
   ]
  },
  {
   "cell_type": "markdown",
   "metadata": {},
   "source": [
    "<br/><br/>\n",
    "\n",
    "Among various issues (such as the fit being hard to interpret), the OLS model is very sensitive to outliers.\n",
    "\n",
    "Suppose we had a training datapoint with extra-large $x$. See how least squares linear regression overfits to the large outlier point. It completely changes the classification for a large set of our datapoints."
   ]
  },
  {
   "cell_type": "code",
   "execution_count": null,
   "metadata": {},
   "outputs": [],
   "source": [
    "data_out = data_tr[['mean radius', 'malignant']].copy()\n",
    "\n",
    "# replace a datapont with a big outlier\n",
    "# (mean radius = 120, malignant = 1) \n",
    "data_out.iloc[0, :2] = [120, 1]\n",
    "data_out.head()\n",
    "\n",
    "lin_reg = LinearRegression()\n",
    "lin_reg.fit(data_tr[['mean radius']], data_tr['malignant'])\n",
    "m, b = lin_reg.coef_[0], lin_reg.intercept_\n",
    "vert_x = (0.5 - b)/m"
   ]
  },
  {
   "cell_type": "code",
   "execution_count": null,
   "metadata": {
    "scrolled": true
   },
   "outputs": [],
   "source": [
    "plt.figure(figsize=(6, 6))\n",
    "sns.regplot(data = data_out, x = \"mean radius\", y = \"malignant\", \n",
    "              y_jitter = 0.1, \n",
    "              ci=False,\n",
    "              line_kws={'color':'orange', 'label': 'w/outlier'},\n",
    "           );\n",
    "x_datapoints = np.array(plt.xlim())\n",
    "plt.plot(x_datapoints, (x_datapoints)*m + b, color='green', label='original')\n",
    "plt.ylim((-0.5, 1.5))\n",
    "plt.xlim((6.67005, 29.13095))\n",
    "plt.legend()\n",
    "#savefig(\"outlier\")"
   ]
  },
  {
   "cell_type": "markdown",
   "metadata": {},
   "source": [
    "# Graph of Averages\n",
    "\n",
    "We need a better model. Let's try and replicate the **graph of averages** for Simple Linear Regression ([textbook](https://inferentialthinking.com/chapters/08/1/Applying_a_Function_to_a_Column.html#example-prediction)), but now for Classification instead. Recall, we\n",
    "- binned the $x$ axis.\n",
    "- took the average $y$ value for each bin on the $x$ axis.\n",
    "\n",
    "We will do the same thing here, albeit with slightly different code. Here, we will formally partition the $x$-axis into 20 bins."
   ]
  },
  {
   "cell_type": "code",
   "execution_count": null,
   "metadata": {},
   "outputs": [],
   "source": [
    "# partition the training x data\n",
    "bins = pd.cut(data_tr['mean radius'], 20) # Series of bin labels\n",
    "data_tr['bin midpoint'] = [(b.left + b.right) / 2 for b in bins]\n",
    "\n",
    "# then, get the average y per bin\n",
    "avg_y_by_bin = data_tr.groupby('bin midpoint')['malignant'].mean()\n",
    "avg_y_by_bin"
   ]
  },
  {
   "cell_type": "code",
   "execution_count": null,
   "metadata": {},
   "outputs": [],
   "source": [
    "plt.figure(figsize=(6,6))\n",
    "sns.regplot(data = data, x = \"mean radius\", y = \"malignant\", \n",
    "              y_jitter = 0.1, \n",
    "              ci=False,\n",
    "              line_kws={'color':'green', 'label': 'OLS'},\n",
    "           );\n",
    "\n",
    "plt.plot(avg_y_by_bin, 'r', linewidth = 5, label='average y');\n",
    "plt.ylim((-0.5, 1.5))\n",
    "plt.legend()\n",
    "#(\"graph_of_averages\")"
   ]
  },
  {
   "cell_type": "markdown",
   "metadata": {},
   "source": [
    "It seems like our red graph of averages does a much better job at matching the data than our simple linear regression line.\n",
    "\n",
    "**Q**: **What is this graph of averages plotting?**\n",
    "\n",
    "For a given $x$, suppose its bin has the current $y$ as follows, producing the following average $y$:\n",
    "\n",
    "$$ [0, 0, 1, 1, 1, 1, 0, 0, 0, 0] \\rightarrow 0.4 $$\n",
    "\n",
    "For this bin, the average y value is:\n",
    "* A number between 0 and 1.\n",
    "* The frequency of 1’s in the bin.\n",
    "\n",
    "The average y for a bin is therefore a **probability**!!\n",
    "\n",
    "$$P(Y = 1 | x) = \\frac{\\text{# (y == 1) in bin}}{\\text{# datapoints in bin\n",
    "}}$$\n",
    "\n",
    "**Logistic regression aims to model the probability of an observation belonging to class 1, given some set of features.**"
   ]
  },
  {
   "cell_type": "markdown",
   "metadata": {},
   "source": [
    "<br/><br/>\n",
    "\n",
    "Logistic Regression is what we call a generalized linear model.\n",
    "* Non-linear transformation of a linear model.\n",
    "* So parameters are still a linear combination of x!\n",
    "\n",
    "In this notebook, we'll do Step 1 of deriving the logistic model.\n",
    "\n",
    "## 1. Transform the y-axis non-linearly until the “S curve” looks linear."
   ]
  },
  {
   "cell_type": "markdown",
   "metadata": {},
   "source": [
    "First let's rename our variables from earlier so that we simplify some notation."
   ]
  },
  {
   "cell_type": "code",
   "execution_count": null,
   "metadata": {},
   "outputs": [],
   "source": [
    "transform_df = pd.DataFrame({\"x\": avg_y_by_bin.index,\n",
    "                        \"p\": avg_y_by_bin.values})\n",
    "\n",
    "sns.lineplot(data=transform_df, x='x', y='p', color='r', linewidth = 5)\n",
    "#savefig('transform_1')"
   ]
  },
  {
   "cell_type": "markdown",
   "metadata": {},
   "source": [
    "<br/>\n",
    "\n",
    "The **odds** of an event are defined as the probability that it happens divided by the probability that it doesn't happen.\n",
    "\n",
    "If some event happens with probability $p$, then \n",
    "<br/>\n",
    "\n",
    "$$\\text{odds}(p) = \\frac{p}{1-p}$$\n",
    "\n",
    "Let's compute the odds of of our probabilities.\n",
    "\n",
    "If we plot these odds, they look exponential:"
   ]
  },
  {
   "cell_type": "code",
   "execution_count": null,
   "metadata": {},
   "outputs": [],
   "source": [
    "transform_df['odds'] = transform_df['p'] / (1 - transform_df['p'])\n",
    "\n",
    "sns.lineplot(data=transform_df,\n",
    "             x='x', y='odds', linewidth = 5)\n",
    "#savefig(\"transform_2\")"
   ]
  },
  {
   "cell_type": "markdown",
   "metadata": {},
   "source": [
    "But if we take the log of these odds:"
   ]
  },
  {
   "cell_type": "code",
   "execution_count": null,
   "metadata": {},
   "outputs": [],
   "source": [
    "transform_df['log-odds'] = np.log(transform_df['odds'])\n",
    "\n",
    "sns.lineplot(data=transform_df,\n",
    "             x='x', y='log-odds',\n",
    "             color='g', linewidth = 5)\n",
    "#savefig(\"transform_3\")"
   ]
  },
  {
   "cell_type": "markdown",
   "metadata": {},
   "source": [
    "## 2. Then, use math to invert all transformations.\n",
    "\n",
    "(This portion is left to the lecture slides.)"
   ]
  },
  {
   "cell_type": "markdown",
   "metadata": {
    "tags": []
   },
   "source": [
    "We noticed that the **log-odds grows linearly with $x$**. \n",
    "\n",
    "In the lecture slides, we formalize what this means, and how this allows us to arrive at the `logistic` (a type of sigmoid) function above.\n",
    "\n",
    "## The Logistic Function\n",
    "\n",
    "In the slides, we show that our model is\n",
    "\n",
    "$$P(Y = 1 | x) = f(x^T \\theta)$$\n",
    "\n",
    "where $$f(z) = \\frac{1}{1 + e^{-z}}$$\n",
    "\n",
    "Let's explore the shape of the logistic function"
   ]
  },
  {
   "cell_type": "code",
   "execution_count": null,
   "metadata": {},
   "outputs": [],
   "source": [
    "# the logistic function\n",
    "# known as the sigmoid function in ML\n",
    "def sigma(z):\n",
    "    return 1 / (1 + np.exp(-z))"
   ]
  },
  {
   "cell_type": "markdown",
   "metadata": {},
   "source": [
    "We'll explain how we found the optimal parameter fit by the end of lecture, but for now hopefully you're convinced that the S-curve is actually a logistic function."
   ]
  },
  {
   "cell_type": "code",
   "execution_count": null,
   "metadata": {},
   "outputs": [],
   "source": [
    "# We'll show where these values for theta comes from later in this notebook\n",
    "theta_0 = -13.8\n",
    "theta_1 = 0.937\n",
    "\n",
    "sns.lineplot(data=transform_df, x='x', y='p', color='r',\n",
    "             linewidth = 5, label='empirical (true)')\n",
    "x = transform_df['x']\n",
    "pred_p = sigma(theta_0 + theta_1 * x)\n",
    "plt.plot(x, pred_p, 'k--', linewidth = 5, label='predicted');\n",
    "plt.xlabel('x');\n",
    "plt.ylabel('P(Y = 1 | x)')\n",
    "plt.legend()\n",
    "#savefig(\"overlay\")"
   ]
  },
  {
   "cell_type": "markdown",
   "metadata": {},
   "source": [
    "Let's explore the shape of $f(\\theta_0 + \\theta_1x)$, for different values of $\\theta_0, \\theta_1$. There's quite a bit going on here, so let's use `plotly`."
   ]
  },
  {
   "cell_type": "code",
   "execution_count": null,
   "metadata": {},
   "outputs": [],
   "source": [
    "def flatten(li): \n",
    "    return [item for sub in li for item in sub]\n",
    "\n",
    "bs = [-2, -1, -0.5, 2, 1, 0.5]\n",
    "xs = np.linspace(-10, 10, 100)\n",
    "\n",
    "fig, axes = plt.subplots(2, 3, sharex=True, sharey=True, figsize=(10, 6))\n",
    "for ax, b in zip(flatten(axes), bs):\n",
    "    ys = sigma(xs * b)\n",
    "    ax.plot(xs, ys)\n",
    "    ax.set_title(r'$ \\theta_1 = $' + str(b))\n",
    "\n",
    "# add a big axes, hide frame\n",
    "fig.add_subplot(111, frameon=False)\n",
    "# hide tick and tick label of the big axes\n",
    "plt.tick_params(labelcolor='none', top=False, bottom=False,\n",
    "                left=False, right=False)\n",
    "plt.grid(False)\n",
    "plt.xlabel('$x$')\n",
    "plt.ylabel(r'$ \\frac{1}{1+\\exp(-\\theta_1 \\cdot x)} $')\n",
    "plt.tight_layout()\n",
    "#savefig('sigmoids.png')"
   ]
  },
  {
   "cell_type": "markdown",
   "metadata": {},
   "source": [
    "# Choosing a Loss Function"
   ]
  },
  {
   "cell_type": "markdown",
   "metadata": {},
   "source": [
    "## Logistic Regression with Squared Loss\n",
    "\n",
    "We've chosen a model. It's now time to choose a loss function. Why not squared loss?"
   ]
  },
  {
   "cell_type": "code",
   "execution_count": null,
   "metadata": {},
   "outputs": [],
   "source": [
    "def mse_loss_train_nobias(theta):\n",
    "    x = data_tr['mean radius']\n",
    "    y_obs = data_tr['malignant']\n",
    "    y_hat = sigma(x * theta)\n",
    "    return np.mean((y_hat - y_obs) ** 2)  "
   ]
  },
  {
   "cell_type": "code",
   "execution_count": null,
   "metadata": {},
   "outputs": [],
   "source": [
    "thetas = np.linspace(-10, 10, 100)\n",
    "plt.plot(thetas, [mse_loss_train_nobias(theta) for theta in thetas])\n",
    "plt.ylabel('MSE')\n",
    "plt.xlabel(r'$\\theta$');"
   ]
  },
  {
   "cell_type": "markdown",
   "metadata": {},
   "source": [
    "<br/><br/>\n",
    "\n",
    "What????\n",
    "\n",
    "## Toy Dataset: L2 Loss\n",
    "\n",
    "Consider this manufactured dataset."
   ]
  },
  {
   "cell_type": "code",
   "execution_count": null,
   "metadata": {},
   "outputs": [],
   "source": [
    "toy_df = pd.DataFrame({\n",
    "        \"x\": [-4, -2, -0.5, 1, 3, 5],\n",
    "        \"y\": [0, 0, 1, 0, 1, 1]\n",
    "        #\"x\": [-9.5, -5.8, -4.0, 8.7, 12.0],\n",
    "        #\"y\": [1, 0, 0, 1, 0]\n",
    "    \n",
    "})\n",
    "toy_df.sort_values(\"x\")"
   ]
  },
  {
   "cell_type": "code",
   "execution_count": null,
   "metadata": {},
   "outputs": [],
   "source": [
    "sns.scatterplot(data=toy_df, x='x', y='y', s=100)\n",
    "plt.title(\"Toy classification data\")\n"
   ]
  },
  {
   "cell_type": "markdown",
   "metadata": {},
   "source": [
    "Let's plot the loss surface for this toy data using squared loss with the model $\\hat{p} = f(\\theta x)$, where $f$ is the logistic function. We don't include an intercept term, so $\\theta$ and $x$ are both scalars.\n",
    "\n",
    "$\\hat{P}_{\\theta}(Y=1 | x) = \\frac{1}{1+e^{-\\theta x}}$\n",
    "\n",
    "$R(\\theta) = \\frac{1}{n} \\sum \\limits_{i=1}^n (y_i - \\frac{1}{1+e^{-\\theta x_i}})^2$"
   ]
  },
  {
   "cell_type": "code",
   "execution_count": null,
   "metadata": {},
   "outputs": [],
   "source": [
    "def mse_loss_toy_nobias(theta):\n",
    "    p_hat = sigma(toy_df['x'] * theta)\n",
    "    return np.mean((toy_df['y'] - p_hat)**2)\n",
    "\n",
    "thetas = np.linspace(-10, 10, 100)\n",
    "plt.plot(thetas, [mse_loss_toy_nobias(theta) for theta in thetas])\n",
    "plt.title(\"MSE on toy classification data\");\n",
    "plt.xlabel(r'$\\theta$')\n",
    "plt.ylabel(r'R($\\theta$)=MSE')\n"
   ]
  },
  {
   "cell_type": "markdown",
   "metadata": {},
   "source": [
    "This loss surface is not convex! Depending on where we start our optimization search, we'll end up with different results. Let's explore with `scipy.optimize.minimize`."
   ]
  },
  {
   "cell_type": "code",
   "execution_count": null,
   "metadata": {
    "scrolled": true,
    "tags": []
   },
   "outputs": [],
   "source": [
    "best_theta = minimize(mse_loss_toy_nobias, x0 = 0)[\"x\"][0]\n",
    "best_theta"
   ]
  },
  {
   "cell_type": "markdown",
   "metadata": {},
   "source": [
    "Remember, our 1-D model with no intercept is $\\hat{p} = f(\\theta x)$."
   ]
  },
  {
   "cell_type": "code",
   "execution_count": null,
   "metadata": {},
   "outputs": [],
   "source": [
    "sns.scatterplot(data=toy_df, x='x', y='y', s=100, label='y')\n",
    "xs = np.linspace(-10, 10, 100)\n",
    "plt.plot(xs, sigma(xs * best_theta), color='orange', label=r'$\\frac{1}{1+e^{-x \\theta}}$')\n",
    "plt.xlabel('x')\n",
    "plt.legend()\n",
    "plt.title(r'$\\hat{\\theta} = $' + f\"{best_theta:.4}\")\n"
   ]
  },
  {
   "cell_type": "markdown",
   "metadata": {},
   "source": [
    "<br/>\n",
    "Let's try another starting point for minimizing theta."
   ]
  },
  {
   "cell_type": "code",
   "execution_count": null,
   "metadata": {},
   "outputs": [],
   "source": [
    "best_theta_2 = minimize(mse_loss_toy_nobias, x0 = -5)[\"x\"][0]\n",
    "best_theta_2"
   ]
  },
  {
   "cell_type": "markdown",
   "metadata": {},
   "source": [
    "Uhhh, looks like the optimizer got stuck."
   ]
  },
  {
   "cell_type": "code",
   "execution_count": null,
   "metadata": {},
   "outputs": [],
   "source": [
    "sns.scatterplot(data=toy_df, x='x', y='y', s=100, label='y')\n",
    "xs = np.linspace(-10, 10, 100)\n",
    "plt.plot(xs, sigma(xs * best_theta_2), color='orange', label=r'$\\frac{1}{1+e^{-x \\theta}}$')\n",
    "plt.xlabel('x')\n",
    "plt.legend()\n",
    "plt.title(r'$\\hat{\\theta} = $' + f\"{best_theta_2:.4}\")\n"
   ]
  },
  {
   "cell_type": "markdown",
   "metadata": {},
   "source": [
    "Not only is it not convex, leading to the weird issues above, but squared loss just isn't well-suited for a probability task. Since $\\hat{p}_i$ is between 0 and 1, and $y_i$ is either 0 or 1, the squared loss for a single point $(y_i - \\hat{p}_i)^2$ is bounded between 0 and 1.\n",
    "\n",
    "What this means in practice: even if our prediction is terrible, the squared loss is never that large."
   ]
  },
  {
   "cell_type": "code",
   "execution_count": null,
   "metadata": {},
   "outputs": [],
   "source": [
    "p_hat = np.arange(0.001, 0.999, 0.01)\n",
    "loss = (1 - p_hat)**2\n",
    "plt.plot(p_hat, loss, color='k')\n",
    "plt.xlabel(r'$\\frac{1}{1+e^{-x \\theta}}$')\n",
    "plt.ylabel(r'$(1 - \\hat{y})^2$')\n",
    "plt.title('Squared Loss for One Individual');\n"
   ]
  },
  {
   "cell_type": "markdown",
   "metadata": {},
   "source": [
    "## Motivating Cross-Entropy Loss"
   ]
  },
  {
   "cell_type": "markdown",
   "metadata": {},
   "source": [
    "Let's look at a new loss, called the log loss, for when our true observation is 1."
   ]
  },
  {
   "cell_type": "code",
   "execution_count": null,
   "metadata": {},
   "outputs": [],
   "source": [
    "p_hat = np.arange(0.001, 0.999, 0.01)\n",
    "loss = -np.log(p_hat)\n",
    "plt.plot(p_hat, loss, color='k')\n",
    "plt.xlabel('$p$: Probability that y is 1')\n",
    "plt.ylabel('$-\\log(p)$')\n",
    "plt.title('Cross-Entropy Loss for one observation when $y = 1$');\n",
    "#savefig(\"entropy_y1\")"
   ]
  },
  {
   "cell_type": "markdown",
   "metadata": {},
   "source": [
    "We can see that this penalizes wrong predictions far more than squared loss does.\n",
    "\n",
    "How to read this plot: Suppose the observation we're trying to predict is actually in class 1. If our model gives an 80% chance of being in class 1, the loss is relatively small (around 0.25). \n",
    "\n",
    "If we give only a 40% of being in class 1, the loss is larger (around 1).\n",
    "\n",
    "If we give only a 5% chance of being in class 1, the loss is 3.\n",
    "\n",
    "And if we give a 0% chance of being in class 1, the loss is infinite.\n",
    "\n",
    "What about when the true observation is 0?"
   ]
  },
  {
   "cell_type": "code",
   "execution_count": null,
   "metadata": {},
   "outputs": [],
   "source": [
    "p_hat = np.arange(0.001, 0.999, 0.01)\n",
    "loss = -np.log(1 - p_hat)\n",
    "plt.plot(p_hat, loss, color='k')\n",
    "plt.xlabel('$p$: Probability that y is 1')\n",
    "plt.ylabel('$-\\log(1 - p)$')\n",
    "plt.title('Cross-Entropy Loss for one observation when $y = 0$');\n",
    "#savefig(\"entropy_y0\")"
   ]
  },
  {
   "cell_type": "markdown",
   "metadata": {},
   "source": [
    "Much of the formal derivation is in the slides. \n",
    "\n",
    "\n",
    "\n",
    "\n",
    "But the equation for cross-entropy loss for a single observation is\n",
    "\n",
    "$$\\textrm{loss} = -y \\log(\\hat{y}) - (1-y)\\log(1-\\hat{y})$$\n",
    "\n",
    "\n",
    "$$\\hat{y} = \\frac{1}{1+e^{-x_i^T \\theta}}$$\n",
    "\n",
    "where $$x_i^T \\theta = \\theta_0+\\theta_1x_{i1}+\\theta_2x_{i2}+...\\theta_px_{ip} $$\n",
    "\n",
    "\n",
    "\n",
    "For us, since $\\hat{y} = \\frac{1}{1+e^{-x^T \\theta}}$, the expression for average cross-entropy loss is\n",
    "\n",
    "$$R(\\theta) = -\\frac{1}{n} \\sum_{i = 1}^n \\big(y_i \\log \\left(\\frac{1}{1+e^{-x_i^T {\\theta}}}\\right) + (1 - y_i) \\log \\left(1 - \\frac{1}{1+e^{-x_i^T \\theta}}\\right) \\big)$$\n",
    "\n",
    "where $x_i$ is the $i$th feature vector\n",
    "\n",
    "Let's look at the loss surface for average cross-entropy loss, on our toy data from before."
   ]
  },
  {
   "cell_type": "code",
   "execution_count": null,
   "metadata": {},
   "outputs": [],
   "source": [
    "def cross_entropy(y, phat):\n",
    "    return - y * np.log(phat) - (1 - y) * np.log(1 - phat)"
   ]
  },
  {
   "cell_type": "code",
   "execution_count": null,
   "metadata": {},
   "outputs": [],
   "source": [
    "def mce_loss_toy_nobias(theta):\n",
    "    p_hat = sigma(toy_df['x'] * theta)\n",
    "    return np.mean(cross_entropy(toy_df['y'], p_hat))"
   ]
  },
  {
   "cell_type": "code",
   "execution_count": null,
   "metadata": {},
   "outputs": [],
   "source": [
    "thetas = np.linspace(-4, 4, 100)\n",
    "plt.plot(thetas, [mce_loss_toy_nobias(theta) for theta in thetas], color = 'green')\n",
    "plt.ylabel(r'Mean Cross-Entropy($\\theta$)')\n",
    "plt.xlabel(r'$\\theta$');\n",
    "#savefig(\"toy_mce\")"
   ]
  },
  {
   "cell_type": "markdown",
   "metadata": {
    "tags": []
   },
   "source": [
    "---\n",
    "\n",
    "<br/><br/><br/>\n",
    "\n",
    "# Fitting a Logistic Regression model with sklearn"
   ]
  },
  {
   "cell_type": "markdown",
   "metadata": {},
   "source": [
    "Recall, we'd like to fit a logistic regression model to use the mean radius tumor size to predict whether or not the tumor is malignant.  Here is the training data:"
   ]
  },
  {
   "cell_type": "code",
   "execution_count": 49,
   "metadata": {},
   "outputs": [],
   "source": [
    "X = data_tr[['mean radius']]\n",
    "Y = data_tr['malignant']\n"
   ]
  },
  {
   "cell_type": "code",
   "execution_count": 51,
   "metadata": {},
   "outputs": [
    {
     "data": {
      "text/plain": [
       "0    0\n",
       "1    1\n",
       "2    0\n",
       "3    1\n",
       "4    1\n",
       "Name: malignant, dtype: int64"
      ]
     },
     "execution_count": 51,
     "metadata": {},
     "output_type": "execute_result"
    }
   ],
   "source": [
    "Y.head()"
   ]
  },
  {
   "cell_type": "markdown",
   "metadata": {},
   "source": [
    "Let's visualize the training data.\n",
    "\n",
    "Tip: The seaborn function `stripplot` auto-plots jittered data by class."
   ]
  },
  {
   "cell_type": "code",
   "execution_count": 52,
   "metadata": {},
   "outputs": [
    {
     "data": {
      "text/plain": [
       "Text(0, 0.5, 'y: class')"
      ]
     },
     "execution_count": 52,
     "metadata": {},
     "output_type": "execute_result"
    },
    {
     "data": {
      "image/png": "[encoded data removed]",
      "text/plain": [
       "<Figure size 525x525 with 1 Axes>"
      ]
     },
     "metadata": {},
     "output_type": "display_data"
    }
   ],
   "source": [
    "plt.figure(figsize=(3.5,3.5))\n",
    "sns.stripplot(x=X.squeeze(), y=Y, \n",
    "              jitter = 0.1, orient='h');\n",
    "plt.gca().invert_yaxis()\n",
    "plt.xlabel('x: mean radius')\n",
    "plt.ylabel('y: class')"
   ]
  },
  {
   "cell_type": "markdown",
   "metadata": {},
   "source": [
    "\n",
    "\n",
    "### Fit\n",
    "\n",
    "We'll fit a model with the mean radius feature (denoted as $x_1$) and an intercept. So our model is:\n",
    "\n",
    "$$\\hat{P}_{\\theta} (Y = 1 | x) = \\frac{1}{1+e^{-x^T \\theta}} =\\frac{1}{1+e^{-(\\theta_0+\\theta_1x_{1})}} $$\n",
    "\n",
    "\n",
    "### sklearn\n",
    "The `linear_model.LogisticRegression` model ([documentation](https://scikit-learn.org/stable/modules/generated/sklearn.linear_model.LogisticRegression.html)) is what we want to use here. In order to recreate our specific model, there are a few parameters we need to set:\n",
    "- `penalty = 'None'`: by default, `LogisticRegression` uses L2 regularization. This is generally a good idea (which we'll discuss in the video on Logistic regression and regularizatino), but is not needed in this case since our data is not linearly separable).\n",
    "- `fit_intercept = True`: (this is the default) Our model has an intercept term.\n",
    "\n",
    "<br/><br/>\n"
   ]
  },
  {
   "cell_type": "code",
   "execution_count": 54,
   "metadata": {},
   "outputs": [
    {
     "data": {
      "text/html": [
       "<style>#sk-container-id-2 {color: black;background-color: white;}#sk-container-id-2 pre{padding: 0;}#sk-container-id-2 div.sk-toggleable {background-color: white;}#sk-container-id-2 label.sk-toggleable__label {cursor: pointer;display: block;width: 100%;margin-bottom: 0;padding: 0.3em;box-sizing: border-box;text-align: center;}#sk-container-id-2 label.sk-toggleable__label-arrow:before {content: \"▸\";float: left;margin-right: 0.25em;color: #696969;}#sk-container-id-2 label.sk-toggleable__label-arrow:hover:before {color: black;}#sk-container-id-2 div.sk-estimator:hover label.sk-toggleable__label-arrow:before {color: black;}#sk-container-id-2 div.sk-toggleable__content {max-height: 0;max-width: 0;overflow: hidden;text-align: left;background-color: #f0f8ff;}#sk-container-id-2 div.sk-toggleable__content pre {margin: 0.2em;color: black;border-radius: 0.25em;background-color: #f0f8ff;}#sk-container-id-2 input.sk-toggleable__control:checked~div.sk-toggleable__content {max-height: 200px;max-width: 100%;overflow: auto;}#sk-container-id-2 input.sk-toggleable__control:checked~label.sk-toggleable__label-arrow:before {content: \"▾\";}#sk-container-id-2 div.sk-estimator input.sk-toggleable__control:checked~label.sk-toggleable__label {background-color: #d4ebff;}#sk-container-id-2 div.sk-label input.sk-toggleable__control:checked~label.sk-toggleable__label {background-color: #d4ebff;}#sk-container-id-2 input.sk-hidden--visually {border: 0;clip: rect(1px 1px 1px 1px);clip: rect(1px, 1px, 1px, 1px);height: 1px;margin: -1px;overflow: hidden;padding: 0;position: absolute;width: 1px;}#sk-container-id-2 div.sk-estimator {font-family: monospace;background-color: #f0f8ff;border: 1px dotted black;border-radius: 0.25em;box-sizing: border-box;margin-bottom: 0.5em;}#sk-container-id-2 div.sk-estimator:hover {background-color: #d4ebff;}#sk-container-id-2 div.sk-parallel-item::after {content: \"\";width: 100%;border-bottom: 1px solid gray;flex-grow: 1;}#sk-container-id-2 div.sk-label:hover label.sk-toggleable__label {background-color: #d4ebff;}#sk-container-id-2 div.sk-serial::before {content: \"\";position: absolute;border-left: 1px solid gray;box-sizing: border-box;top: 0;bottom: 0;left: 50%;z-index: 0;}#sk-container-id-2 div.sk-serial {display: flex;flex-direction: column;align-items: center;background-color: white;padding-right: 0.2em;padding-left: 0.2em;position: relative;}#sk-container-id-2 div.sk-item {position: relative;z-index: 1;}#sk-container-id-2 div.sk-parallel {display: flex;align-items: stretch;justify-content: center;background-color: white;position: relative;}#sk-container-id-2 div.sk-item::before, #sk-container-id-2 div.sk-parallel-item::before {content: \"\";position: absolute;border-left: 1px solid gray;box-sizing: border-box;top: 0;bottom: 0;left: 50%;z-index: -1;}#sk-container-id-2 div.sk-parallel-item {display: flex;flex-direction: column;z-index: 1;position: relative;background-color: white;}#sk-container-id-2 div.sk-parallel-item:first-child::after {align-self: flex-end;width: 50%;}#sk-container-id-2 div.sk-parallel-item:last-child::after {align-self: flex-start;width: 50%;}#sk-container-id-2 div.sk-parallel-item:only-child::after {width: 0;}#sk-container-id-2 div.sk-dashed-wrapped {border: 1px dashed gray;margin: 0 0.4em 0.5em 0.4em;box-sizing: border-box;padding-bottom: 0.4em;background-color: white;}#sk-container-id-2 div.sk-label label {font-family: monospace;font-weight: bold;display: inline-block;line-height: 1.2em;}#sk-container-id-2 div.sk-label-container {text-align: center;}#sk-container-id-2 div.sk-container {/* jupyter's `normalize.less` sets `[hidden] { display: none; }` but bootstrap.min.css set `[hidden] { display: none !important; }` so we also need the `!important` here to be able to override the default hidden behavior on the sphinx rendered scikit-learn.org. See: https://github.com/scikit-learn/scikit-learn/issues/21755 */display: inline-block !important;position: relative;}#sk-container-id-2 div.sk-text-repr-fallback {display: none;}</style><div id=\"sk-container-id-2\" class=\"sk-top-container\"><div class=\"sk-text-repr-fallback\"><pre>LogisticRegression(penalty=None)</pre><b>In a Jupyter environment, please rerun this cell to show the HTML representation or trust the notebook. <br />On GitHub, the HTML representation is unable to render, please try loading this page with nbviewer.org.</b></div><div class=\"sk-container\" hidden><div class=\"sk-item\"><div class=\"sk-estimator sk-toggleable\"><input class=\"sk-toggleable__control sk-hidden--visually\" id=\"sk-estimator-id-2\" type=\"checkbox\" checked><label for=\"sk-estimator-id-2\" class=\"sk-toggleable__label sk-toggleable__label-arrow\">LogisticRegression</label><div class=\"sk-toggleable__content\"><pre>LogisticRegression(penalty=None)</pre></div></div></div></div></div>"
      ],
      "text/plain": [
       "LogisticRegression(penalty=None)"
      ]
     },
     "execution_count": 54,
     "metadata": {},
     "output_type": "execute_result"
    }
   ],
   "source": [
    "from sklearn.linear_model import LogisticRegression\n",
    "\n",
    "#initialize the model\n",
    "model = LogisticRegression(penalty = None)\n",
    "\n",
    "# fit the model\n",
    "model.fit(X,Y) # X, Y are training data"
   ]
  },
  {
   "cell_type": "markdown",
   "metadata": {},
   "source": [
    "<br/>\n",
    "\n",
    "Optimal $\\theta_0, \\theta_1$ from fitting our model:"
   ]
  },
  {
   "cell_type": "code",
   "execution_count": 55,
   "metadata": {},
   "outputs": [
    {
     "data": {
      "text/plain": [
       "(array([-15.12623106]), array([[1.0215749]]))"
      ]
     },
     "execution_count": 55,
     "metadata": {},
     "output_type": "execute_result"
    }
   ],
   "source": [
    "model.intercept_, model.coef_"
   ]
  },
  {
   "cell_type": "markdown",
   "metadata": {},
   "source": [
    "<br/><br/>\n",
    "\n",
    "### Prediction\n",
    "\n",
    "<br/>\n",
    "\n",
    "**Predict probabilities**: `scikit-learn` has a built-in `.predict_proba` method that allows us to get the predicted probabilities under our model. "
   ]
  },
  {
   "cell_type": "code",
   "execution_count": 56,
   "metadata": {},
   "outputs": [
    {
     "name": "stderr",
     "output_type": "stream",
     "text": [
      "/opt/conda/lib/python3.10/site-packages/sklearn/base.py:439: UserWarning:\n",
      "\n",
      "X does not have valid feature names, but LogisticRegression was fitted with feature names\n",
      "\n"
     ]
    },
    {
     "data": {
      "text/plain": [
       "array([[0.45081151, 0.54918849]])"
      ]
     },
     "execution_count": 56,
     "metadata": {},
     "output_type": "execute_result"
    }
   ],
   "source": [
    "# Predict probability for a mean radius of 15:\n",
    "\n",
    "model.predict_proba([[15]])\n"
   ]
  },
  {
   "cell_type": "markdown",
   "metadata": {},
   "source": [
    "To interpret this output, you can use the `.classes_` attribute, which stores our class labels."
   ]
  },
  {
   "cell_type": "code",
   "execution_count": 57,
   "metadata": {},
   "outputs": [
    {
     "data": {
      "text/plain": [
       "array([0, 1])"
      ]
     },
     "execution_count": 57,
     "metadata": {},
     "output_type": "execute_result"
    }
   ],
   "source": [
    "model.classes_"
   ]
  },
  {
   "cell_type": "code",
   "execution_count": 59,
   "metadata": {},
   "outputs": [
    {
     "data": {
      "text/html": [
       "<div>\n",
       "<style scoped>\n",
       "    .dataframe tbody tr th:only-of-type {\n",
       "        vertical-align: middle;\n",
       "    }\n",
       "\n",
       "    .dataframe tbody tr th {\n",
       "        vertical-align: top;\n",
       "    }\n",
       "\n",
       "    .dataframe thead th {\n",
       "        text-align: right;\n",
       "    }\n",
       "</style>\n",
       "<table border=\"1\" class=\"dataframe\">\n",
       "  <thead>\n",
       "    <tr style=\"text-align: right;\">\n",
       "      <th></th>\n",
       "      <th>mean radius</th>\n",
       "    </tr>\n",
       "  </thead>\n",
       "  <tbody>\n",
       "    <tr>\n",
       "      <th>0</th>\n",
       "      <td>11.800</td>\n",
       "    </tr>\n",
       "    <tr>\n",
       "      <th>1</th>\n",
       "      <td>17.020</td>\n",
       "    </tr>\n",
       "    <tr>\n",
       "      <th>2</th>\n",
       "      <td>9.683</td>\n",
       "    </tr>\n",
       "    <tr>\n",
       "      <th>3</th>\n",
       "      <td>10.950</td>\n",
       "    </tr>\n",
       "    <tr>\n",
       "      <th>4</th>\n",
       "      <td>19.440</td>\n",
       "    </tr>\n",
       "  </tbody>\n",
       "</table>\n",
       "</div>"
      ],
      "text/plain": [
       "   mean radius\n",
       "0       11.800\n",
       "1       17.020\n",
       "2        9.683\n",
       "3       10.950\n",
       "4       19.440"
      ]
     },
     "execution_count": 59,
     "metadata": {},
     "output_type": "execute_result"
    }
   ],
   "source": [
    "X.head()"
   ]
  },
  {
   "cell_type": "code",
   "execution_count": 58,
   "metadata": {},
   "outputs": [
    {
     "data": {
      "text/plain": [
       "array([4.42920459e-02, 9.05592910e-01, 5.30217794e-03, 1.90774606e-02,\n",
       "       9.91278333e-01, 1.79259176e-03, 9.95968519e-01, 1.83276108e-02,\n",
       "       6.96870152e-02, 9.88769092e-01, 1.75640172e-03, 1.50155221e-01,\n",
       "       4.05591599e-02, 9.70311678e-01, 4.29780246e-01, 7.93302580e-03,\n",
       "       9.97424351e-01, 3.63877700e-01, 8.33705756e-02, 9.89641314e-01,\n",
       "       2.73257709e-02, 5.21666565e-03, 7.23836724e-01, 5.59104725e-02,\n",
       "       2.08762847e-02, 5.64521584e-02, 3.64050949e-02, 6.39570973e-02,\n",
       "       9.52876944e-01, 5.96641728e-01, 6.03994952e-01, 6.45714105e-02,\n",
       "       2.51657454e-01, 9.96321349e-01, 6.39570973e-02, 3.53451394e-02,\n",
       "       2.27479802e-01, 1.02232513e-01, 4.49913102e-01, 4.83511766e-02,\n",
       "       4.05591599e-02, 1.64115507e-02, 5.79319717e-01, 7.94419184e-01,\n",
       "       5.69987755e-02, 5.36513299e-01, 1.54108147e-01, 9.99935382e-01,\n",
       "       5.64313475e-01, 9.94474791e-01, 5.12509081e-02, 5.32746694e-02,\n",
       "       8.21338118e-01, 9.97233949e-01, 9.42252468e-01, 9.62741375e-01,\n",
       "       9.99511773e-01, 5.02665017e-02, 7.30721568e-02, 8.28710890e-01,\n",
       "       1.72226062e-01, 3.07798960e-02, 8.25932043e-02, 9.72848744e-01,\n",
       "       2.28407716e-02, 4.74196832e-02, 9.77305769e-01, 3.63877700e-01,\n",
       "       1.40021652e-01, 9.99169808e-01, 1.14190318e-02, 9.88423613e-01,\n",
       "       9.76381563e-01, 3.47640221e-03, 8.33705756e-02, 5.39052647e-01,\n",
       "       1.72226062e-01, 1.22551412e-02, 1.06044388e-01, 6.58165466e-02,\n",
       "       1.25900849e-01, 2.73404265e-01, 6.45030047e-03, 9.92198121e-01,\n",
       "       6.94353734e-01, 3.61516357e-01, 3.29863192e-02, 1.76639250e-01,\n",
       "       4.42920459e-02, 7.58886579e-02, 7.96082575e-01, 9.99813057e-01,\n",
       "       1.23669499e-01, 9.04715894e-01, 9.83694430e-01, 5.07564460e-02,\n",
       "       2.60004318e-02, 2.36580716e-01, 1.37579428e-01, 9.97261985e-01,\n",
       "       9.97059615e-01, 6.60902099e-01, 7.80660673e-02, 1.10984944e-01,\n",
       "       7.17002921e-02, 3.13952969e-02, 1.30197269e-02, 1.62268889e-01,\n",
       "       1.36371798e-01, 6.16145042e-01, 6.27447760e-02, 1.30466981e-01,\n",
       "       2.77481807e-01, 1.75461149e-03, 7.44681641e-02, 2.75438359e-01,\n",
       "       3.20225954e-02, 5.75503626e-02, 4.71244875e-03, 9.76387845e-02,\n",
       "       2.35348858e-02, 9.96937349e-01, 6.60902099e-01, 3.74956016e-02,\n",
       "       2.60004318e-02, 9.70311678e-01, 3.71000798e-01, 4.65052582e-02,\n",
       "       7.69543077e-03, 6.67736233e-01, 6.40002528e-01, 7.05085136e-01,\n",
       "       2.15158479e-01, 2.67358513e-01, 1.98409558e-01, 2.12980279e-02,\n",
       "       4.88055880e-01, 9.38236090e-01, 8.72567587e-01, 8.67954300e-01,\n",
       "       1.01149118e-02, 9.98776511e-01, 6.83740157e-02, 3.93831997e-02,\n",
       "       2.59430821e-01, 5.26459608e-03, 7.44681641e-02, 6.18558288e-01,\n",
       "       9.98372016e-01, 2.70555529e-02, 9.92038359e-01, 1.01298703e-01,\n",
       "       2.57472934e-01, 1.77842776e-02, 1.22551412e-02, 9.96968383e-01,\n",
       "       4.83511766e-02, 3.33137427e-02, 1.35173106e-01, 4.05591599e-02,\n",
       "       9.92508163e-01, 1.58145772e-01, 3.00563915e-01, 9.88655080e-01,\n",
       "       9.80854502e-01, 1.42500065e-01, 4.09877021e-01, 2.01766252e-03,\n",
       "       1.10984944e-01, 2.44040250e-01, 1.36371798e-01, 2.08338467e-01,\n",
       "       9.96503891e-01, 9.99956170e-01, 5.36513299e-01, 9.93161758e-01,\n",
       "       1.70869941e-03, 6.39570973e-02, 2.10028407e-01, 9.90917861e-01,\n",
       "       4.00030798e-01, 9.96207297e-01, 9.87322929e-01, 5.81807343e-01,\n",
       "       2.90029896e-02, 9.99824170e-01, 8.12165866e-01, 4.25941583e-02,\n",
       "       4.42340392e-01, 6.63622753e-03, 2.12980279e-02, 2.45929823e-01,\n",
       "       7.19733906e-01, 2.08762847e-02, 1.63662390e-01, 9.27372701e-01,\n",
       "       9.49559948e-01, 9.99996890e-01, 9.51926656e-03, 8.98324983e-02,\n",
       "       8.61989372e-01, 9.15565258e-01, 3.82996929e-01, 7.23836724e-01,\n",
       "       9.08180708e-01, 1.46286154e-01, 9.63467372e-01, 4.25941583e-02,\n",
       "       2.29280040e-01, 3.71286554e-02, 2.00127304e-03, 1.74308744e-02,\n",
       "       2.23909323e-01, 4.29780246e-01, 2.87166757e-02, 5.23790750e-01,\n",
       "       9.98484198e-01, 9.93500063e-01, 3.09223717e-01, 9.88539924e-01,\n",
       "       3.71419375e-03, 2.81522542e-02, 3.01761822e-02, 4.47386108e-01,\n",
       "       8.13719336e-01, 9.67424136e-02, 9.99998747e-01, 9.92038359e-01,\n",
       "       4.02485126e-01, 8.49381047e-01, 9.59696368e-01, 1.19321861e-03,\n",
       "       1.11996917e-01, 1.10984944e-01, 8.98324983e-02, 2.65228890e-02,\n",
       "       9.96395478e-01, 8.41545925e-02, 2.06658567e-01, 1.49915441e-02,\n",
       "       9.95885645e-01, 4.44861829e-01, 9.57257589e-01, 9.94007093e-01,\n",
       "       9.99997465e-01, 2.64599927e-03, 1.55444571e-01, 1.30197269e-02,\n",
       "       9.93884146e-01, 1.18896497e-02, 6.32911554e-01, 8.88656447e-01,\n",
       "       4.93161908e-01, 2.36580716e-01, 2.51457000e-03, 5.50530246e-03,\n",
       "       2.23909323e-01, 9.99135211e-01, 4.22286264e-01, 5.56716987e-03,\n",
       "       5.37922734e-02, 2.45929823e-01, 9.82854575e-01, 1.88840964e-01,\n",
       "       3.13604900e-01, 3.66245619e-01, 3.29199184e-01, 5.46658021e-01,\n",
       "       3.99655033e-03, 1.91990576e-01, 2.32910458e-01, 6.70839710e-02,\n",
       "       2.78740976e-02, 1.41128189e-02, 9.51926656e-03, 1.56790436e-01,\n",
       "       3.17074457e-02, 4.42001123e-03, 1.87281087e-01, 9.61247563e-01,\n",
       "       4.67667290e-01, 6.51912132e-02, 2.73404265e-01, 4.90305056e-03,\n",
       "       6.58165466e-02, 5.62972860e-03, 4.98269363e-01, 3.97715074e-02,\n",
       "       9.79871363e-01, 8.03005226e-02, 6.26318819e-03, 9.92198121e-01,\n",
       "       7.58886579e-02, 1.91990576e-01, 2.53586222e-01, 9.26681633e-01,\n",
       "       3.15808086e-01, 9.99862396e-01, 1.89213577e-03, 3.61516357e-01,\n",
       "       2.83667842e-01, 1.15081333e-01, 9.86395973e-01, 1.94635863e-02,\n",
       "       2.49738449e-01, 1.08984989e-01, 2.72534467e-03, 2.18628725e-01,\n",
       "       7.94419184e-01, 9.35209020e-01, 1.96789817e-01, 1.29312420e-01,\n",
       "       6.23367160e-01, 2.17281021e-02, 1.22566613e-01, 3.07798960e-02,\n",
       "       6.64474521e-02, 5.41589970e-01, 1.42556650e-02, 2.62603962e-02,\n",
       "       9.30738774e-01, 2.49854020e-02, 1.67900649e-01, 8.10582218e-02,\n",
       "       1.20102676e-02, 3.26620050e-02, 5.16141306e-01, 8.01012578e-01,\n",
       "       9.88993728e-01, 3.54472735e-01, 2.77481807e-01, 9.32300362e-02,\n",
       "       9.10704566e-01, 4.12461141e-03, 5.13589632e-01, 9.98063850e-01,\n",
       "       4.70211366e-01, 3.43149462e-02, 7.43784236e-01, 5.07564460e-02,\n",
       "       4.02485126e-01, 4.24810698e-03, 5.53736794e-02, 9.15170899e-02,\n",
       "       3.47491658e-01, 1.42500065e-01, 4.32285587e-01, 1.21472199e-01,\n",
       "       9.64179749e-01, 9.99827725e-01, 2.33666980e-03, 9.92508163e-01,\n",
       "       1.17178447e-01, 2.36060634e-03, 9.80661716e-01, 2.75986112e-02,\n",
       "       5.02665017e-02, 1.19308625e-01, 6.96115557e-04, 5.49188491e-01,\n",
       "       1.22566613e-01, 6.69998849e-01, 9.98388536e-01, 9.72848744e-01])"
      ]
     },
     "execution_count": 58,
     "metadata": {},
     "output_type": "execute_result"
    }
   ],
   "source": [
    "model.predict_proba(X)[:,1]"
   ]
  },
  {
   "cell_type": "code",
   "execution_count": null,
   "metadata": {},
   "outputs": [],
   "source": []
  },
  {
   "cell_type": "markdown",
   "metadata": {},
   "source": [
    "<br/><br/>\n",
    "\n",
    "Let's visualize these probabilities on our training dataset, `X` and `y`."
   ]
  },
  {
   "cell_type": "code",
   "execution_count": 60,
   "metadata": {},
   "outputs": [
    {
     "data": {
      "text/plain": [
       "Text(0, 0.5, 'y: class')"
      ]
     },
     "execution_count": 60,
     "metadata": {},
     "output_type": "execute_result"
    },
    {
     "data": {
      "image/png": "[encoded data removed]",
      "text/plain": [
       "<Figure size 900x900 with 1 Axes>"
      ]
     },
     "metadata": {},
     "output_type": "display_data"
    }
   ],
   "source": [
    "plt.figure(figsize=(6,6))\n",
    "sns.stripplot(x=X.squeeze(), y=Y, \n",
    "              jitter = 0.1, orient='h');\n",
    "sns.lineplot(x= X.squeeze(), y=model.predict_proba(X)[:,1],\n",
    "             color='green', linewidth=5, label=r'$\\hat{P}_{\\theta}(Y = 1 | x)$')\n",
    "plt.gca().invert_yaxis()\n",
    "plt.xlabel('x: mean radius')\n",
    "plt.ylabel('y: class')\n"
   ]
  },
  {
   "cell_type": "markdown",
   "metadata": {},
   "source": [
    "<br/>\n",
    "\n",
    "**Predict class labels**: By comparison, what does `.predict()` do?\n",
    "\n",
    "It predicts 1 if the computed probability for class 1 is greater than 0.5, and 0 otherwise.\n",
    "\n",
    "$$\\text{classify}(x) = \\begin{cases} 1, & P(Y = 1 | x) \\geq 0.5 \\\\ 0, & \\text{otherwise} \\end{cases}$$\n",
    "\n",
    "This is what we call **classification**.\n",
    "\n",
    "Edit the above cell to see sklearn's prediction for a mean radius of `15`."
   ]
  },
  {
   "cell_type": "code",
   "execution_count": 61,
   "metadata": {},
   "outputs": [
    {
     "name": "stderr",
     "output_type": "stream",
     "text": [
      "/opt/conda/lib/python3.10/site-packages/sklearn/base.py:439: UserWarning:\n",
      "\n",
      "X does not have valid feature names, but LogisticRegression was fitted with feature names\n",
      "\n"
     ]
    },
    {
     "data": {
      "text/plain": [
       "array([1])"
      ]
     },
     "execution_count": 61,
     "metadata": {},
     "output_type": "execute_result"
    }
   ],
   "source": [
    "model.predict([[15]])"
   ]
  },
  {
   "cell_type": "markdown",
   "metadata": {},
   "source": [
    "We can visualize this in the plot below:"
   ]
  },
  {
   "cell_type": "code",
   "execution_count": 62,
   "metadata": {},
   "outputs": [
    {
     "data": {
      "image/png": "[encoded data removed]",
      "text/plain": [
       "<Figure size 960x720 with 1 Axes>"
      ]
     },
     "metadata": {},
     "output_type": "display_data"
    }
   ],
   "source": [
    "preds = (model.predict_proba(X)[:,1] >= 0.5)\n",
    "    \n",
    "fig = plt.figure()\n",
    "color_palette = {False:'red', True:'green'}\n",
    "fig = sns.stripplot(x=X.squeeze(), y=preds, \n",
    "              jitter = 0.1, orient='h', hue= preds==Y, \n",
    "              palette = color_palette);\n",
    "\n",
    "plt.gca().invert_yaxis()\n",
    "plt.xlabel('x: mean radius')\n",
    "plt.ylabel(r'$\\hat{y}$: predicted class')\n",
    "plt.xlim((7, 30))\n",
    "plt.axhline(y=0.50, label='T = {}'.format(0.50))\n",
    "\n",
    "f = sns.lineplot(x= X.squeeze(), y=model.predict_proba(X)[:,1],\n",
    "                 color='blue', linewidth=3)\n",
    "plt.setp(f.get_legend().get_texts(), fontsize='10');\n",
    "plt.title(\"Predicted classes if T = {}\".format(0.50))\n",
    "\n",
    "plt.legend().remove()"
   ]
  },
  {
   "cell_type": "markdown",
   "metadata": {},
   "source": [
    " The red datapoints represent data that was incorrectly classified by our model."
   ]
  },
  {
   "cell_type": "markdown",
   "metadata": {},
   "source": [
    "<br/><br/>\n",
    "\n",
    "Let's build a DataFrame to store this information:"
   ]
  },
  {
   "cell_type": "code",
   "execution_count": 63,
   "metadata": {},
   "outputs": [
    {
     "data": {
      "text/html": [
       "<div>\n",
       "<style scoped>\n",
       "    .dataframe tbody tr th:only-of-type {\n",
       "        vertical-align: middle;\n",
       "    }\n",
       "\n",
       "    .dataframe tbody tr th {\n",
       "        vertical-align: top;\n",
       "    }\n",
       "\n",
       "    .dataframe thead th {\n",
       "        text-align: right;\n",
       "    }\n",
       "</style>\n",
       "<table border=\"1\" class=\"dataframe\">\n",
       "  <thead>\n",
       "    <tr style=\"text-align: right;\">\n",
       "      <th></th>\n",
       "      <th>X</th>\n",
       "      <th>Y</th>\n",
       "      <th>P(Y = 1 | x)</th>\n",
       "      <th>Y_hat</th>\n",
       "    </tr>\n",
       "  </thead>\n",
       "  <tbody>\n",
       "    <tr>\n",
       "      <th>0</th>\n",
       "      <td>11.800</td>\n",
       "      <td>0</td>\n",
       "      <td>0.044292</td>\n",
       "      <td>0</td>\n",
       "    </tr>\n",
       "    <tr>\n",
       "      <th>1</th>\n",
       "      <td>17.020</td>\n",
       "      <td>1</td>\n",
       "      <td>0.905593</td>\n",
       "      <td>1</td>\n",
       "    </tr>\n",
       "    <tr>\n",
       "      <th>2</th>\n",
       "      <td>9.683</td>\n",
       "      <td>0</td>\n",
       "      <td>0.005302</td>\n",
       "      <td>0</td>\n",
       "    </tr>\n",
       "    <tr>\n",
       "      <th>3</th>\n",
       "      <td>10.950</td>\n",
       "      <td>1</td>\n",
       "      <td>0.019077</td>\n",
       "      <td>0</td>\n",
       "    </tr>\n",
       "    <tr>\n",
       "      <th>4</th>\n",
       "      <td>19.440</td>\n",
       "      <td>1</td>\n",
       "      <td>0.991278</td>\n",
       "      <td>1</td>\n",
       "    </tr>\n",
       "    <tr>\n",
       "      <th>...</th>\n",
       "      <td>...</td>\n",
       "      <td>...</td>\n",
       "      <td>...</td>\n",
       "      <td>...</td>\n",
       "    </tr>\n",
       "    <tr>\n",
       "      <th>359</th>\n",
       "      <td>15.000</td>\n",
       "      <td>0</td>\n",
       "      <td>0.549188</td>\n",
       "      <td>1</td>\n",
       "    </tr>\n",
       "    <tr>\n",
       "      <th>360</th>\n",
       "      <td>12.880</td>\n",
       "      <td>0</td>\n",
       "      <td>0.122567</td>\n",
       "      <td>0</td>\n",
       "    </tr>\n",
       "    <tr>\n",
       "      <th>361</th>\n",
       "      <td>15.500</td>\n",
       "      <td>1</td>\n",
       "      <td>0.669999</td>\n",
       "      <td>1</td>\n",
       "    </tr>\n",
       "    <tr>\n",
       "      <th>362</th>\n",
       "      <td>21.100</td>\n",
       "      <td>1</td>\n",
       "      <td>0.998389</td>\n",
       "      <td>1</td>\n",
       "    </tr>\n",
       "    <tr>\n",
       "      <th>363</th>\n",
       "      <td>18.310</td>\n",
       "      <td>1</td>\n",
       "      <td>0.972849</td>\n",
       "      <td>1</td>\n",
       "    </tr>\n",
       "  </tbody>\n",
       "</table>\n",
       "<p>364 rows × 4 columns</p>\n",
       "</div>"
      ],
      "text/plain": [
       "          X  Y  P(Y = 1 | x)  Y_hat\n",
       "0    11.800  0      0.044292      0\n",
       "1    17.020  1      0.905593      1\n",
       "2     9.683  0      0.005302      0\n",
       "3    10.950  1      0.019077      0\n",
       "4    19.440  1      0.991278      1\n",
       "..      ... ..           ...    ...\n",
       "359  15.000  0      0.549188      1\n",
       "360  12.880  0      0.122567      0\n",
       "361  15.500  1      0.669999      1\n",
       "362  21.100  1      0.998389      1\n",
       "363  18.310  1      0.972849      1\n",
       "\n",
       "[364 rows x 4 columns]"
      ]
     },
     "execution_count": 63,
     "metadata": {},
     "output_type": "execute_result"
    }
   ],
   "source": [
    "# in case you want to see all of the probabilities and predictions\n",
    "def make_prediction_df(X, Y, model):\n",
    "    # assume X has one feature and that model is already fit \n",
    "    Prob = model.predict_proba(X)\n",
    "    Y_hat = model.predict(X)\n",
    "    df = pd.DataFrame({\"X\": X.squeeze(),\n",
    "                       \"Y\": Y,\n",
    "                       \"P(Y = 1 | x)\": Prob[:,1],\n",
    "                       \"Y_hat\": Y_hat})\n",
    "    return df\n",
    "    \n",
    "predict_train_df = make_prediction_df(X, Y, model)\n",
    "predict_train_df"
   ]
  },
  {
   "cell_type": "code",
   "execution_count": null,
   "metadata": {},
   "outputs": [],
   "source": [
    "\n",
    "    "
   ]
  },
  {
   "cell_type": "markdown",
   "metadata": {
    "tags": []
   },
   "source": [
    "---\n",
    "\n",
    "<br/><br/><br/>\n",
    "\n",
    "# Performance Metrics"
   ]
  },
  {
   "cell_type": "code",
   "execution_count": null,
   "metadata": {},
   "outputs": [],
   "source": [
    "X_val = data_val[['mean radius']].to_numpy()\n",
    "Y_val = data_val['malignant'].to_numpy()"
   ]
  },
  {
   "cell_type": "markdown",
   "metadata": {},
   "source": [
    "<br/>\n",
    "\n",
    "### Accuracy\n",
    "\n",
    "First, let's compute the **accuracy** of our `model` on our **training** dataset.\n",
    "\n"
   ]
  },
  {
   "cell_type": "code",
   "execution_count": null,
   "metadata": {},
   "outputs": [],
   "source": [
    "def accuracy(X, Y):\n",
    "    return np.mean(model.predict(X) == Y)\n"
   ]
  },
  {
   "cell_type": "code",
   "execution_count": null,
   "metadata": {},
   "outputs": [],
   "source": [
    "# training accuracy\n",
    "print(\"Training set accuracy:\",accuracy(X, Y))"
   ]
  },
  {
   "cell_type": "markdown",
   "metadata": {},
   "source": [
    "As per usual, `scikit-learn` can do this for us. The `.score` method of a `LogisticRegression` classifier gives us the accuracy of it."
   ]
  },
  {
   "cell_type": "code",
   "execution_count": null,
   "metadata": {},
   "outputs": [],
   "source": [
    "# Accuracy for training set:\n",
    "model.score(X, Y)"
   ]
  },
  {
   "cell_type": "markdown",
   "metadata": {},
   "source": [
    "We can visualize this in the plot below."
   ]
  },
  {
   "cell_type": "code",
   "execution_count": null,
   "metadata": {},
   "outputs": [],
   "source": []
  },
  {
   "cell_type": "code",
   "execution_count": null,
   "metadata": {},
   "outputs": [],
   "source": [
    "def threshold_plot(t, X, Y, Prob_hat_one):\n",
    "    preds = (model.predict_proba(X)[:,1] >= t)\n",
    "    fig = plt.figure()\n",
    "    color_palette = {False:'red', True:'green'}\n",
    "    fig = sns.stripplot(x=X.squeeze(), y=preds, \n",
    "              jitter = 0.1, orient='h', hue= preds==Y, \n",
    "              palette = color_palette);\n",
    "    plt.gca().invert_yaxis()\n",
    "    plt.xlabel('x: mean radius')\n",
    "    plt.ylabel(r'$\\hat{y}$: predicted class')\n",
    "    plt.xlim((7, 30))\n",
    "    plt.axhline(y=t, label='T = {}'.format(t))\n",
    "    f = sns.lineplot(x= X.squeeze(), y=Prob_hat_one,\n",
    "                 color='blue', linewidth=3)\n",
    "    plt.setp(f.get_legend().get_texts(), fontsize='10');\n",
    "    plt.title(\"Predicted classes if T = {}\".format(t))\n",
    "    plt.legend().remove()\n",
    "    "
   ]
  },
  {
   "cell_type": "markdown",
   "metadata": {},
   "source": [
    "Recall that sklearn's `model.predict()` will predict 1 if $P(Y = 1 | x) \\geq 0.5$, and 0 otherwise."
   ]
  },
  {
   "cell_type": "code",
   "execution_count": null,
   "metadata": {},
   "outputs": [],
   "source": [
    "threshold_plot(0.50, X, Y, model.predict_proba(X)[:, 1])"
   ]
  },
  {
   "cell_type": "markdown",
   "metadata": {},
   "source": [
    "So 87.6% of all the datapoints are green.  (The red datapoints represent data that was incorrectly classified by our model.\n",
    "\n",
    "What about our **validation** set?\n"
   ]
  },
  {
   "cell_type": "code",
   "execution_count": null,
   "metadata": {},
   "outputs": [],
   "source": [
    "threshold_plot(0.50, X_val, Y_val, model.predict_proba(X_val)[:, 1])"
   ]
  },
  {
   "cell_type": "code",
   "execution_count": null,
   "metadata": {},
   "outputs": [],
   "source": [
    "print(\"Validation set accuracy:\",accuracy(X_val, Y_val))"
   ]
  },
  {
   "cell_type": "code",
   "execution_count": null,
   "metadata": {},
   "outputs": [],
   "source": [
    "# Accuracy for validation set set:\n",
    "model.score(X_val, Y_val)"
   ]
  },
  {
   "cell_type": "markdown",
   "metadata": {},
   "source": [
    "### Precision and Recall\n"
   ]
  },
  {
   "cell_type": "markdown",
   "metadata": {},
   "source": [
    "It seems we can get a very high accuracy. What about precision and recall?  \n",
    "- **Precision** (also called positive predictive value) is the fraction of true positives among the total number of data points predicted as positive.  \n",
    "- **Recall** (also known as sensitivity) is the fraction of true positives among the total number of data points with positive labels.\n",
    "\n",
    "Precision measures the ability of our classifier to not predict negative samples as positive (i.e., avoid false positives), while recall is the ability of the classifier to find all the positive samples (i.e., avoid false negatives).\n",
    "\n",
    "Below is a graphical illustration of precision and recall, modified slightly from [Wikipedia](https://en.wikipedia.org/wiki/Precision_and_recall):\n",
    "\n",
    "![alternative text](images/precision_recall.png)\n",
    "\n",
    "\n",
    "Mathematically, Precision and Recall are defined as:\n",
    "$$\n",
    "\\text{Precision} = \\frac{n_{true\\_positives}}{n_{true\\_positives} + n_{false\\_positives}} = \\frac{TP}{TP+FP}\n",
    "$$\n",
    "\n",
    "$$\n",
    "\\text{Recall} = \\frac{n_{true\\_positives}}{n_{true\\_positives} + n_{false\\_negatives}}=\\frac{TP}{TP+FN}\n",
    "$$\n",
    "\n",
    "Use the formulas above to compute the precision and recall for the **validation set** using the `lr` model trained using sklearn."
   ]
  },
  {
   "cell_type": "code",
   "execution_count": null,
   "metadata": {},
   "outputs": [],
   "source": [
    "Y_hat_val = model.predict(X_val)\n",
    "tp = np.sum((Y_hat_val == 1) & (Y_val == 1))\n",
    "tn = np.sum((Y_hat_val == 0) & (Y_val == 0))\n",
    "\n",
    "fp = np.sum((Y_hat_val == 1) & (Y_val == 0))\n",
    "fn = np.sum((Y_hat_val == 0) & (Y_val == 1))\n",
    "tp, tn, fp, fn"
   ]
  },
  {
   "cell_type": "code",
   "execution_count": null,
   "metadata": {},
   "outputs": [],
   "source": [
    "precision = tp / (tp + fp)\n",
    "precision"
   ]
  },
  {
   "cell_type": "code",
   "execution_count": null,
   "metadata": {},
   "outputs": [],
   "source": [
    "recall = tp / (tp + fn)\n",
    "recall"
   ]
  },
  {
   "cell_type": "markdown",
   "metadata": {},
   "source": [
    "It's important to remember that these values are all for the threshold of $T = 0.5$, which is `scikit-learn`'s default."
   ]
  },
  {
   "cell_type": "markdown",
   "metadata": {},
   "source": [
    "## Confusion matrix and Built-In Scipy Functions to Calculate Precision and Recall\n",
    "\n",
    "Our good old friend `scikit-learn` has an in-built confusion matrix method (of course it does)."
   ]
  },
  {
   "cell_type": "code",
   "execution_count": null,
   "metadata": {},
   "outputs": [],
   "source": [
    "from sklearn.metrics import confusion_matrix\n",
    "\n",
    "# Be careful – confusion_matrix takes in y_true as the first parameter and y_pred as the second.\n",
    "# Don't mix these up!\n",
    "cm = confusion_matrix(Y_val, model.predict(X_val))\n",
    "cm"
   ]
  },
  {
   "cell_type": "code",
   "execution_count": null,
   "metadata": {
    "scrolled": true
   },
   "outputs": [],
   "source": [
    "\n",
    "plt.figure(figsize=(4,4))\n",
    "sns.heatmap(cm, annot=True, fmt = 'd', cmap = 'Blues', annot_kws = {'size': 16})\n",
    "plt.xlabel('Predicted')\n",
    "plt.ylabel('Actual');\n",
    "savefig(\"cm\")"
   ]
  },
  {
   "cell_type": "code",
   "execution_count": null,
   "metadata": {},
   "outputs": [],
   "source": [
    "from sklearn.metrics import precision_score\n",
    "\n",
    "precision_score(Y_val, Y_hat_val)"
   ]
  },
  {
   "cell_type": "code",
   "execution_count": null,
   "metadata": {},
   "outputs": [],
   "source": [
    "from sklearn.metrics import recall_score\n",
    "recall_score(Y_val, Y_hat_val)"
   ]
  },
  {
   "cell_type": "markdown",
   "metadata": {},
   "source": [
    "These numbers match what we calculated manually  above."
   ]
  },
  {
   "cell_type": "markdown",
   "metadata": {
    "tags": []
   },
   "source": [
    "---\n",
    "\n",
    "<br/><br/>\n",
    "\n",
    "# Adjusting the Classification Threshold\n",
    "\n",
    "What does a prediction of 1 mean with the default sklearn threshold of $T = 0.5$?"
   ]
  },
  {
   "cell_type": "code",
   "execution_count": null,
   "metadata": {},
   "outputs": [],
   "source": [
    "Prob_hat_one = model.predict_proba(X)[:, 1]\n",
    "\n",
    "plt.figure(figsize=(4,4))\n",
    "sns.stripplot(x=X.squeeze(), y=Y, \n",
    "              jitter = 0.1, orient='h');\n",
    "sns.lineplot(x= X.squeeze(), y=Prob_hat_one,\n",
    "             color='green', linewidth=5, label=r'$\\hat{P}_{\\theta}(Y = 1 | x)$')\n",
    "plt.gca().invert_yaxis()\n",
    "plt.xlabel('x: mean radius')\n",
    "plt.ylabel('y: class')\n",
    "plt.title(\"True classes and model fit\")\n",
    "plt.legend().remove()\n",
    "savefig(\"true\")"
   ]
  },
  {
   "cell_type": "markdown",
   "metadata": {},
   "source": [
    "What if we choose different thresholds?"
   ]
  },
  {
   "cell_type": "code",
   "execution_count": null,
   "metadata": {},
   "outputs": [],
   "source": [
    "threshold_plot(0.50, X_val, Y_val, model.predict_proba(X_val)[:, 1])\n",
    "threshold_plot(0.10, X_val, Y_val, model.predict_proba(X_val)[:, 1])\n",
    "threshold_plot(0.75, X_val, Y_val, model.predict_proba(X_val)[:, 1])"
   ]
  },
  {
   "cell_type": "markdown",
   "metadata": {
    "tags": []
   },
   "source": [
    "<br/><br/>\n",
    "\n",
    "# Choosing a Threshold\n",
    "\n",
    "What is the best threshold for a given performance metric?\n",
    "\n",
    "This depends on what we're using the data for.\n",
    "\n"
   ]
  },
  {
   "cell_type": "markdown",
   "metadata": {},
   "source": [
    "## Accuracy vs. threshold, Precision vs. threshold, Recall vs. threshold\n",
    "\n",
    "First we'll create a function `predict_threshold`, which takes in a model, X,  and a threshold and computes the predicted labels (1s and 0s) at that threshold.\n"
   ]
  },
  {
   "cell_type": "code",
   "execution_count": null,
   "metadata": {},
   "outputs": [],
   "source": [
    "def predict_threshold(model, X, T): \n",
    "    prob_one = model.predict_proba(X)[:, 1]\n",
    "    return (prob_one >= T).astype(int)"
   ]
  },
  {
   "cell_type": "markdown",
   "metadata": {},
   "source": [
    "Let's also create our own `accuracy_custom_threshold` function, that takes in\n",
    "- a `model`\n",
    "- a true `y`\n",
    "- an `x`\n",
    "- a `threshold`\n",
    "\n",
    "And returns the accuracy of the predictions for our `model` with that threshold. Note that this function is not specific to our `model`, so we can use it later."
   ]
  },
  {
   "cell_type": "code",
   "execution_count": null,
   "metadata": {},
   "outputs": [],
   "source": [
    "def accuracy_custom_threshold(model, X, y, threshold):\n",
    "    y_pred = predict_threshold(model, X, threshold)\n",
    "    return np.mean(y_pred == y)"
   ]
  },
  {
   "cell_type": "code",
   "execution_count": null,
   "metadata": {},
   "outputs": [],
   "source": [
    "accuracy_custom_threshold(model,X_val, Y_val, 0.5)"
   ]
  },
  {
   "cell_type": "markdown",
   "metadata": {},
   "source": [
    "This is the same accuracy that `model.score` gave us before, so we should be good to go.\n",
    "\n",
    "Let's plot what this accuracy looks like, for various thresholds:"
   ]
  },
  {
   "cell_type": "code",
   "execution_count": null,
   "metadata": {},
   "outputs": [],
   "source": [
    "thresholds = np.linspace(0, .99, 100)\n",
    "accs = [accuracy_custom_threshold(model,X_val, Y_val,\n",
    "                                  t) for t in thresholds]"
   ]
  },
  {
   "cell_type": "code",
   "execution_count": null,
   "metadata": {},
   "outputs": [],
   "source": [
    "fig = px.line(x=thresholds, y=accs)\n",
    "fig.update_xaxes(title=\"Threshold\")\n",
    "fig.update_yaxes(title=\"Validation Accuracy\")"
   ]
  },
  {
   "cell_type": "code",
   "execution_count": null,
   "metadata": {},
   "outputs": [],
   "source": [
    "# The threshold that maximizes validation accuracy\n",
    "np.argmax(accs)"
   ]
  },
  {
   "cell_type": "markdown",
   "metadata": {},
   "source": [
    "<br/>\n",
    "<br/>\n",
    "\n",
    "In practice we should use **cross validation** to see what threshold maximizes accuracy. (We'll do this on the entire train/val set:)"
   ]
  },
  {
   "cell_type": "code",
   "execution_count": null,
   "metadata": {},
   "outputs": [],
   "source": [
    "X_tr_val = data_tr_val[['mean radius']].to_numpy()\n",
    "Y_tr_val = data_tr_val['malignant'].to_numpy()"
   ]
  },
  {
   "cell_type": "code",
   "execution_count": null,
   "metadata": {},
   "outputs": [],
   "source": [
    "def predict_threshold(model, X, T): \n",
    "    prob_one = model.predict_proba(X)[:, 1]\n",
    "    return (prob_one >= T).astype(int)"
   ]
  },
  {
   "cell_type": "code",
   "execution_count": null,
   "metadata": {},
   "outputs": [],
   "source": [
    "from sklearn import metrics\n",
    "\n",
    "# Used for sklearn's cross_val_score\n",
    "def make_scorer(metric, T):\n",
    "    return lambda model, X, Y: metric(Y_tr_val, predict_threshold(model, X_tr_val, T)) \n",
    "\n",
    "def acc_scorer(T):\n",
    "    return make_scorer(metrics.accuracy_score, T)"
   ]
  },
  {
   "cell_type": "code",
   "execution_count": null,
   "metadata": {},
   "outputs": [],
   "source": [
    "from sklearn.model_selection import cross_val_score\n",
    "cv_accs = [\n",
    "    np.mean(cross_val_score(model, X_tr_val, Y_tr_val, \n",
    "                            scoring=acc_scorer(t), \n",
    "                            cv=5))\n",
    "    for t in thresholds\n",
    "]"
   ]
  },
  {
   "cell_type": "code",
   "execution_count": null,
   "metadata": {},
   "outputs": [],
   "source": [
    "fig = px.line(x=thresholds, y=cv_accs, title=\"Cross-Validated Accuracy vs. Threshold\")\n",
    "fig.update_xaxes(title=\"threshold\")\n",
    "fig.update_yaxes(title=\"Accuracy\")"
   ]
  },
  {
   "cell_type": "code",
   "execution_count": null,
   "metadata": {},
   "outputs": [],
   "source": [
    "# The threshold that maximizes cross-validation accuracy\n",
    "np.argmax(cv_accs)"
   ]
  },
  {
   "cell_type": "markdown",
   "metadata": {},
   "source": [
    "We will make similar helper functions for precision and recall, and make similar plots."
   ]
  },
  {
   "cell_type": "code",
   "execution_count": null,
   "metadata": {},
   "outputs": [],
   "source": [
    "def precision_custom_threshold(model, X, y, threshold):\n",
    "    y_pred = predict_threshold(model, X, threshold)\n",
    "    tp = np.sum((y_pred == 1) & (y == 1))\n",
    "    fp = np.sum((y_pred == 1) & (y == 0))\n",
    "    return tp / (tp + fp)\n",
    "\n",
    "\n",
    "precision_custom_threshold(model, X_val, Y_val, 0.5)"
   ]
  },
  {
   "cell_type": "code",
   "execution_count": null,
   "metadata": {},
   "outputs": [],
   "source": [
    "def recall_custom_threshold(model, X, y, threshold):\n",
    "    y_pred = predict_threshold(model, X, threshold)\n",
    "    tp = np.sum((y_pred == 1) & (y == 1))\n",
    "    fn = np.sum((y_pred == 0) & (y == 1))\n",
    "    return tp / (tp + fn)\n",
    "\n",
    "recall_custom_threshold(model, X_val, Y_val, 0.5)"
   ]
  },
  {
   "cell_type": "code",
   "execution_count": null,
   "metadata": {},
   "outputs": [],
   "source": [
    "precs = [precision_custom_threshold(model, X_val, Y_val,\n",
    "                                  t) for t in thresholds]\n",
    "\n",
    "recs = [recall_custom_threshold(model, X_val, Y_val,t) for t in thresholds]"
   ]
  },
  {
   "cell_type": "code",
   "execution_count": null,
   "metadata": {},
   "outputs": [],
   "source": [
    "fig = go.Figure()\n",
    "fig.add_trace(go.Scatter(name = 'Precision', x = thresholds, y = precs))\n",
    "fig.add_trace(go.Scatter(name = 'Recall', x = thresholds, y = recs))\n",
    "fig.update_xaxes(title=\"Threshold\")\n",
    "fig.update_yaxes(title=\"Proportion\")\n",
    "fig.update_layout(width=600, height=600)"
   ]
  },
  {
   "cell_type": "markdown",
   "metadata": {},
   "source": [
    "## Precision-Recall Curves\n",
    "\n",
    "We can also plot precision vs. recall."
   ]
  },
  {
   "cell_type": "code",
   "execution_count": null,
   "metadata": {},
   "outputs": [],
   "source": [
    "fig = px.line(x=recs, y=precs, hover_name=thresholds)\n",
    "fig.update_xaxes(title=\"Recall\")\n",
    "fig.update_yaxes(title=\"Precision\")"
   ]
  },
  {
   "cell_type": "markdown",
   "metadata": {},
   "source": [
    "`scikit-learn` can also do this for us."
   ]
  },
  {
   "cell_type": "code",
   "execution_count": null,
   "metadata": {},
   "outputs": [],
   "source": [
    "from sklearn.metrics import precision_recall_curve"
   ]
  },
  {
   "cell_type": "code",
   "execution_count": null,
   "metadata": {},
   "outputs": [],
   "source": [
    "precision, recall, threshold = (\n",
    "    metrics.precision_recall_curve(Y_val, model.predict_proba(X_val)[:, 1]))\n",
    "\n",
    "tpr_df = pd.DataFrame({\"threshold\":threshold, \n",
    "                       \"precision\":precision[:-1], \"recall\": recall[:-1], })\n"
   ]
  },
  {
   "cell_type": "code",
   "execution_count": null,
   "metadata": {},
   "outputs": [],
   "source": [
    "fig = px.line(x=recall[:-1], y = precision[:-1], hover_name=threshold)\n",
    "fig.update_xaxes(title=\"Recall\")\n",
    "fig.update_yaxes(title=\"Precision\")\n",
    "fig"
   ]
  },
  {
   "cell_type": "markdown",
   "metadata": {},
   "source": [
    "Same thing, just a bit more granular.\n"
   ]
  },
  {
   "cell_type": "markdown",
   "metadata": {},
   "source": [
    "## ROC Curves"
   ]
  },
  {
   "cell_type": "markdown",
   "metadata": {},
   "source": [
    "<br/><br/>\n",
    "\n",
    "\n",
    "\n",
    "This is the curve of False Positive vs True Positive for different thresholds.  \n",
    "\n",
    "To start, we'll plot the TPR and FPR rates vs. threshold:"
   ]
  },
  {
   "cell_type": "code",
   "execution_count": null,
   "metadata": {},
   "outputs": [],
   "source": [
    "bc_model = model        # Fit to breast cancer dataset\n",
    "def predict_threshold(model, X, T): \n",
    "    prob_one = model.predict_proba(X)[:, 1]\n",
    "    return (prob_one >= T).astype(int)\n",
    "\n",
    "\n",
    "def tpr_threshold(X, Y, T): # This is recall\n",
    "    Y_hat = predict_threshold(bc_model, X, T)\n",
    "    return np.sum((Y_hat == 1) & (Y == 1)) / np.sum(Y == 1)\n",
    "\n",
    "def fpr_threshold(X, Y, T):\n",
    "    Y_hat = predict_threshold(bc_model, X, T)\n",
    "    return np.sum((Y_hat == 1) & (Y == 0)) / np.sum(Y == 0)\n"
   ]
  },
  {
   "cell_type": "code",
   "execution_count": null,
   "metadata": {},
   "outputs": [],
   "source": [
    "# Compute for different thresholds on train set\n",
    "thresholds = np.linspace(0, 1, 100)\n",
    "tprs = [tpr_threshold(X_val, Y_val, t) for t in thresholds]\n",
    "fprs = [fpr_threshold(X_val, Y_val, t) for t in thresholds]"
   ]
  },
  {
   "cell_type": "code",
   "execution_count": null,
   "metadata": {},
   "outputs": [],
   "source": [
    "fig = go.Figure()\n",
    "fig.add_trace(go.Scatter(name = 'TPR', x = thresholds, y = tprs))\n",
    "fig.add_trace(go.Scatter(name = 'FPR', x = thresholds, y = fprs))\n",
    "fig.update_xaxes(title=\"Threshold\")\n",
    "fig.update_yaxes(title=\"Proportion\")"
   ]
  },
  {
   "cell_type": "markdown",
   "metadata": {},
   "source": [
    "Some observations:\n",
    "* T = 0 means everything is positive.\n",
    "    * Then there are no TN (all of them are FP). → FPR = 1\n",
    "    * We identified all true 1’s as 1, so TPR = recall = 1\n",
    "* T = 1 means everything is negative.\n",
    "    * Then there are no FP (all of them are TN). → FPR = 0\n",
    "    * We identified zero true 1’s as 1, so TPR = recall = 0\n",
    "\n",
    "In other words, TPR and FPR are both inversely proportional to the classification threshold T.\n",
    "\n",
    "As we increase T, both TPR and FPR decrease.\n",
    "* A decreased TPR is bad (detecting fewer positives).\n",
    "* A decreased FPR is good (fewer false positives)."
   ]
  },
  {
   "cell_type": "markdown",
   "metadata": {},
   "source": [
    "\n",
    "\n",
    "## Putting this all together: ROC curve\n"
   ]
  },
  {
   "cell_type": "code",
   "execution_count": null,
   "metadata": {},
   "outputs": [],
   "source": [
    "fig = px.line(x=fprs, y = tprs, hover_name=thresholds, title=\"ROC Curve\")\n",
    "fig.update_xaxes(title=\"False Positive Rate\")\n",
    "fig.update_yaxes(title=\"True Positive Rate\")\n",
    "fig"
   ]
  },
  {
   "cell_type": "markdown",
   "metadata": {},
   "source": [
    " We can measure how \"good\" this curve is using the Area Under the Curve.  The closer this number is to 1, the \"better\" this  model is.  \n",
    " \n"
   ]
  },
  {
   "cell_type": "code",
   "execution_count": null,
   "metadata": {},
   "outputs": [],
   "source": [
    "\n",
    "metrics.roc_auc_score(Y_val, model.predict_proba(X_val)[:, 1])\n",
    "\n"
   ]
  },
  {
   "cell_type": "markdown",
   "metadata": {},
   "source": [
    "Or, using built-in methods from sklearn:"
   ]
  },
  {
   "cell_type": "code",
   "execution_count": null,
   "metadata": {},
   "outputs": [],
   "source": [
    "from sklearn.metrics import roc_curve"
   ]
  },
  {
   "cell_type": "code",
   "execution_count": null,
   "metadata": {},
   "outputs": [],
   "source": [
    "fpr, tpr, threshold = roc_curve(Y_val, model.predict_proba(X_val)[:, 1])"
   ]
  },
  {
   "cell_type": "code",
   "execution_count": null,
   "metadata": {},
   "outputs": [],
   "source": [
    "fig = px.line(x=fpr, y = tpr, hover_name=threshold)\n",
    "fig.update_xaxes(title=\"False Positive Rate\")\n",
    "fig.update_yaxes(title=\"True Positive Rate\")\n",
    "fig"
   ]
  },
  {
   "cell_type": "markdown",
   "metadata": {},
   "source": [
    "For a random classifier:"
   ]
  },
  {
   "cell_type": "code",
   "execution_count": null,
   "metadata": {},
   "outputs": [],
   "source": [
    "fpr, tpr, threshold = roc_curve(Y_val, np.random.uniform(0, 1, len(Y_val)))"
   ]
  },
  {
   "cell_type": "code",
   "execution_count": null,
   "metadata": {},
   "outputs": [],
   "source": [
    "fig = px.line(x=fpr, y = tpr, hover_name=threshold)\n",
    "fig.update_xaxes(title=\"False Positive Rate\")\n",
    "fig.update_yaxes(title=\"True Positive Rate\")\n",
    "fig"
   ]
  },
  {
   "cell_type": "code",
   "execution_count": null,
   "metadata": {},
   "outputs": [],
   "source": []
  }
 ],
 "metadata": {
  "kernelspec": {
   "display_name": "Python 3 (ipykernel)",
   "language": "python",
   "name": "python3"
  },
  "language_info": {
   "codemirror_mode": {
    "name": "ipython",
    "version": 3
   },
   "file_extension": ".py",
   "mimetype": "text/x-python",
   "name": "python",
   "nbconvert_exporter": "python",
   "pygments_lexer": "ipython3",
   "version": "3.10.8"
  }
 },
 "nbformat": 4,
 "nbformat_minor": 4
}
