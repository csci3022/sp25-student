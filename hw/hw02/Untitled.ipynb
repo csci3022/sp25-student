{
 "cells": [
  {
   "cell_type": "code",
   "execution_count": 1,
   "id": "06758588-c39d-4ec6-ada4-d525469ef3b5",
   "metadata": {},
   "outputs": [],
   "source": [
    "import numpy as np"
   ]
  },
  {
   "cell_type": "code",
   "execution_count": 17,
   "id": "e1b68905-7f98-4478-855e-a99932afa90b",
   "metadata": {},
   "outputs": [],
   "source": [
    "a=[4, 14, 25, 100, 210]"
   ]
  },
  {
   "cell_type": "code",
   "execution_count": 25,
   "id": "da748a76-9488-433b-a198-b2d28ec462a1",
   "metadata": {},
   "outputs": [
    {
     "data": {
      "text/plain": [
       "210.0"
      ]
     },
     "execution_count": 25,
     "metadata": {},
     "output_type": "execute_result"
    }
   ],
   "source": [
    "np.percentile(a, 100)"
   ]
  },
  {
   "cell_type": "code",
   "execution_count": 11,
   "id": "a3ddfe84-f852-4e4a-a498-012c20b2c339",
   "metadata": {},
   "outputs": [
    {
     "data": {
      "text/plain": [
       "0.4"
      ]
     },
     "execution_count": 11,
     "metadata": {},
     "output_type": "execute_result"
    }
   ],
   "source": []
  },
  {
   "cell_type": "code",
   "execution_count": 13,
   "id": "c462c480-a00d-408c-adb2-e54a727b397f",
   "metadata": {},
   "outputs": [
    {
     "data": {
      "text/plain": [
       "20.6"
      ]
     },
     "execution_count": 13,
     "metadata": {},
     "output_type": "execute_result"
    }
   ],
   "source": [
    "np.percentile(a, 40)"
   ]
  },
  {
   "cell_type": "code",
   "execution_count": 27,
   "id": "82cd806e-b9f2-4315-8c7f-8b59247451b7",
   "metadata": {},
   "outputs": [
    {
     "data": {
      "text/plain": [
       "0.7063492063492063"
      ]
     },
     "execution_count": 27,
     "metadata": {},
     "output_type": "execute_result"
    }
   ],
   "source": [
    "1/3*(2/7+5/6+3/3)"
   ]
  },
  {
   "cell_type": "code",
   "execution_count": 29,
   "id": "dabe187e-2b83-45c4-8914-86d647118965",
   "metadata": {},
   "outputs": [
    {
     "data": {
      "text/plain": [
       "0.625"
      ]
     },
     "execution_count": 29,
     "metadata": {},
     "output_type": "execute_result"
    }
   ],
   "source": [
    "10/(7+6+3)"
   ]
  },
  {
   "cell_type": "code",
   "execution_count": 31,
   "id": "a89fc60e-bd3f-4b00-91d2-e529cf42ba6a",
   "metadata": {},
   "outputs": [
    {
     "data": {
      "text/plain": [
       "0.47619047619047616"
      ]
     },
     "execution_count": 31,
     "metadata": {},
     "output_type": "execute_result"
    }
   ],
   "source": [
    "1/3*(2/7+5/7+3/7)"
   ]
  },
  {
   "cell_type": "code",
   "execution_count": 33,
   "id": "06bc560a-7552-4faf-9910-88d3bb21d23b",
   "metadata": {},
   "outputs": [
    {
     "data": {
      "text/plain": [
       "0.47619047619047616"
      ]
     },
     "execution_count": 33,
     "metadata": {},
     "output_type": "execute_result"
    }
   ],
   "source": [
    "(2+5+3)/21"
   ]
  },
  {
   "cell_type": "code",
   "execution_count": null,
   "id": "a64b0e53-f629-4797-9966-f98ab8134770",
   "metadata": {},
   "outputs": [],
   "source": []
  }
 ],
 "metadata": {
  "kernelspec": {
   "display_name": "Python [conda env:base] *",
   "language": "python",
   "name": "conda-base-py"
  },
  "language_info": {
   "codemirror_mode": {
    "name": "ipython",
    "version": 3
   },
   "file_extension": ".py",
   "mimetype": "text/x-python",
   "name": "python",
   "nbconvert_exporter": "python",
   "pygments_lexer": "ipython3",
   "version": "3.12.7"
  }
 },
 "nbformat": 4,
 "nbformat_minor": 5
}
